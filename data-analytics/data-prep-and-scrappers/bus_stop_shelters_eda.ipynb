{
 "cells": [
  {
   "cell_type": "code",
   "execution_count": 1,
   "metadata": {},
   "outputs": [],
   "source": [
    "import pandas as pd\n",
    "import numpy as np\n",
    "import geopandas as gpd"
   ]
  },
  {
   "cell_type": "code",
   "execution_count": 2,
   "metadata": {},
   "outputs": [],
   "source": [
    "df = pd.read_csv('./datasets/Bus_Stop_Shelter.csv')"
   ]
  },
  {
   "cell_type": "code",
   "execution_count": 67,
   "metadata": {},
   "outputs": [
    {
     "data": {
      "text/plain": [
       "(3330, 18)"
      ]
     },
     "execution_count": 67,
     "metadata": {},
     "output_type": "execute_result"
    }
   ],
   "source": [
    "df.shape"
   ]
  },
  {
   "cell_type": "code",
   "execution_count": 3,
   "metadata": {},
   "outputs": [
    {
     "data": {
      "text/html": [
       "<div>\n",
       "<style scoped>\n",
       "    .dataframe tbody tr th:only-of-type {\n",
       "        vertical-align: middle;\n",
       "    }\n",
       "\n",
       "    .dataframe tbody tr th {\n",
       "        vertical-align: top;\n",
       "    }\n",
       "\n",
       "    .dataframe thead th {\n",
       "        text-align: right;\n",
       "    }\n",
       "</style>\n",
       "<table border=\"1\" class=\"dataframe\">\n",
       "  <thead>\n",
       "    <tr style=\"text-align: right;\">\n",
       "      <th></th>\n",
       "      <th>the_geom</th>\n",
       "      <th>BoroCode</th>\n",
       "      <th>BoroName</th>\n",
       "      <th>BoroCD</th>\n",
       "      <th>CounDist</th>\n",
       "      <th>AssemDist</th>\n",
       "      <th>StSenDist</th>\n",
       "      <th>CongDist</th>\n",
       "      <th>Shelter_ID</th>\n",
       "      <th>Corner</th>\n",
       "      <th>On_Street</th>\n",
       "      <th>Cross_Stre</th>\n",
       "      <th>Longitude</th>\n",
       "      <th>Latitude</th>\n",
       "      <th>NTAName</th>\n",
       "      <th>FEMAFldz</th>\n",
       "      <th>FEMAFldT</th>\n",
       "      <th>HrcEvac</th>\n",
       "    </tr>\n",
       "  </thead>\n",
       "  <tbody>\n",
       "    <tr>\n",
       "      <th>0</th>\n",
       "      <td>POINT (-73.94874357365637 40.64085475597672)</td>\n",
       "      <td>3</td>\n",
       "      <td>Brooklyn</td>\n",
       "      <td>317</td>\n",
       "      <td>45</td>\n",
       "      <td>42</td>\n",
       "      <td>21</td>\n",
       "      <td>9</td>\n",
       "      <td>BR02218</td>\n",
       "      <td>SW</td>\n",
       "      <td>AV D</td>\n",
       "      <td>NOSTRAND AV</td>\n",
       "      <td>-73.948745</td>\n",
       "      <td>40.640863</td>\n",
       "      <td>East Flatbush-Erasmus</td>\n",
       "      <td>X</td>\n",
       "      <td>AREA OF MINIMAL FLOOD HAZARD</td>\n",
       "      <td>5.0</td>\n",
       "    </tr>\n",
       "    <tr>\n",
       "      <th>1</th>\n",
       "      <td>POINT (-74.02283555116742 40.6292447605423)</td>\n",
       "      <td>3</td>\n",
       "      <td>Brooklyn</td>\n",
       "      <td>310</td>\n",
       "      <td>43</td>\n",
       "      <td>46</td>\n",
       "      <td>26</td>\n",
       "      <td>11</td>\n",
       "      <td>BR02219</td>\n",
       "      <td>SW</td>\n",
       "      <td>5 AV</td>\n",
       "      <td>BAY RIDGE PKWY</td>\n",
       "      <td>-74.022837</td>\n",
       "      <td>40.629253</td>\n",
       "      <td>Bay Ridge</td>\n",
       "      <td>X</td>\n",
       "      <td>AREA OF MINIMAL FLOOD HAZARD</td>\n",
       "      <td>NaN</td>\n",
       "    </tr>\n",
       "    <tr>\n",
       "      <th>2</th>\n",
       "      <td>POINT (-73.92467258003798 40.67375874807616)</td>\n",
       "      <td>3</td>\n",
       "      <td>Brooklyn</td>\n",
       "      <td>308</td>\n",
       "      <td>41</td>\n",
       "      <td>55</td>\n",
       "      <td>20</td>\n",
       "      <td>9</td>\n",
       "      <td>BR02220</td>\n",
       "      <td>SE</td>\n",
       "      <td>ST MARKS AV</td>\n",
       "      <td>BUFFALO AV</td>\n",
       "      <td>-73.924674</td>\n",
       "      <td>40.673767</td>\n",
       "      <td>Crown Heights (North)</td>\n",
       "      <td>X</td>\n",
       "      <td>AREA OF MINIMAL FLOOD HAZARD</td>\n",
       "      <td>NaN</td>\n",
       "    </tr>\n",
       "    <tr>\n",
       "      <th>3</th>\n",
       "      <td>POINT (-73.9401345806071 40.578033768126936)</td>\n",
       "      <td>3</td>\n",
       "      <td>Brooklyn</td>\n",
       "      <td>315</td>\n",
       "      <td>48</td>\n",
       "      <td>45</td>\n",
       "      <td>23</td>\n",
       "      <td>8</td>\n",
       "      <td>BR02221</td>\n",
       "      <td>SW</td>\n",
       "      <td>ORIENTAL BLVD</td>\n",
       "      <td>MACKENZIE ST</td>\n",
       "      <td>-73.940136</td>\n",
       "      <td>40.578042</td>\n",
       "      <td>Sheepshead Bay-Manhattan Beach-Gerritsen Beach</td>\n",
       "      <td>X</td>\n",
       "      <td>AREA OF MINIMAL FLOOD HAZARD</td>\n",
       "      <td>1.0</td>\n",
       "    </tr>\n",
       "    <tr>\n",
       "      <th>4</th>\n",
       "      <td>POINT (-73.93991658060635 40.57805676808165)</td>\n",
       "      <td>3</td>\n",
       "      <td>Brooklyn</td>\n",
       "      <td>315</td>\n",
       "      <td>48</td>\n",
       "      <td>45</td>\n",
       "      <td>23</td>\n",
       "      <td>8</td>\n",
       "      <td>BR02222</td>\n",
       "      <td>SW</td>\n",
       "      <td>ORIENTAL BLVD</td>\n",
       "      <td>MACKENZIE ST</td>\n",
       "      <td>-73.939918</td>\n",
       "      <td>40.578065</td>\n",
       "      <td>Sheepshead Bay-Manhattan Beach-Gerritsen Beach</td>\n",
       "      <td>X</td>\n",
       "      <td>AREA OF MINIMAL FLOOD HAZARD</td>\n",
       "      <td>1.0</td>\n",
       "    </tr>\n",
       "  </tbody>\n",
       "</table>\n",
       "</div>"
      ],
      "text/plain": [
       "                                       the_geom  BoroCode  BoroName  BoroCD  \\\n",
       "0  POINT (-73.94874357365637 40.64085475597672)         3  Brooklyn     317   \n",
       "1   POINT (-74.02283555116742 40.6292447605423)         3  Brooklyn     310   \n",
       "2  POINT (-73.92467258003798 40.67375874807616)         3  Brooklyn     308   \n",
       "3  POINT (-73.9401345806071 40.578033768126936)         3  Brooklyn     315   \n",
       "4  POINT (-73.93991658060635 40.57805676808165)         3  Brooklyn     315   \n",
       "\n",
       "   CounDist  AssemDist  StSenDist  CongDist Shelter_ID Corner      On_Street  \\\n",
       "0        45         42         21         9    BR02218     SW           AV D   \n",
       "1        43         46         26        11    BR02219     SW           5 AV   \n",
       "2        41         55         20         9    BR02220     SE    ST MARKS AV   \n",
       "3        48         45         23         8    BR02221     SW  ORIENTAL BLVD   \n",
       "4        48         45         23         8    BR02222     SW  ORIENTAL BLVD   \n",
       "\n",
       "       Cross_Stre  Longitude   Latitude  \\\n",
       "0     NOSTRAND AV -73.948745  40.640863   \n",
       "1  BAY RIDGE PKWY -74.022837  40.629253   \n",
       "2      BUFFALO AV -73.924674  40.673767   \n",
       "3    MACKENZIE ST -73.940136  40.578042   \n",
       "4    MACKENZIE ST -73.939918  40.578065   \n",
       "\n",
       "                                          NTAName FEMAFldz  \\\n",
       "0                           East Flatbush-Erasmus        X   \n",
       "1                                       Bay Ridge        X   \n",
       "2                           Crown Heights (North)        X   \n",
       "3  Sheepshead Bay-Manhattan Beach-Gerritsen Beach        X   \n",
       "4  Sheepshead Bay-Manhattan Beach-Gerritsen Beach        X   \n",
       "\n",
       "                       FEMAFldT  HrcEvac  \n",
       "0  AREA OF MINIMAL FLOOD HAZARD      5.0  \n",
       "1  AREA OF MINIMAL FLOOD HAZARD      NaN  \n",
       "2  AREA OF MINIMAL FLOOD HAZARD      NaN  \n",
       "3  AREA OF MINIMAL FLOOD HAZARD      1.0  \n",
       "4  AREA OF MINIMAL FLOOD HAZARD      1.0  "
      ]
     },
     "execution_count": 3,
     "metadata": {},
     "output_type": "execute_result"
    }
   ],
   "source": [
    "df.head()"
   ]
  },
  {
   "cell_type": "code",
   "execution_count": 4,
   "metadata": {},
   "outputs": [],
   "source": [
    "#drop all columns except for BoroCode, BoroName, and Longitude, Latitude\n",
    "df = df[['NTAName', 'On_Street', 'BoroName', 'Longitude', 'Latitude']]"
   ]
  },
  {
   "cell_type": "code",
   "execution_count": 5,
   "metadata": {},
   "outputs": [
    {
     "data": {
      "text/plain": [
       "array(['Brooklyn', 'Queens', 'Bronx', 'Manhattan', 'Staten Island'],\n",
       "      dtype=object)"
      ]
     },
     "execution_count": 5,
     "metadata": {},
     "output_type": "execute_result"
    }
   ],
   "source": [
    "#get unique BoroName\n",
    "df['BoroName'].unique()"
   ]
  },
  {
   "cell_type": "code",
   "execution_count": 6,
   "metadata": {},
   "outputs": [],
   "source": [
    "#drop all non Manhattan rows\n",
    "df = df[df['BoroName'] == 'Manhattan']"
   ]
  },
  {
   "cell_type": "code",
   "execution_count": 7,
   "metadata": {},
   "outputs": [
    {
     "data": {
      "text/plain": [
       "(720, 5)"
      ]
     },
     "execution_count": 7,
     "metadata": {},
     "output_type": "execute_result"
    }
   ],
   "source": [
    "df.shape"
   ]
  },
  {
   "cell_type": "code",
   "execution_count": 8,
   "metadata": {},
   "outputs": [
    {
     "data": {
      "text/html": [
       "<div>\n",
       "<style scoped>\n",
       "    .dataframe tbody tr th:only-of-type {\n",
       "        vertical-align: middle;\n",
       "    }\n",
       "\n",
       "    .dataframe tbody tr th {\n",
       "        vertical-align: top;\n",
       "    }\n",
       "\n",
       "    .dataframe thead th {\n",
       "        text-align: right;\n",
       "    }\n",
       "</style>\n",
       "<table border=\"1\" class=\"dataframe\">\n",
       "  <thead>\n",
       "    <tr style=\"text-align: right;\">\n",
       "      <th></th>\n",
       "      <th>NTAName</th>\n",
       "      <th>On_Street</th>\n",
       "      <th>BoroName</th>\n",
       "      <th>Longitude</th>\n",
       "      <th>Latitude</th>\n",
       "    </tr>\n",
       "  </thead>\n",
       "  <tbody>\n",
       "    <tr>\n",
       "      <th>898</th>\n",
       "      <td>East Harlem (South)</td>\n",
       "      <td>3 AV</td>\n",
       "      <td>Manhattan</td>\n",
       "      <td>-73.946160</td>\n",
       "      <td>40.789307</td>\n",
       "    </tr>\n",
       "    <tr>\n",
       "      <th>899</th>\n",
       "      <td>East Harlem (South)</td>\n",
       "      <td>3 AV</td>\n",
       "      <td>Manhattan</td>\n",
       "      <td>-73.944332</td>\n",
       "      <td>40.791820</td>\n",
       "    </tr>\n",
       "    <tr>\n",
       "      <th>900</th>\n",
       "      <td>Harlem (South)</td>\n",
       "      <td>ADAM CLAYTON POWELL BLVD</td>\n",
       "      <td>Manhattan</td>\n",
       "      <td>-73.952176</td>\n",
       "      <td>40.803386</td>\n",
       "    </tr>\n",
       "    <tr>\n",
       "      <th>901</th>\n",
       "      <td>Harlem (South)</td>\n",
       "      <td>W 116 ST</td>\n",
       "      <td>Manhattan</td>\n",
       "      <td>-73.952078</td>\n",
       "      <td>40.802923</td>\n",
       "    </tr>\n",
       "    <tr>\n",
       "      <th>902</th>\n",
       "      <td>Harlem (South)</td>\n",
       "      <td>FREDERICK DOUGLASS BLVD</td>\n",
       "      <td>Manhattan</td>\n",
       "      <td>-73.955667</td>\n",
       "      <td>40.804190</td>\n",
       "    </tr>\n",
       "  </tbody>\n",
       "</table>\n",
       "</div>"
      ],
      "text/plain": [
       "                 NTAName                 On_Street   BoroName  Longitude  \\\n",
       "898  East Harlem (South)                      3 AV  Manhattan -73.946160   \n",
       "899  East Harlem (South)                      3 AV  Manhattan -73.944332   \n",
       "900       Harlem (South)  ADAM CLAYTON POWELL BLVD  Manhattan -73.952176   \n",
       "901       Harlem (South)                  W 116 ST  Manhattan -73.952078   \n",
       "902       Harlem (South)   FREDERICK DOUGLASS BLVD  Manhattan -73.955667   \n",
       "\n",
       "      Latitude  \n",
       "898  40.789307  \n",
       "899  40.791820  \n",
       "900  40.803386  \n",
       "901  40.802923  \n",
       "902  40.804190  "
      ]
     },
     "execution_count": 8,
     "metadata": {},
     "output_type": "execute_result"
    }
   ],
   "source": [
    "df.head()"
   ]
  },
  {
   "cell_type": "code",
   "execution_count": 9,
   "metadata": {},
   "outputs": [
    {
     "data": {
      "text/plain": [
       "array(['3 AV', 'ADAM CLAYTON POWELL BLVD', 'W 116 ST',\n",
       "       'FREDERICK DOUGLASS BLVD', 'W 225 ST', 'BROADWAY', 'WATER ST',\n",
       "       'PEARL ST', 'FRANKFORT ST', 'MADISON ST', 'PARK ROW', 'W BROADWAY',\n",
       "       'VARICK ST', '6 AV', 'W HOUSTON ST', 'BOWERY', 'GRAND ST',\n",
       "       'Grand St', '1 AV', 'E 20 ST', 'E 23 ST', 'E 42 ST', 'E 49 ST',\n",
       "       'E 72 ST', 'YORK AV', 'E 79 ST', 'MADISON AV', 'E 97 ST', '2 AV',\n",
       "       'E 96 ST', 'ST NICHOLAS AV', '5 AV', 'E 14 ST', 'AV A',\n",
       "       'AMSTERDAM AV', '8 AV', 'E HOUSTON ST', 'E 135 ST', 'COLUMBUS AV',\n",
       "       'W 96 ST', 'W 135 ST', 'W 110 ST', 'EDWARD MORGAN PL', 'W 34 ST',\n",
       "       'W 146 ST', 'WEST END AV', 'SOUTH END AV', 'W THAMES ST',\n",
       "       'W 42 ST', 'AV C', 'AV D', 'W 50 ST', 'W 23 ST', 'E 116 ST',\n",
       "       'E 10 ST', 'FT GEORGE AV', 'DELANCEY ST', 'FT WASHINGTON AV',\n",
       "       '10 AV', 'W 57 ST', 'W 14 ST', '9 AV', 'HUDSON ST', 'W 66 ST',\n",
       "       'LEXINGTON AV', 'E 57 ST', 'CHURCH ST', 'W 86 ST', 'W 65 ST',\n",
       "       '7 AV', 'COLUMBIA ST', 'ESSEX ST', 'W 155 ST', 'PIKE ST',\n",
       "       'W 106 ST', 'W 125 ST', 'EDGECOMBE AV', 'E 106 ST', 'WORTH ST',\n",
       "       'TRINITY PL', 'E 86 ST', 'MALCOLM X BLVD', 'MANHATTAN AV',\n",
       "       'E 105 ST', 'E 125 ST', 'E 34 ST', 'ALLEN ST', 'HARRISON ST',\n",
       "       'FDR DR SRV RD', 'W 70 ST', 'EAST BROADWAY', 'KING ST',\n",
       "       'NORTH END AV', 'E 80 ST', 'E 41 ST', 'W 207 ST', '4 AV',\n",
       "       'FT Washington Av', '5 Av', 'Broadway', 'Frederick Douglass Blvd',\n",
       "       'MAIN ROADWAY', 'SPRING ST', 'CENTRAL PARK WEST', 'ST CLAIR PL',\n",
       "       'W 145 ST', 'LEWIS ST', 'E 34 St', 'W 34 St', '1 Av', '2 Av',\n",
       "       'E 125 St', 'W 125 St', '3 Av', 'West End Av', 'Hell Gate Circle',\n",
       "       'W 116 St', 'E 116 St', 'W 145 St', 'Amsterdam av', 'Amsterdam Av',\n",
       "       'E 42 St', 'W 81 ST', 'W 79 ST', 'W 72 ST', 'W 10 ST',\n",
       "       'JACKSON ST', 'PARK AV', 'WEST ST'], dtype=object)"
      ]
     },
     "execution_count": 9,
     "metadata": {},
     "output_type": "execute_result"
    }
   ],
   "source": [
    "df['On_Street'].unique()"
   ]
  },
  {
   "cell_type": "code",
   "execution_count": 10,
   "metadata": {},
   "outputs": [],
   "source": [
    "#assign taxi zones to locations.\n",
    "# Load GeoJSON data into a GeoDataFrame\n",
    "def load_geojson_gpd(filepath):\n",
    "    return gpd.read_file(filepath)\n",
    "\n",
    "# Function to find zones using spatial join in geopandas\n",
    "def assign_zones(df, gdf):\n",
    "    # Convert DataFrame to GeoDataFrame\n",
    "    gdf_points = gpd.GeoDataFrame(df, geometry=gpd.points_from_xy(df.Longitude, df.Latitude))\n",
    "    gdf_points.set_crs(gdf.crs, inplace=True)\n",
    "\n",
    "    # Spatial join points to polygons\n",
    "    joined = gpd.sjoin(gdf_points, gdf, how=\"left\", predicate='within')\n",
    "    return joined['location_id']\n",
    "\n"
   ]
  },
  {
   "cell_type": "code",
   "execution_count": 11,
   "metadata": {},
   "outputs": [
    {
     "data": {
      "text/html": [
       "<div>\n",
       "<style scoped>\n",
       "    .dataframe tbody tr th:only-of-type {\n",
       "        vertical-align: middle;\n",
       "    }\n",
       "\n",
       "    .dataframe tbody tr th {\n",
       "        vertical-align: top;\n",
       "    }\n",
       "\n",
       "    .dataframe thead th {\n",
       "        text-align: right;\n",
       "    }\n",
       "</style>\n",
       "<table border=\"1\" class=\"dataframe\">\n",
       "  <thead>\n",
       "    <tr style=\"text-align: right;\">\n",
       "      <th></th>\n",
       "      <th>NTAName</th>\n",
       "      <th>On_Street</th>\n",
       "      <th>BoroName</th>\n",
       "      <th>Longitude</th>\n",
       "      <th>Latitude</th>\n",
       "      <th>zone_id</th>\n",
       "    </tr>\n",
       "  </thead>\n",
       "  <tbody>\n",
       "    <tr>\n",
       "      <th>898</th>\n",
       "      <td>East Harlem (South)</td>\n",
       "      <td>3 AV</td>\n",
       "      <td>Manhattan</td>\n",
       "      <td>-73.946160</td>\n",
       "      <td>40.789307</td>\n",
       "      <td>75</td>\n",
       "    </tr>\n",
       "    <tr>\n",
       "      <th>899</th>\n",
       "      <td>East Harlem (South)</td>\n",
       "      <td>3 AV</td>\n",
       "      <td>Manhattan</td>\n",
       "      <td>-73.944332</td>\n",
       "      <td>40.791820</td>\n",
       "      <td>75</td>\n",
       "    </tr>\n",
       "    <tr>\n",
       "      <th>900</th>\n",
       "      <td>Harlem (South)</td>\n",
       "      <td>ADAM CLAYTON POWELL BLVD</td>\n",
       "      <td>Manhattan</td>\n",
       "      <td>-73.952176</td>\n",
       "      <td>40.803386</td>\n",
       "      <td>41</td>\n",
       "    </tr>\n",
       "    <tr>\n",
       "      <th>901</th>\n",
       "      <td>Harlem (South)</td>\n",
       "      <td>W 116 ST</td>\n",
       "      <td>Manhattan</td>\n",
       "      <td>-73.952078</td>\n",
       "      <td>40.802923</td>\n",
       "      <td>41</td>\n",
       "    </tr>\n",
       "    <tr>\n",
       "      <th>902</th>\n",
       "      <td>Harlem (South)</td>\n",
       "      <td>FREDERICK DOUGLASS BLVD</td>\n",
       "      <td>Manhattan</td>\n",
       "      <td>-73.955667</td>\n",
       "      <td>40.804190</td>\n",
       "      <td>41</td>\n",
       "    </tr>\n",
       "  </tbody>\n",
       "</table>\n",
       "</div>"
      ],
      "text/plain": [
       "                 NTAName                 On_Street   BoroName  Longitude  \\\n",
       "898  East Harlem (South)                      3 AV  Manhattan -73.946160   \n",
       "899  East Harlem (South)                      3 AV  Manhattan -73.944332   \n",
       "900       Harlem (South)  ADAM CLAYTON POWELL BLVD  Manhattan -73.952176   \n",
       "901       Harlem (South)                  W 116 ST  Manhattan -73.952078   \n",
       "902       Harlem (South)   FREDERICK DOUGLASS BLVD  Manhattan -73.955667   \n",
       "\n",
       "      Latitude zone_id  \n",
       "898  40.789307      75  \n",
       "899  40.791820      75  \n",
       "900  40.803386      41  \n",
       "901  40.802923      41  \n",
       "902  40.804190      41  "
      ]
     },
     "execution_count": 11,
     "metadata": {},
     "output_type": "execute_result"
    }
   ],
   "source": [
    "# Load GeoJSON data into a GeoDataFrame\n",
    "geo_df = load_geojson_gpd('./datasets/NYC Taxi Zones.geojson')\n",
    "\n",
    "# Assign zones\n",
    "df['zone_id'] = assign_zones(df, geo_df)\n",
    "\n",
    "df.head()"
   ]
  },
  {
   "cell_type": "code",
   "execution_count": 12,
   "metadata": {},
   "outputs": [],
   "source": [
    "#get unique zone ids\n",
    "all_zones = df['zone_id'].unique()\n",
    "#change type to str\n",
    "all_zones = [str(x) for x in all_zones]"
   ]
  },
  {
   "cell_type": "code",
   "execution_count": 13,
   "metadata": {},
   "outputs": [],
   "source": [
    "all_zones = set(all_zones)\n"
   ]
  },
  {
   "cell_type": "code",
   "execution_count": 14,
   "metadata": {},
   "outputs": [],
   "source": [
    "zones_df = pd.read_csv('./datasets/zones_df.csv')"
   ]
  },
  {
   "cell_type": "code",
   "execution_count": 15,
   "metadata": {},
   "outputs": [
    {
     "data": {
      "text/plain": [
       "{'100',\n",
       " '107',\n",
       " '113',\n",
       " '114',\n",
       " '116',\n",
       " '12',\n",
       " '120',\n",
       " '125',\n",
       " '127',\n",
       " '128',\n",
       " '13',\n",
       " '137',\n",
       " '140',\n",
       " '141',\n",
       " '142',\n",
       " '143',\n",
       " '144',\n",
       " '148',\n",
       " '151',\n",
       " '152',\n",
       " '153',\n",
       " '158',\n",
       " '161',\n",
       " '162',\n",
       " '163',\n",
       " '164',\n",
       " '166',\n",
       " '170',\n",
       " '186',\n",
       " '194',\n",
       " '202',\n",
       " '209',\n",
       " '211',\n",
       " '224',\n",
       " '229',\n",
       " '230',\n",
       " '231',\n",
       " '232',\n",
       " '233',\n",
       " '234',\n",
       " '236',\n",
       " '237',\n",
       " '238',\n",
       " '239',\n",
       " '24',\n",
       " '243',\n",
       " '244',\n",
       " '246',\n",
       " '249',\n",
       " '261',\n",
       " '262',\n",
       " '263',\n",
       " '4',\n",
       " '41',\n",
       " '42',\n",
       " '43',\n",
       " '45',\n",
       " '48',\n",
       " '50',\n",
       " '68',\n",
       " '74',\n",
       " '75',\n",
       " '79',\n",
       " '87',\n",
       " '88',\n",
       " '90'}"
      ]
     },
     "execution_count": 15,
     "metadata": {},
     "output_type": "execute_result"
    }
   ],
   "source": [
    "#get a list of the unique zone_ids as a list\n",
    "our_zones = zones_df['zone_id'].unique()\n",
    "our_zones = [str(x) for x in our_zones]\n",
    "our_zones = set(our_zones)\n",
    "our_zones"
   ]
  },
  {
   "cell_type": "code",
   "execution_count": 16,
   "metadata": {},
   "outputs": [
    {
     "data": {
      "text/plain": [
       "set()"
      ]
     },
     "execution_count": 16,
     "metadata": {},
     "output_type": "execute_result"
    }
   ],
   "source": [
    "zones_to_remove = all_zones - our_zones \n",
    "zones_to_remove"
   ]
  },
  {
   "cell_type": "code",
   "execution_count": 17,
   "metadata": {},
   "outputs": [
    {
     "data": {
      "text/plain": [
       "66"
      ]
     },
     "execution_count": 17,
     "metadata": {},
     "output_type": "execute_result"
    }
   ],
   "source": [
    "len(our_zones)"
   ]
  },
  {
   "cell_type": "code",
   "execution_count": 18,
   "metadata": {},
   "outputs": [],
   "source": [
    "#remove rows in df that have zone ids in the zones_to_remove set\n",
    "df = df[~df['zone_id'].isin(zones_to_remove)]"
   ]
  },
  {
   "cell_type": "code",
   "execution_count": 19,
   "metadata": {},
   "outputs": [],
   "source": [
    "#export to csv\n",
    "df.to_csv('./datasets/bus_stop_shelters_with_zones.csv', index=False)"
   ]
  },
  {
   "cell_type": "code",
   "execution_count": 20,
   "metadata": {},
   "outputs": [],
   "source": [
    "#aggregate bus stops by zone adding up the number of bus stops in each zone\n",
    "df['count'] = 1\n",
    "df = df.groupby('zone_id').count().reset_index()\n"
   ]
  },
  {
   "cell_type": "code",
   "execution_count": 21,
   "metadata": {},
   "outputs": [],
   "source": [
    "#drop all columns except for zone_id and count\n",
    "df = df[['zone_id', 'count']]"
   ]
  },
  {
   "cell_type": "code",
   "execution_count": 22,
   "metadata": {},
   "outputs": [
    {
     "data": {
      "text/html": [
       "<div>\n",
       "<style scoped>\n",
       "    .dataframe tbody tr th:only-of-type {\n",
       "        vertical-align: middle;\n",
       "    }\n",
       "\n",
       "    .dataframe tbody tr th {\n",
       "        vertical-align: top;\n",
       "    }\n",
       "\n",
       "    .dataframe thead th {\n",
       "        text-align: right;\n",
       "    }\n",
       "</style>\n",
       "<table border=\"1\" class=\"dataframe\">\n",
       "  <thead>\n",
       "    <tr style=\"text-align: right;\">\n",
       "      <th></th>\n",
       "      <th>zone_id</th>\n",
       "      <th>count</th>\n",
       "    </tr>\n",
       "  </thead>\n",
       "  <tbody>\n",
       "    <tr>\n",
       "      <th>0</th>\n",
       "      <td>107</td>\n",
       "      <td>15</td>\n",
       "    </tr>\n",
       "    <tr>\n",
       "      <th>1</th>\n",
       "      <td>113</td>\n",
       "      <td>2</td>\n",
       "    </tr>\n",
       "    <tr>\n",
       "      <th>2</th>\n",
       "      <td>114</td>\n",
       "      <td>3</td>\n",
       "    </tr>\n",
       "    <tr>\n",
       "      <th>3</th>\n",
       "      <td>116</td>\n",
       "      <td>18</td>\n",
       "    </tr>\n",
       "    <tr>\n",
       "      <th>4</th>\n",
       "      <td>120</td>\n",
       "      <td>4</td>\n",
       "    </tr>\n",
       "  </tbody>\n",
       "</table>\n",
       "</div>"
      ],
      "text/plain": [
       "  zone_id  count\n",
       "0     107     15\n",
       "1     113      2\n",
       "2     114      3\n",
       "3     116     18\n",
       "4     120      4"
      ]
     },
     "execution_count": 22,
     "metadata": {},
     "output_type": "execute_result"
    }
   ],
   "source": [
    "df.head()"
   ]
  },
  {
   "cell_type": "code",
   "execution_count": 23,
   "metadata": {},
   "outputs": [],
   "source": [
    "#make sure we have all zones in the df\n",
    "missing_zones_count = []\n",
    "for zone in our_zones:\n",
    "    if zone not in df['zone_id'].values:\n",
    "        d = {'zone_id': zone, 'count': 0}\n",
    "        missing_zones_count.append(d)\n",
    "\n",
    "missing_zones_count = pd.DataFrame(missing_zones_count)\n",
    "df = pd.concat([df, missing_zones_count])"
   ]
  },
  {
   "cell_type": "code",
   "execution_count": 24,
   "metadata": {},
   "outputs": [],
   "source": [
    "#export to csv\n",
    "df.to_csv('./datasets/count_bus_stop_shelters_by_zone.csv', index=False)"
   ]
  }
 ],
 "metadata": {
  "kernelspec": {
   "display_name": "summer-nyc-project",
   "language": "python",
   "name": "python3"
  },
  "language_info": {
   "codemirror_mode": {
    "name": "ipython",
    "version": 3
   },
   "file_extension": ".py",
   "mimetype": "text/x-python",
   "name": "python",
   "nbconvert_exporter": "python",
   "pygments_lexer": "ipython3",
   "version": "3.11.9"
  }
 },
 "nbformat": 4,
 "nbformat_minor": 2
}
