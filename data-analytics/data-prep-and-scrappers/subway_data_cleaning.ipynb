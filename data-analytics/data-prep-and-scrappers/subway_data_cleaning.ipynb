{
  "nbformat": 4,
  "nbformat_minor": 0,
  "metadata": {
    "colab": {
      "provenance": [],
      "machine_shape": "hm",
      "authorship_tag": "ABX9TyNoAMSRoNJyXdAYL+ETSse2"
    },
    "kernelspec": {
      "name": "python3",
      "display_name": "Python 3"
    },
    "language_info": {
      "name": "python"
    }
  },
  "cells": [
    {
      "cell_type": "code",
      "source": [
        "#This script cleans the data based on EDA done in a seperate script."
      ],
      "metadata": {
        "id": "U7zWGbZ0qku4"
      },
      "execution_count": null,
      "outputs": []
    },
    {
      "cell_type": "code",
      "execution_count": 1,
      "metadata": {
        "colab": {
          "base_uri": "https://localhost:8080/"
        },
        "id": "zDdsy4UkiZo6",
        "outputId": "a6e41c61-bb22-4b6c-abf5-ad6107f3cb53"
      },
      "outputs": [
        {
          "output_type": "stream",
          "name": "stdout",
          "text": [
            "Collecting python-dotenv\n",
            "  Downloading python_dotenv-1.0.1-py3-none-any.whl (19 kB)\n",
            "Installing collected packages: python-dotenv\n",
            "Successfully installed python-dotenv-1.0.1\n",
            "Mounted at /content/drive\n"
          ]
        }
      ],
      "source": [
        "# import needed libraries.\n",
        "import pandas as pd\n",
        "import geopandas as gpd # geographic data manipulation\n",
        "import numpy as np\n",
        "\n",
        "import seaborn as sns                       #visualisation\n",
        "import matplotlib.pyplot as plt             #visualisation\n",
        "\n",
        "#this is for the heatmap.\n",
        "import folium\n",
        "from folium.plugins import HeatMap\n",
        "\n",
        "from google.colab import drive #to mount google drive to the vm\n",
        "import shutil\n",
        "\n",
        "import os\n",
        "!pip install python-dotenv\n",
        "from dotenv import load_dotenv\n",
        "\n",
        "# Load the .env file\n",
        "load_dotenv('/content/.env')\n",
        "# Mount Google Drive (need to be run only once! and is valid when working on Google Colab)\n",
        "drive.mount('/content/drive')"
      ]
    },
    {
      "cell_type": "code",
      "source": [
        "# download the dataset from google drive.\n",
        "# Download the file from Google Drive using the file ID\n",
        "!gdown {os.getenv('full-subway-manhattan-data')}"
      ],
      "metadata": {
        "colab": {
          "base_uri": "https://localhost:8080/"
        },
        "id": "e2RekCQEimqN",
        "outputId": "39b78ca8-1d40-4b76-8ca5-4e29648e2a57"
      },
      "execution_count": 5,
      "outputs": [
        {
          "output_type": "stream",
          "name": "stdout",
          "text": [
            "Downloading...\n",
            "From (original): https://drive.google.com/uc?id=1BPFJv4QlUPr3Vywvk5dluiq9DQV19mhm\n",
            "From (redirected): https://drive.google.com/uc?id=1BPFJv4QlUPr3Vywvk5dluiq9DQV19mhm&confirm=t&uuid=35eedcfa-add8-47e3-811d-6a04cb2e2eb2\n",
            "To: /content/subway-data-may-29.csv\n",
            "100% 9.95G/9.95G [01:50<00:00, 90.2MB/s]\n"
          ]
        }
      ]
    },
    {
      "cell_type": "code",
      "source": [
        "#load the dataset into pandas df\n",
        "df = pd.read_csv(f\"/content/subway-data-may-29.csv\")"
      ],
      "metadata": {
        "colab": {
          "base_uri": "https://localhost:8080/"
        },
        "id": "M6Ltdww-jTi3",
        "outputId": "563a7cdf-ae78-44fa-9509-96f881451e71"
      },
      "execution_count": 6,
      "outputs": [
        {
          "output_type": "stream",
          "name": "stderr",
          "text": [
            "<ipython-input-6-dde7986a472e>:2: DtypeWarning: Columns (2) have mixed types. Specify dtype option on import or set low_memory=False.\n",
            "  df = pd.read_csv(f\"/content/subway-data-may-29.csv\")\n"
          ]
        }
      ]
    },
    {
      "cell_type": "code",
      "source": [
        "#show a sample of the data\n",
        "df.head()"
      ],
      "metadata": {
        "colab": {
          "base_uri": "https://localhost:8080/",
          "height": 206
        },
        "id": "V8WIbUXPkgBW",
        "outputId": "fc905d89-7ee2-40fe-c121-6ecebb39fce7"
      },
      "execution_count": 7,
      "outputs": [
        {
          "output_type": "execute_result",
          "data": {
            "text/plain": [
              "        transit_timestamp transit_mode station_complex_id  \\\n",
              "0  04/25/2024 06:00:00 AM       subway                616   \n",
              "1  04/25/2024 08:00:00 AM       subway                419   \n",
              "2  04/25/2024 01:00:00 PM       subway                133   \n",
              "3  04/25/2024 02:00:00 PM       subway                360   \n",
              "4  04/25/2024 05:00:00 PM       subway                222   \n",
              "\n",
              "                                     station_complex    borough  \\\n",
              "0  74-Broadway (7)/Jackson Hts-Roosevelt Av (E,F,...     Queens   \n",
              "1                                       225 St (2,5)      Bronx   \n",
              "2                                    Atlantic Av (L)   Brooklyn   \n",
              "3                                Pelham Bay Park (6)      Bronx   \n",
              "4                               Roosevelt Island (F)  Manhattan   \n",
              "\n",
              "  payment_method               fare_class_category  ridership  transfers  \\\n",
              "0      metrocard       Metrocard - Unlimited 7-Day        411          0   \n",
              "1      metrocard             Metrocard - Fair Fare         14          1   \n",
              "2      metrocard                 Metrocard - Other          2          0   \n",
              "3      metrocard             Metrocard - Fair Fare         16          3   \n",
              "4      metrocard  Metrocard - Seniors & Disability         21          0   \n",
              "\n",
              "    latitude  longitude                  Georeference  \n",
              "0  40.746850 -73.891335   POINT (-73.891335 40.74685)  \n",
              "1  40.888023 -73.860344  POINT (-73.860344 40.888023)  \n",
              "2  40.675346 -73.903100    POINT (-73.9031 40.675346)  \n",
              "3  40.852463 -73.828120   POINT (-73.82812 40.852463)  \n",
              "4  40.759144 -73.953260   POINT (-73.95326 40.759144)  "
            ],
            "text/html": [
              "\n",
              "  <div id=\"df-46b2774d-98f6-4e75-91f2-12ac7cebc877\" class=\"colab-df-container\">\n",
              "    <div>\n",
              "<style scoped>\n",
              "    .dataframe tbody tr th:only-of-type {\n",
              "        vertical-align: middle;\n",
              "    }\n",
              "\n",
              "    .dataframe tbody tr th {\n",
              "        vertical-align: top;\n",
              "    }\n",
              "\n",
              "    .dataframe thead th {\n",
              "        text-align: right;\n",
              "    }\n",
              "</style>\n",
              "<table border=\"1\" class=\"dataframe\">\n",
              "  <thead>\n",
              "    <tr style=\"text-align: right;\">\n",
              "      <th></th>\n",
              "      <th>transit_timestamp</th>\n",
              "      <th>transit_mode</th>\n",
              "      <th>station_complex_id</th>\n",
              "      <th>station_complex</th>\n",
              "      <th>borough</th>\n",
              "      <th>payment_method</th>\n",
              "      <th>fare_class_category</th>\n",
              "      <th>ridership</th>\n",
              "      <th>transfers</th>\n",
              "      <th>latitude</th>\n",
              "      <th>longitude</th>\n",
              "      <th>Georeference</th>\n",
              "    </tr>\n",
              "  </thead>\n",
              "  <tbody>\n",
              "    <tr>\n",
              "      <th>0</th>\n",
              "      <td>04/25/2024 06:00:00 AM</td>\n",
              "      <td>subway</td>\n",
              "      <td>616</td>\n",
              "      <td>74-Broadway (7)/Jackson Hts-Roosevelt Av (E,F,...</td>\n",
              "      <td>Queens</td>\n",
              "      <td>metrocard</td>\n",
              "      <td>Metrocard - Unlimited 7-Day</td>\n",
              "      <td>411</td>\n",
              "      <td>0</td>\n",
              "      <td>40.746850</td>\n",
              "      <td>-73.891335</td>\n",
              "      <td>POINT (-73.891335 40.74685)</td>\n",
              "    </tr>\n",
              "    <tr>\n",
              "      <th>1</th>\n",
              "      <td>04/25/2024 08:00:00 AM</td>\n",
              "      <td>subway</td>\n",
              "      <td>419</td>\n",
              "      <td>225 St (2,5)</td>\n",
              "      <td>Bronx</td>\n",
              "      <td>metrocard</td>\n",
              "      <td>Metrocard - Fair Fare</td>\n",
              "      <td>14</td>\n",
              "      <td>1</td>\n",
              "      <td>40.888023</td>\n",
              "      <td>-73.860344</td>\n",
              "      <td>POINT (-73.860344 40.888023)</td>\n",
              "    </tr>\n",
              "    <tr>\n",
              "      <th>2</th>\n",
              "      <td>04/25/2024 01:00:00 PM</td>\n",
              "      <td>subway</td>\n",
              "      <td>133</td>\n",
              "      <td>Atlantic Av (L)</td>\n",
              "      <td>Brooklyn</td>\n",
              "      <td>metrocard</td>\n",
              "      <td>Metrocard - Other</td>\n",
              "      <td>2</td>\n",
              "      <td>0</td>\n",
              "      <td>40.675346</td>\n",
              "      <td>-73.903100</td>\n",
              "      <td>POINT (-73.9031 40.675346)</td>\n",
              "    </tr>\n",
              "    <tr>\n",
              "      <th>3</th>\n",
              "      <td>04/25/2024 02:00:00 PM</td>\n",
              "      <td>subway</td>\n",
              "      <td>360</td>\n",
              "      <td>Pelham Bay Park (6)</td>\n",
              "      <td>Bronx</td>\n",
              "      <td>metrocard</td>\n",
              "      <td>Metrocard - Fair Fare</td>\n",
              "      <td>16</td>\n",
              "      <td>3</td>\n",
              "      <td>40.852463</td>\n",
              "      <td>-73.828120</td>\n",
              "      <td>POINT (-73.82812 40.852463)</td>\n",
              "    </tr>\n",
              "    <tr>\n",
              "      <th>4</th>\n",
              "      <td>04/25/2024 05:00:00 PM</td>\n",
              "      <td>subway</td>\n",
              "      <td>222</td>\n",
              "      <td>Roosevelt Island (F)</td>\n",
              "      <td>Manhattan</td>\n",
              "      <td>metrocard</td>\n",
              "      <td>Metrocard - Seniors &amp; Disability</td>\n",
              "      <td>21</td>\n",
              "      <td>0</td>\n",
              "      <td>40.759144</td>\n",
              "      <td>-73.953260</td>\n",
              "      <td>POINT (-73.95326 40.759144)</td>\n",
              "    </tr>\n",
              "  </tbody>\n",
              "</table>\n",
              "</div>\n",
              "    <div class=\"colab-df-buttons\">\n",
              "\n",
              "  <div class=\"colab-df-container\">\n",
              "    <button class=\"colab-df-convert\" onclick=\"convertToInteractive('df-46b2774d-98f6-4e75-91f2-12ac7cebc877')\"\n",
              "            title=\"Convert this dataframe to an interactive table.\"\n",
              "            style=\"display:none;\">\n",
              "\n",
              "  <svg xmlns=\"http://www.w3.org/2000/svg\" height=\"24px\" viewBox=\"0 -960 960 960\">\n",
              "    <path d=\"M120-120v-720h720v720H120Zm60-500h600v-160H180v160Zm220 220h160v-160H400v160Zm0 220h160v-160H400v160ZM180-400h160v-160H180v160Zm440 0h160v-160H620v160ZM180-180h160v-160H180v160Zm440 0h160v-160H620v160Z\"/>\n",
              "  </svg>\n",
              "    </button>\n",
              "\n",
              "  <style>\n",
              "    .colab-df-container {\n",
              "      display:flex;\n",
              "      gap: 12px;\n",
              "    }\n",
              "\n",
              "    .colab-df-convert {\n",
              "      background-color: #E8F0FE;\n",
              "      border: none;\n",
              "      border-radius: 50%;\n",
              "      cursor: pointer;\n",
              "      display: none;\n",
              "      fill: #1967D2;\n",
              "      height: 32px;\n",
              "      padding: 0 0 0 0;\n",
              "      width: 32px;\n",
              "    }\n",
              "\n",
              "    .colab-df-convert:hover {\n",
              "      background-color: #E2EBFA;\n",
              "      box-shadow: 0px 1px 2px rgba(60, 64, 67, 0.3), 0px 1px 3px 1px rgba(60, 64, 67, 0.15);\n",
              "      fill: #174EA6;\n",
              "    }\n",
              "\n",
              "    .colab-df-buttons div {\n",
              "      margin-bottom: 4px;\n",
              "    }\n",
              "\n",
              "    [theme=dark] .colab-df-convert {\n",
              "      background-color: #3B4455;\n",
              "      fill: #D2E3FC;\n",
              "    }\n",
              "\n",
              "    [theme=dark] .colab-df-convert:hover {\n",
              "      background-color: #434B5C;\n",
              "      box-shadow: 0px 1px 3px 1px rgba(0, 0, 0, 0.15);\n",
              "      filter: drop-shadow(0px 1px 2px rgba(0, 0, 0, 0.3));\n",
              "      fill: #FFFFFF;\n",
              "    }\n",
              "  </style>\n",
              "\n",
              "    <script>\n",
              "      const buttonEl =\n",
              "        document.querySelector('#df-46b2774d-98f6-4e75-91f2-12ac7cebc877 button.colab-df-convert');\n",
              "      buttonEl.style.display =\n",
              "        google.colab.kernel.accessAllowed ? 'block' : 'none';\n",
              "\n",
              "      async function convertToInteractive(key) {\n",
              "        const element = document.querySelector('#df-46b2774d-98f6-4e75-91f2-12ac7cebc877');\n",
              "        const dataTable =\n",
              "          await google.colab.kernel.invokeFunction('convertToInteractive',\n",
              "                                                    [key], {});\n",
              "        if (!dataTable) return;\n",
              "\n",
              "        const docLinkHtml = 'Like what you see? Visit the ' +\n",
              "          '<a target=\"_blank\" href=https://colab.research.google.com/notebooks/data_table.ipynb>data table notebook</a>'\n",
              "          + ' to learn more about interactive tables.';\n",
              "        element.innerHTML = '';\n",
              "        dataTable['output_type'] = 'display_data';\n",
              "        await google.colab.output.renderOutput(dataTable, element);\n",
              "        const docLink = document.createElement('div');\n",
              "        docLink.innerHTML = docLinkHtml;\n",
              "        element.appendChild(docLink);\n",
              "      }\n",
              "    </script>\n",
              "  </div>\n",
              "\n",
              "\n",
              "<div id=\"df-9bacc0aa-4bb5-4a18-acdf-624ec7127e0b\">\n",
              "  <button class=\"colab-df-quickchart\" onclick=\"quickchart('df-9bacc0aa-4bb5-4a18-acdf-624ec7127e0b')\"\n",
              "            title=\"Suggest charts\"\n",
              "            style=\"display:none;\">\n",
              "\n",
              "<svg xmlns=\"http://www.w3.org/2000/svg\" height=\"24px\"viewBox=\"0 0 24 24\"\n",
              "     width=\"24px\">\n",
              "    <g>\n",
              "        <path d=\"M19 3H5c-1.1 0-2 .9-2 2v14c0 1.1.9 2 2 2h14c1.1 0 2-.9 2-2V5c0-1.1-.9-2-2-2zM9 17H7v-7h2v7zm4 0h-2V7h2v10zm4 0h-2v-4h2v4z\"/>\n",
              "    </g>\n",
              "</svg>\n",
              "  </button>\n",
              "\n",
              "<style>\n",
              "  .colab-df-quickchart {\n",
              "      --bg-color: #E8F0FE;\n",
              "      --fill-color: #1967D2;\n",
              "      --hover-bg-color: #E2EBFA;\n",
              "      --hover-fill-color: #174EA6;\n",
              "      --disabled-fill-color: #AAA;\n",
              "      --disabled-bg-color: #DDD;\n",
              "  }\n",
              "\n",
              "  [theme=dark] .colab-df-quickchart {\n",
              "      --bg-color: #3B4455;\n",
              "      --fill-color: #D2E3FC;\n",
              "      --hover-bg-color: #434B5C;\n",
              "      --hover-fill-color: #FFFFFF;\n",
              "      --disabled-bg-color: #3B4455;\n",
              "      --disabled-fill-color: #666;\n",
              "  }\n",
              "\n",
              "  .colab-df-quickchart {\n",
              "    background-color: var(--bg-color);\n",
              "    border: none;\n",
              "    border-radius: 50%;\n",
              "    cursor: pointer;\n",
              "    display: none;\n",
              "    fill: var(--fill-color);\n",
              "    height: 32px;\n",
              "    padding: 0;\n",
              "    width: 32px;\n",
              "  }\n",
              "\n",
              "  .colab-df-quickchart:hover {\n",
              "    background-color: var(--hover-bg-color);\n",
              "    box-shadow: 0 1px 2px rgba(60, 64, 67, 0.3), 0 1px 3px 1px rgba(60, 64, 67, 0.15);\n",
              "    fill: var(--button-hover-fill-color);\n",
              "  }\n",
              "\n",
              "  .colab-df-quickchart-complete:disabled,\n",
              "  .colab-df-quickchart-complete:disabled:hover {\n",
              "    background-color: var(--disabled-bg-color);\n",
              "    fill: var(--disabled-fill-color);\n",
              "    box-shadow: none;\n",
              "  }\n",
              "\n",
              "  .colab-df-spinner {\n",
              "    border: 2px solid var(--fill-color);\n",
              "    border-color: transparent;\n",
              "    border-bottom-color: var(--fill-color);\n",
              "    animation:\n",
              "      spin 1s steps(1) infinite;\n",
              "  }\n",
              "\n",
              "  @keyframes spin {\n",
              "    0% {\n",
              "      border-color: transparent;\n",
              "      border-bottom-color: var(--fill-color);\n",
              "      border-left-color: var(--fill-color);\n",
              "    }\n",
              "    20% {\n",
              "      border-color: transparent;\n",
              "      border-left-color: var(--fill-color);\n",
              "      border-top-color: var(--fill-color);\n",
              "    }\n",
              "    30% {\n",
              "      border-color: transparent;\n",
              "      border-left-color: var(--fill-color);\n",
              "      border-top-color: var(--fill-color);\n",
              "      border-right-color: var(--fill-color);\n",
              "    }\n",
              "    40% {\n",
              "      border-color: transparent;\n",
              "      border-right-color: var(--fill-color);\n",
              "      border-top-color: var(--fill-color);\n",
              "    }\n",
              "    60% {\n",
              "      border-color: transparent;\n",
              "      border-right-color: var(--fill-color);\n",
              "    }\n",
              "    80% {\n",
              "      border-color: transparent;\n",
              "      border-right-color: var(--fill-color);\n",
              "      border-bottom-color: var(--fill-color);\n",
              "    }\n",
              "    90% {\n",
              "      border-color: transparent;\n",
              "      border-bottom-color: var(--fill-color);\n",
              "    }\n",
              "  }\n",
              "</style>\n",
              "\n",
              "  <script>\n",
              "    async function quickchart(key) {\n",
              "      const quickchartButtonEl =\n",
              "        document.querySelector('#' + key + ' button');\n",
              "      quickchartButtonEl.disabled = true;  // To prevent multiple clicks.\n",
              "      quickchartButtonEl.classList.add('colab-df-spinner');\n",
              "      try {\n",
              "        const charts = await google.colab.kernel.invokeFunction(\n",
              "            'suggestCharts', [key], {});\n",
              "      } catch (error) {\n",
              "        console.error('Error during call to suggestCharts:', error);\n",
              "      }\n",
              "      quickchartButtonEl.classList.remove('colab-df-spinner');\n",
              "      quickchartButtonEl.classList.add('colab-df-quickchart-complete');\n",
              "    }\n",
              "    (() => {\n",
              "      let quickchartButtonEl =\n",
              "        document.querySelector('#df-9bacc0aa-4bb5-4a18-acdf-624ec7127e0b button');\n",
              "      quickchartButtonEl.style.display =\n",
              "        google.colab.kernel.accessAllowed ? 'block' : 'none';\n",
              "    })();\n",
              "  </script>\n",
              "</div>\n",
              "    </div>\n",
              "  </div>\n"
            ],
            "application/vnd.google.colaboratory.intrinsic+json": {
              "type": "dataframe",
              "variable_name": "df"
            }
          },
          "metadata": {},
          "execution_count": 7
        }
      ]
    },
    {
      "cell_type": "code",
      "source": [
        "\n",
        "# check the earliest and latest time of the data\n",
        "print(df['transit_timestamp'].min())\n",
        "print(df['transit_timestamp'].max())"
      ],
      "metadata": {
        "colab": {
          "base_uri": "https://localhost:8080/"
        },
        "id": "rM9p8eGdq1Ba",
        "outputId": "543d10cc-d1c8-424f-84eb-423b17421c12"
      },
      "execution_count": 30,
      "outputs": [
        {
          "output_type": "stream",
          "name": "stdout",
          "text": [
            "2022-02-01 00:00:00\n",
            "2024-05-23 23:00:00\n"
          ]
        }
      ]
    },
    {
      "cell_type": "code",
      "source": [
        "#number of rows and cols\n",
        "df.shape"
      ],
      "metadata": {
        "colab": {
          "base_uri": "https://localhost:8080/"
        },
        "id": "JLbCZNDojWhA",
        "outputId": "051e882d-d358-4d15-f0e2-5922ce340a6a"
      },
      "execution_count": 8,
      "outputs": [
        {
          "output_type": "execute_result",
          "data": {
            "text/plain": [
              "(58306773, 12)"
            ]
          },
          "metadata": {},
          "execution_count": 8
        }
      ]
    },
    {
      "cell_type": "code",
      "source": [
        "#check the data types\n",
        "df.dtypes"
      ],
      "metadata": {
        "colab": {
          "base_uri": "https://localhost:8080/"
        },
        "id": "0xqW7eXxjcPK",
        "outputId": "0fb44625-b525-439b-acf2-a45ac5ca5f01"
      },
      "execution_count": 9,
      "outputs": [
        {
          "output_type": "execute_result",
          "data": {
            "text/plain": [
              "transit_timestamp       object\n",
              "transit_mode            object\n",
              "station_complex_id      object\n",
              "station_complex         object\n",
              "borough                 object\n",
              "payment_method          object\n",
              "fare_class_category     object\n",
              "ridership                int64\n",
              "transfers                int64\n",
              "latitude               float64\n",
              "longitude              float64\n",
              "Georeference            object\n",
              "dtype: object"
            ]
          },
          "metadata": {},
          "execution_count": 9
        }
      ]
    },
    {
      "cell_type": "code",
      "source": [
        "#show the number of unique value in each column.\n",
        "df.nunique()"
      ],
      "metadata": {
        "colab": {
          "base_uri": "https://localhost:8080/"
        },
        "id": "Uky5YXIpk26R",
        "outputId": "29e2d9b8-fc17-4318-8b45-5d09fb71cf72"
      },
      "execution_count": 10,
      "outputs": [
        {
          "output_type": "execute_result",
          "data": {
            "text/plain": [
              "transit_timestamp      20227\n",
              "transit_mode               3\n",
              "station_complex_id       853\n",
              "station_complex          428\n",
              "borough                    5\n",
              "payment_method             2\n",
              "fare_class_category       10\n",
              "ridership               7175\n",
              "transfers               1042\n",
              "latitude                 926\n",
              "longitude                927\n",
              "Georeference             976\n",
              "dtype: int64"
            ]
          },
          "metadata": {},
          "execution_count": 10
        }
      ]
    },
    {
      "cell_type": "code",
      "source": [
        "#drop rows for which the borough is not Manhattan\n",
        "# Filter rows where borough is not Manhattan (keep rows that have borough == manhattan)\n",
        "df = df[df['borough'] == 'Manhattan']\n",
        "df.drop(columns=['borough'], inplace=True)\n",
        "\n",
        "# Reset index to have consecutive indices\n",
        "df.reset_index(drop=True, inplace=True)"
      ],
      "metadata": {
        "colab": {
          "base_uri": "https://localhost:8080/"
        },
        "id": "xSZwFziRjdfK",
        "outputId": "a32d53af-007d-48a7-f31e-f864c1d2630e"
      },
      "execution_count": 11,
      "outputs": [
        {
          "output_type": "stream",
          "name": "stderr",
          "text": [
            "<ipython-input-11-d886e1c8d1e3>:4: SettingWithCopyWarning: \n",
            "A value is trying to be set on a copy of a slice from a DataFrame\n",
            "\n",
            "See the caveats in the documentation: https://pandas.pydata.org/pandas-docs/stable/user_guide/indexing.html#returning-a-view-versus-a-copy\n",
            "  df.drop(columns=['borough'], inplace=True)\n"
          ]
        }
      ]
    },
    {
      "cell_type": "code",
      "source": [
        "#drop the \"payment_method\" column as its content can be derived from the \"fare_class_category\" column.\n",
        "df.drop(columns=['payment_method'], inplace=True)\n",
        "\n",
        "# Reset index to have consecutive indices\n",
        "df.reset_index(drop=True, inplace=True)"
      ],
      "metadata": {
        "id": "eiKYaE-Kjfkd"
      },
      "execution_count": 12,
      "outputs": []
    },
    {
      "cell_type": "code",
      "source": [
        "#drop the \"transit_mode\" column as it is mostly a constant column, and the transfer mood is not important for the analysis.\n",
        "df.drop(columns=['transit_mode'], inplace=True)\n",
        "\n",
        "# Reset index to have consecutive indices\n",
        "df.reset_index(drop=True, inplace=True)"
      ],
      "metadata": {
        "id": "tK_o8DpCjhnB"
      },
      "execution_count": 13,
      "outputs": []
    },
    {
      "cell_type": "code",
      "source": [
        "#drop the \"Georeference\" column as its content will be reconstructed using \"latitude\" and \"longitude\" columns .\n",
        "df.drop(columns=['Georeference'], inplace=True)\n",
        "\n",
        "# Reset index to have consecutive indices\n",
        "df.reset_index(drop=True, inplace=True)"
      ],
      "metadata": {
        "id": "lcnR05lJjzUs"
      },
      "execution_count": 14,
      "outputs": []
    },
    {
      "cell_type": "code",
      "source": [
        "#ensure that the precision of the long and lat is about 10 metre by rounding to 4 decimal points.\n",
        "df['latitude'] = df['latitude'].round(4)\n",
        "df['longitude'] = df['longitude'].round(4)\n",
        "\n",
        "#reconstruct georeference from the long and lat cols.\n",
        "df['georeference'] = df.apply(lambda row: f\"POINT ({row['longitude']} {row['latitude']})\", axis=1)"
      ],
      "metadata": {
        "id": "SkvOAos2jjjs"
      },
      "execution_count": 15,
      "outputs": []
    },
    {
      "cell_type": "code",
      "source": [
        "# Make sure the \"station_complex_id\" col only has numerical values.\n",
        "# Replace 'TRAM1' with 888 and 'TRAM2' with 999 in the \"station_complex_id\" col\n",
        "df['station_complex_id'] = df['station_complex_id'].replace({'TRAM1': 888, 'TRAM2': 999})\n",
        "# Convert the 'id' column to integers\n",
        "df['station_complex_id'] = df['station_complex_id'].astype(int)"
      ],
      "metadata": {
        "id": "ZvFFR4KwjtCg"
      },
      "execution_count": 16,
      "outputs": []
    },
    {
      "cell_type": "code",
      "source": [
        "#check number of rows and cols after all those modification above\n",
        "#check number of columns after deletion\n",
        "print(f\"There are {df.shape[0]} rows and {df.shape[1]} columns now\")"
      ],
      "metadata": {
        "colab": {
          "base_uri": "https://localhost:8080/"
        },
        "id": "f3ZxPrl6kLQf",
        "outputId": "caa43d72-9647-4ac1-c97c-2a553e5abaf7"
      },
      "execution_count": 17,
      "outputs": [
        {
          "output_type": "stream",
          "name": "stdout",
          "text": [
            "There are 17806410 rows and 9 columns now\n"
          ]
        }
      ]
    },
    {
      "cell_type": "code",
      "source": [
        "# Convert transit_timestamp to datetime.\n",
        "df['transit_timestamp'] = pd.to_datetime(df['transit_timestamp'])\n",
        "\n",
        "# Convert categorical columns to category data type\n",
        "categorical_columns = ['station_complex_id', 'station_complex', 'fare_class_category']\n",
        "df[categorical_columns] = df[categorical_columns].astype('category')"
      ],
      "metadata": {
        "id": "waCs5m3cjv4v"
      },
      "execution_count": 19,
      "outputs": []
    },
    {
      "cell_type": "code",
      "source": [
        "#check the new types now\n",
        "df.dtypes"
      ],
      "metadata": {
        "colab": {
          "base_uri": "https://localhost:8080/"
        },
        "id": "KQ6Rv2m0kHG1",
        "outputId": "7796666f-4f3e-4637-e31e-23f2465198b8"
      },
      "execution_count": 20,
      "outputs": [
        {
          "output_type": "execute_result",
          "data": {
            "text/plain": [
              "transit_timestamp      datetime64[ns]\n",
              "station_complex_id           category\n",
              "station_complex              category\n",
              "fare_class_category          category\n",
              "ridership                       int64\n",
              "transfers                       int64\n",
              "latitude                      float64\n",
              "longitude                     float64\n",
              "georeference                   object\n",
              "dtype: object"
            ]
          },
          "metadata": {},
          "execution_count": 20
        }
      ]
    },
    {
      "cell_type": "code",
      "source": [
        "# check for Null, N/A and missing values by column\n",
        "df.isnull().sum()"
      ],
      "metadata": {
        "colab": {
          "base_uri": "https://localhost:8080/"
        },
        "id": "pMy3WRP7kNHE",
        "outputId": "239bca67-12b1-4ad1-c3bf-a83ea04bdbe7"
      },
      "execution_count": 21,
      "outputs": [
        {
          "output_type": "execute_result",
          "data": {
            "text/plain": [
              "transit_timestamp      0\n",
              "station_complex_id     0\n",
              "station_complex        0\n",
              "fare_class_category    0\n",
              "ridership              0\n",
              "transfers              0\n",
              "latitude               0\n",
              "longitude              0\n",
              "georeference           0\n",
              "dtype: int64"
            ]
          },
          "metadata": {},
          "execution_count": 21
        }
      ]
    },
    {
      "cell_type": "code",
      "source": [
        "#number of rows before dropping duplicate values\n",
        "df.count()"
      ],
      "metadata": {
        "colab": {
          "base_uri": "https://localhost:8080/"
        },
        "id": "27e7zxp2kO6L",
        "outputId": "ab2715fd-77bd-41a7-9c69-8b979427a2c9"
      },
      "execution_count": 22,
      "outputs": [
        {
          "output_type": "execute_result",
          "data": {
            "text/plain": [
              "transit_timestamp      17806410\n",
              "station_complex_id     17806410\n",
              "station_complex        17806410\n",
              "fare_class_category    17806410\n",
              "ridership              17806410\n",
              "transfers              17806410\n",
              "latitude               17806410\n",
              "longitude              17806410\n",
              "georeference           17806410\n",
              "dtype: int64"
            ]
          },
          "metadata": {},
          "execution_count": 22
        }
      ]
    },
    {
      "cell_type": "code",
      "source": [
        "#number of rows after dropping duplicate values (we drop the duplicate values because they are redundant.)\n",
        "df = df.drop_duplicates()\n",
        "\n",
        "df.count()"
      ],
      "metadata": {
        "colab": {
          "base_uri": "https://localhost:8080/"
        },
        "id": "6KzOPsrZkQ-L",
        "outputId": "1fd0671d-8bcc-4d0e-f348-82f82e2f02fa"
      },
      "execution_count": 23,
      "outputs": [
        {
          "output_type": "execute_result",
          "data": {
            "text/plain": [
              "transit_timestamp      17806410\n",
              "station_complex_id     17806410\n",
              "station_complex        17806410\n",
              "fare_class_category    17806410\n",
              "ridership              17806410\n",
              "transfers              17806410\n",
              "latitude               17806410\n",
              "longitude              17806410\n",
              "georeference           17806410\n",
              "dtype: int64"
            ]
          },
          "metadata": {},
          "execution_count": 23
        }
      ]
    },
    {
      "cell_type": "code",
      "source": [
        "# Count the number of records for each hour\n",
        "df_hour = df.copy()\n",
        "df_hour['hour'] = df_hour['transit_timestamp'].dt.hour\n",
        "hourly_counts = df_hour['hour'].value_counts().sort_index()\n",
        "\n",
        "# Display the hourly counts\n",
        "hourly_counts"
      ],
      "metadata": {
        "colab": {
          "base_uri": "https://localhost:8080/"
        },
        "id": "CVKc10aHlPGK",
        "outputId": "0ef8ad7f-090f-43fa-924e-b14a1143aebb"
      },
      "execution_count": 24,
      "outputs": [
        {
          "output_type": "execute_result",
          "data": {
            "text/plain": [
              "hour\n",
              "0     626091\n",
              "1     522599\n",
              "2     452437\n",
              "3     434423\n",
              "4     513210\n",
              "5     651162\n",
              "6     757269\n",
              "7     806761\n",
              "8     824028\n",
              "9     826805\n",
              "10    829664\n",
              "11    836477\n",
              "12    844165\n",
              "13    846066\n",
              "14    848285\n",
              "15    849780\n",
              "16    851449\n",
              "17    851444\n",
              "18    844579\n",
              "19    829077\n",
              "20    813029\n",
              "21    743621\n",
              "22    719059\n",
              "23    684930\n",
              "Name: count, dtype: int64"
            ]
          },
          "metadata": {},
          "execution_count": 24
        }
      ]
    },
    {
      "cell_type": "code",
      "source": [
        "# Filter rows where transfers > ridership [this should never be the case as transfers are subset of ridership!]\n",
        "condition = df['transfers'] > df['ridership']\n",
        "filtered_df = df[condition]\n",
        "\n",
        "# Get the count of such rows\n",
        "count = filtered_df.shape[0]\n",
        "\n",
        "print(\"Count of rows where transfers > ridership:\", count)"
      ],
      "metadata": {
        "colab": {
          "base_uri": "https://localhost:8080/"
        },
        "id": "FzS7gUWvkZaW",
        "outputId": "e727170f-556b-425e-bf4f-da6c5053e74e"
      },
      "execution_count": 25,
      "outputs": [
        {
          "output_type": "stream",
          "name": "stdout",
          "text": [
            "Count of rows where transfers > ridership: 0\n"
          ]
        }
      ]
    },
    {
      "cell_type": "code",
      "source": [
        "# Get the number of unique values in the 'station_complex_id', 'station_complex', 'georeference' columns\n",
        "count_unique_ids = df['station_complex_id'].nunique()\n",
        "print(f'Number of unique station ids: {count_unique_ids}')\n",
        "\n",
        "count_unique_stations = df['station_complex'].nunique()\n",
        "print(f'Number of unique stations: {count_unique_stations}')\n",
        "\n",
        "count_unique_geos = df['georeference'].nunique()\n",
        "print(f'Number of unique georeferences: {count_unique_geos}')"
      ],
      "metadata": {
        "colab": {
          "base_uri": "https://localhost:8080/"
        },
        "id": "xIMnn9Wjkm04",
        "outputId": "3dc13ee2-0d30-43e9-9916-c47f01970186"
      },
      "execution_count": 26,
      "outputs": [
        {
          "output_type": "stream",
          "name": "stdout",
          "text": [
            "Number of unique station ids: 123\n",
            "Number of unique stations: 123\n",
            "Number of unique georeferences: 168\n"
          ]
        }
      ]
    },
    {
      "cell_type": "code",
      "source": [
        "#drop the \"georeference\" column again as its content will be reconstructed using \"latitude\" and \"longitude\" columns in a geodataframe when doing the analysis later.\n",
        "df.drop(columns=['georeference'], inplace=True)\n",
        "\n",
        "# Reset index to have consecutive indices\n",
        "df.reset_index(drop=True, inplace=True)\n"
      ],
      "metadata": {
        "id": "VjWaRfxnkspO"
      },
      "execution_count": 27,
      "outputs": []
    },
    {
      "cell_type": "code",
      "source": [
        "df.to_csv(\"cleaned-subway-data.csv\")"
      ],
      "metadata": {
        "id": "Z81lPyUGqERl"
      },
      "execution_count": 29,
      "outputs": []
    },
    {
      "cell_type": "code",
      "source": [
        "# Export to Gooogle Drive\n",
        "try:\n",
        "    # Specify the path of the file in Colab VM\n",
        "    file_path_in_colab = f'/content/cleaned-subway-data.csv'\n",
        "\n",
        "    # Define the destination folder in Google Drive\n",
        "    destination_folder = '/content/drive/My Drive/Colab Notebooks/'\n",
        "\n",
        "    # Copy the file to the destination folder in Google Drive\n",
        "    shutil.copy(file_path_in_colab, destination_folder + f'cleaned-subway-data.csv')\n",
        "    print(f\"CSV file has been successfully uploaded to Google Drive.\")\n",
        "\n",
        "except Exception as e:\n",
        "    print(f\"An error occurred: {e}\")"
      ],
      "metadata": {
        "colab": {
          "base_uri": "https://localhost:8080/"
        },
        "id": "3JRGc3pUrPyh",
        "outputId": "819ead3a-34eb-4774-e8e1-a53aac6b3f8b"
      },
      "execution_count": 31,
      "outputs": [
        {
          "output_type": "stream",
          "name": "stdout",
          "text": [
            "CSV file has been successfully uploaded to Google Drive.\n"
          ]
        }
      ]
    }
  ]
}