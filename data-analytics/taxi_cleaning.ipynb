{
 "cells": [
  {
   "cell_type": "code",
   "execution_count": null,
   "metadata": {},
   "outputs": [],
   "source": [
    "import os\n",
    "import pandas as pd"
   ]
  },
  {
   "cell_type": "markdown",
   "metadata": {},
   "source": [
    "- TLC = Taxi and Limousine Commission\n",
    "\n",
    "- Yellow = hail or prearrange\n",
    "\n",
    "- Green = Not certain Manhattan Areas (below 110th St. on the West Side, and below 96th St. on the East Side, or at either LaGuardia or JFK airports)\n",
    "\n",
    "- FHV (For Hire Vehicles) = Prearranged, Limousines, Black Cars, Livery (Regular), FHVHV\n",
    "\n",
    "- **FHVHV**/ HVFHV/ HVFHS (For Hire Vehicle High Volume/ High Volume FHV/ High Volume For Hire Service) = \"FHV bases/ Businesses that dispatch more than 10,000 trips per day\" = Lyft/ Uber/ Juno/ Via\n",
    "\n",
    "- See also:\n",
    "    https://www.nyc.gov/site/tlc/passengers/your-ride.page"
   ]
  },
  {
   "cell_type": "code",
   "execution_count": null,
   "metadata": {},
   "outputs": [],
   "source": [
    "# directory = r\"/data-analytics/Datasets/taxi_parquets\"\n",
    "# files = [f for f in os.listdir(directory) if f.endswith('.parquet')]"
   ]
  },
  {
   "cell_type": "code",
   "execution_count": null,
   "metadata": {},
   "outputs": [],
   "source": [
    "# dataframes = []\n",
    "# for file in files:\n",
    "#     file_path = os.path.join(directory, file)\n",
    "#     df = pd.read_parquet(file_path, engine='pyarrow')\n",
    "#     dataframes.append(df)"
   ]
  },
  {
   "cell_type": "markdown",
   "metadata": {},
   "source": [
    "- **Data Quality Report**\n",
    "-**Data Integrity Checks** (To-Do List)\n",
    "\n",
    "\n",
    "- Check 1: Trips with 0 passengers = doesn't represent \"Busy-ness\", drop from dataset.\n",
    "- Check 2: Negative Fare Amounts = Refunds potentially, maybe not valid trips, can't be sure these datapoints are valid for representing \"Busy-ness\", drop from dataset.\n",
    "- Check 3: Pickup Time == Dropoff time -> No time has elapsed (not a case of Store_and_fwd_flag)... Valid Trips? Further checks needed\n",
    "    Further Checks:\n",
    "        -> trip_distance is variable -> Journeys 0 Miles to 13+ Miles (in 0 minutes)\n",
    "        -> total_amount is variable -> fares costing $6 - $48+ (in 0 minutes)\n",
    "        -> difficult to trust these datapoints, drop from dataset where Pickup Time == Dropoff time\n",
    "- Check 4: pickup time < dropoff time = time travel, drop from dataset.\n",
    "- Check 5: negative trip distance, drop from dataset.\n",
    "- Check 6: Invalid datapoints for that month (e.g. Non-Jan-2021 Months in Jan-2021 file), drop from dataset.\n",
    "- Check 7: Non Manhattan locations -> pickup or dropoff not in Manhattan Zones (use accompanying \"taxi_zone_lookup.csv\" file), drop from dataset.\n",
    "- Check 8: RateCodeID != 1-6 (Value of \"99\" present), drop from dataset.\n",
    "- Check 9: payment type == 4 (Dispute) -> unpaid, mispaid, late charge -> often nagative fares (refund?) questionable validity as to if the trip was accurately captured, drop from dataset.\n",
    "- Check 10: Extra -> should only be 0.5 or 1 or 1.5 (rush hour into overnight or vice versa), drop from dataset.\n",
    "- Check 11: if MTA Tax != 50c drop from dataset.\n",
    "- Check 12: improvement_surcharge != 30c -> invalid pre dec 19, 2022, != $1 on/ after Dec 19 2022 -> https://www.nyc.gov/site/tlc/passengers/taxi-fare.page , drop from dataset.\n",
    "- Check 13: Tip amount < 0 == potential data entry error for that row, software bug, refund/ adjustment/ rectify errors, drop from dataset.\n",
    "- Check 14: Tolls amount < 0 == data entry error, drop from dataset.\n",
    "- Check 15: congestion_surcharge != 2.5 or 0.75 for yellow taxis -> \"Plus New York State Congestion Surcharge of $2.50 (Yellow Taxi) or $2.75 (Green Taxi and FHV) or 75 cents (any shared ride) for all trips that begin, end or pass through Manhattan south of 96th Street.\", drop from dataset.\n",
    "- Check 16: Airport_fee == 1.25, provided trip zone ends in Manhattan\n",
    "- Check 17: Yellow Taxis, no more than 5 passengers\n",
    "\n",
    "See also: \n",
    "    https://rules.cityofnewyork.us/rule/taximeter-rate-of-fare-and-various-surcharges/\n",
    "    https://www.nyc.gov/assets/tlc/downloads/pdf/data_dictionary_trip_records_yellow.pdf\n",
    "    https://www.nyc.gov/assets/tlc/downloads/pdf/data_dictionary_trip_records_green.pdf\n",
    "    https://www.nyc.gov/assets/tlc/downloads/pdf/data_dictionary_trip_records_fhv.pdf\n",
    "    https://www.nyc.gov/assets/tlc/downloads/pdf/data_dictionary_trip_records_hvfhs.pdf\n",
    "    https://www.nyc.gov/site/tlc/passengers/passenger-frequently-asked-questions.page \n",
    "    https://www.nyc.gov/site/tlc/passengers/taxi-fare.page \n",
    "    https://www.nyc.gov/assets/tlc/downloads/pdf/archived_public_notices/public_notice_09_17_09.pdf\n",
    "    "
   ]
  }
 ],
 "metadata": {
  "language_info": {
   "name": "python"
  }
 },
 "nbformat": 4,
 "nbformat_minor": 2
}
