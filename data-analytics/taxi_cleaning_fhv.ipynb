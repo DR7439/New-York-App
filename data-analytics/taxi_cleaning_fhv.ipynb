{
 "cells": [
  {
   "cell_type": "code",
   "execution_count": 40,
   "metadata": {},
   "outputs": [],
   "source": [
    "import os\n",
    "import pandas as pd\n",
    "import glob"
   ]
  },
  {
   "cell_type": "code",
   "execution_count": 2,
   "metadata": {},
   "outputs": [
    {
     "name": "stdout",
     "output_type": "stream",
     "text": [
      "All files found: ['c:\\\\Users\\\\35385\\\\Desktop\\\\CS_Summer_2024\\\\Shared_GH\\\\New-York-App\\\\data-analytics\\\\Datasets/taxi_parquets\\\\fhvhv_2021_01.parquet', 'c:\\\\Users\\\\35385\\\\Desktop\\\\CS_Summer_2024\\\\Shared_GH\\\\New-York-App\\\\data-analytics\\\\Datasets/taxi_parquets\\\\fhvhv_2021_02.parquet', 'c:\\\\Users\\\\35385\\\\Desktop\\\\CS_Summer_2024\\\\Shared_GH\\\\New-York-App\\\\data-analytics\\\\Datasets/taxi_parquets\\\\fhvhv_2021_03.parquet', 'c:\\\\Users\\\\35385\\\\Desktop\\\\CS_Summer_2024\\\\Shared_GH\\\\New-York-App\\\\data-analytics\\\\Datasets/taxi_parquets\\\\fhvhv_2021_04.parquet', 'c:\\\\Users\\\\35385\\\\Desktop\\\\CS_Summer_2024\\\\Shared_GH\\\\New-York-App\\\\data-analytics\\\\Datasets/taxi_parquets\\\\fhvhv_2021_05.parquet', 'c:\\\\Users\\\\35385\\\\Desktop\\\\CS_Summer_2024\\\\Shared_GH\\\\New-York-App\\\\data-analytics\\\\Datasets/taxi_parquets\\\\fhvhv_2021_06.parquet', 'c:\\\\Users\\\\35385\\\\Desktop\\\\CS_Summer_2024\\\\Shared_GH\\\\New-York-App\\\\data-analytics\\\\Datasets/taxi_parquets\\\\fhvhv_2021_07.parquet', 'c:\\\\Users\\\\35385\\\\Desktop\\\\CS_Summer_2024\\\\Shared_GH\\\\New-York-App\\\\data-analytics\\\\Datasets/taxi_parquets\\\\fhvhv_2021_08.parquet', 'c:\\\\Users\\\\35385\\\\Desktop\\\\CS_Summer_2024\\\\Shared_GH\\\\New-York-App\\\\data-analytics\\\\Datasets/taxi_parquets\\\\fhvhv_2021_09.parquet', 'c:\\\\Users\\\\35385\\\\Desktop\\\\CS_Summer_2024\\\\Shared_GH\\\\New-York-App\\\\data-analytics\\\\Datasets/taxi_parquets\\\\fhvhv_2021_10.parquet', 'c:\\\\Users\\\\35385\\\\Desktop\\\\CS_Summer_2024\\\\Shared_GH\\\\New-York-App\\\\data-analytics\\\\Datasets/taxi_parquets\\\\fhvhv_2021_11.parquet', 'c:\\\\Users\\\\35385\\\\Desktop\\\\CS_Summer_2024\\\\Shared_GH\\\\New-York-App\\\\data-analytics\\\\Datasets/taxi_parquets\\\\fhvhv_2021_12.parquet', 'c:\\\\Users\\\\35385\\\\Desktop\\\\CS_Summer_2024\\\\Shared_GH\\\\New-York-App\\\\data-analytics\\\\Datasets/taxi_parquets\\\\fhvhv_2022_01.parquet', 'c:\\\\Users\\\\35385\\\\Desktop\\\\CS_Summer_2024\\\\Shared_GH\\\\New-York-App\\\\data-analytics\\\\Datasets/taxi_parquets\\\\fhvhv_2022_02.parquet', 'c:\\\\Users\\\\35385\\\\Desktop\\\\CS_Summer_2024\\\\Shared_GH\\\\New-York-App\\\\data-analytics\\\\Datasets/taxi_parquets\\\\fhvhv_2022_03.parquet', 'c:\\\\Users\\\\35385\\\\Desktop\\\\CS_Summer_2024\\\\Shared_GH\\\\New-York-App\\\\data-analytics\\\\Datasets/taxi_parquets\\\\fhvhv_2022_04.parquet', 'c:\\\\Users\\\\35385\\\\Desktop\\\\CS_Summer_2024\\\\Shared_GH\\\\New-York-App\\\\data-analytics\\\\Datasets/taxi_parquets\\\\fhvhv_2022_05.parquet', 'c:\\\\Users\\\\35385\\\\Desktop\\\\CS_Summer_2024\\\\Shared_GH\\\\New-York-App\\\\data-analytics\\\\Datasets/taxi_parquets\\\\fhvhv_2022_06.parquet', 'c:\\\\Users\\\\35385\\\\Desktop\\\\CS_Summer_2024\\\\Shared_GH\\\\New-York-App\\\\data-analytics\\\\Datasets/taxi_parquets\\\\fhvhv_2022_07.parquet', 'c:\\\\Users\\\\35385\\\\Desktop\\\\CS_Summer_2024\\\\Shared_GH\\\\New-York-App\\\\data-analytics\\\\Datasets/taxi_parquets\\\\fhvhv_2022_08.parquet', 'c:\\\\Users\\\\35385\\\\Desktop\\\\CS_Summer_2024\\\\Shared_GH\\\\New-York-App\\\\data-analytics\\\\Datasets/taxi_parquets\\\\fhvhv_2022_09.parquet', 'c:\\\\Users\\\\35385\\\\Desktop\\\\CS_Summer_2024\\\\Shared_GH\\\\New-York-App\\\\data-analytics\\\\Datasets/taxi_parquets\\\\fhvhv_2022_10.parquet', 'c:\\\\Users\\\\35385\\\\Desktop\\\\CS_Summer_2024\\\\Shared_GH\\\\New-York-App\\\\data-analytics\\\\Datasets/taxi_parquets\\\\fhvhv_2022_11.parquet', 'c:\\\\Users\\\\35385\\\\Desktop\\\\CS_Summer_2024\\\\Shared_GH\\\\New-York-App\\\\data-analytics\\\\Datasets/taxi_parquets\\\\fhvhv_2022_12.parquet', 'c:\\\\Users\\\\35385\\\\Desktop\\\\CS_Summer_2024\\\\Shared_GH\\\\New-York-App\\\\data-analytics\\\\Datasets/taxi_parquets\\\\fhvhv_2023_01.parquet', 'c:\\\\Users\\\\35385\\\\Desktop\\\\CS_Summer_2024\\\\Shared_GH\\\\New-York-App\\\\data-analytics\\\\Datasets/taxi_parquets\\\\fhvhv_2023_02.parquet', 'c:\\\\Users\\\\35385\\\\Desktop\\\\CS_Summer_2024\\\\Shared_GH\\\\New-York-App\\\\data-analytics\\\\Datasets/taxi_parquets\\\\fhvhv_2023_03.parquet', 'c:\\\\Users\\\\35385\\\\Desktop\\\\CS_Summer_2024\\\\Shared_GH\\\\New-York-App\\\\data-analytics\\\\Datasets/taxi_parquets\\\\fhvhv_2023_04.parquet', 'c:\\\\Users\\\\35385\\\\Desktop\\\\CS_Summer_2024\\\\Shared_GH\\\\New-York-App\\\\data-analytics\\\\Datasets/taxi_parquets\\\\fhvhv_2023_05.parquet', 'c:\\\\Users\\\\35385\\\\Desktop\\\\CS_Summer_2024\\\\Shared_GH\\\\New-York-App\\\\data-analytics\\\\Datasets/taxi_parquets\\\\fhvhv_2023_06.parquet', 'c:\\\\Users\\\\35385\\\\Desktop\\\\CS_Summer_2024\\\\Shared_GH\\\\New-York-App\\\\data-analytics\\\\Datasets/taxi_parquets\\\\fhvhv_2023_07.parquet', 'c:\\\\Users\\\\35385\\\\Desktop\\\\CS_Summer_2024\\\\Shared_GH\\\\New-York-App\\\\data-analytics\\\\Datasets/taxi_parquets\\\\fhvhv_2023_08.parquet', 'c:\\\\Users\\\\35385\\\\Desktop\\\\CS_Summer_2024\\\\Shared_GH\\\\New-York-App\\\\data-analytics\\\\Datasets/taxi_parquets\\\\fhvhv_2023_09.parquet', 'c:\\\\Users\\\\35385\\\\Desktop\\\\CS_Summer_2024\\\\Shared_GH\\\\New-York-App\\\\data-analytics\\\\Datasets/taxi_parquets\\\\fhvhv_2023_10.parquet', 'c:\\\\Users\\\\35385\\\\Desktop\\\\CS_Summer_2024\\\\Shared_GH\\\\New-York-App\\\\data-analytics\\\\Datasets/taxi_parquets\\\\fhvhv_2023_11.parquet', 'c:\\\\Users\\\\35385\\\\Desktop\\\\CS_Summer_2024\\\\Shared_GH\\\\New-York-App\\\\data-analytics\\\\Datasets/taxi_parquets\\\\fhvhv_2023_12.parquet', 'c:\\\\Users\\\\35385\\\\Desktop\\\\CS_Summer_2024\\\\Shared_GH\\\\New-York-App\\\\data-analytics\\\\Datasets/taxi_parquets\\\\fhvhv_2024_01.parquet', 'c:\\\\Users\\\\35385\\\\Desktop\\\\CS_Summer_2024\\\\Shared_GH\\\\New-York-App\\\\data-analytics\\\\Datasets/taxi_parquets\\\\fhvhv_2024_02.parquet', 'c:\\\\Users\\\\35385\\\\Desktop\\\\CS_Summer_2024\\\\Shared_GH\\\\New-York-App\\\\data-analytics\\\\Datasets/taxi_parquets\\\\fhvhv_2024_03.parquet', 'c:\\\\Users\\\\35385\\\\Desktop\\\\CS_Summer_2024\\\\Shared_GH\\\\New-York-App\\\\data-analytics\\\\Datasets/taxi_parquets\\\\fhv_2021_01.parquet', 'c:\\\\Users\\\\35385\\\\Desktop\\\\CS_Summer_2024\\\\Shared_GH\\\\New-York-App\\\\data-analytics\\\\Datasets/taxi_parquets\\\\fhv_2021_02.parquet', 'c:\\\\Users\\\\35385\\\\Desktop\\\\CS_Summer_2024\\\\Shared_GH\\\\New-York-App\\\\data-analytics\\\\Datasets/taxi_parquets\\\\fhv_2021_03.parquet', 'c:\\\\Users\\\\35385\\\\Desktop\\\\CS_Summer_2024\\\\Shared_GH\\\\New-York-App\\\\data-analytics\\\\Datasets/taxi_parquets\\\\fhv_2021_04.parquet', 'c:\\\\Users\\\\35385\\\\Desktop\\\\CS_Summer_2024\\\\Shared_GH\\\\New-York-App\\\\data-analytics\\\\Datasets/taxi_parquets\\\\fhv_2021_05.parquet', 'c:\\\\Users\\\\35385\\\\Desktop\\\\CS_Summer_2024\\\\Shared_GH\\\\New-York-App\\\\data-analytics\\\\Datasets/taxi_parquets\\\\fhv_2021_06.parquet', 'c:\\\\Users\\\\35385\\\\Desktop\\\\CS_Summer_2024\\\\Shared_GH\\\\New-York-App\\\\data-analytics\\\\Datasets/taxi_parquets\\\\fhv_2021_07.parquet', 'c:\\\\Users\\\\35385\\\\Desktop\\\\CS_Summer_2024\\\\Shared_GH\\\\New-York-App\\\\data-analytics\\\\Datasets/taxi_parquets\\\\fhv_2021_08.parquet', 'c:\\\\Users\\\\35385\\\\Desktop\\\\CS_Summer_2024\\\\Shared_GH\\\\New-York-App\\\\data-analytics\\\\Datasets/taxi_parquets\\\\fhv_2021_09.parquet', 'c:\\\\Users\\\\35385\\\\Desktop\\\\CS_Summer_2024\\\\Shared_GH\\\\New-York-App\\\\data-analytics\\\\Datasets/taxi_parquets\\\\fhv_2021_10.parquet', 'c:\\\\Users\\\\35385\\\\Desktop\\\\CS_Summer_2024\\\\Shared_GH\\\\New-York-App\\\\data-analytics\\\\Datasets/taxi_parquets\\\\fhv_2021_11.parquet', 'c:\\\\Users\\\\35385\\\\Desktop\\\\CS_Summer_2024\\\\Shared_GH\\\\New-York-App\\\\data-analytics\\\\Datasets/taxi_parquets\\\\fhv_2021_12.parquet', 'c:\\\\Users\\\\35385\\\\Desktop\\\\CS_Summer_2024\\\\Shared_GH\\\\New-York-App\\\\data-analytics\\\\Datasets/taxi_parquets\\\\fhv_2022_01.parquet', 'c:\\\\Users\\\\35385\\\\Desktop\\\\CS_Summer_2024\\\\Shared_GH\\\\New-York-App\\\\data-analytics\\\\Datasets/taxi_parquets\\\\fhv_2022_02.parquet', 'c:\\\\Users\\\\35385\\\\Desktop\\\\CS_Summer_2024\\\\Shared_GH\\\\New-York-App\\\\data-analytics\\\\Datasets/taxi_parquets\\\\fhv_2022_03.parquet', 'c:\\\\Users\\\\35385\\\\Desktop\\\\CS_Summer_2024\\\\Shared_GH\\\\New-York-App\\\\data-analytics\\\\Datasets/taxi_parquets\\\\fhv_2022_04.parquet', 'c:\\\\Users\\\\35385\\\\Desktop\\\\CS_Summer_2024\\\\Shared_GH\\\\New-York-App\\\\data-analytics\\\\Datasets/taxi_parquets\\\\fhv_2022_05.parquet', 'c:\\\\Users\\\\35385\\\\Desktop\\\\CS_Summer_2024\\\\Shared_GH\\\\New-York-App\\\\data-analytics\\\\Datasets/taxi_parquets\\\\fhv_2022_06.parquet', 'c:\\\\Users\\\\35385\\\\Desktop\\\\CS_Summer_2024\\\\Shared_GH\\\\New-York-App\\\\data-analytics\\\\Datasets/taxi_parquets\\\\fhv_2022_07.parquet', 'c:\\\\Users\\\\35385\\\\Desktop\\\\CS_Summer_2024\\\\Shared_GH\\\\New-York-App\\\\data-analytics\\\\Datasets/taxi_parquets\\\\fhv_2022_08.parquet', 'c:\\\\Users\\\\35385\\\\Desktop\\\\CS_Summer_2024\\\\Shared_GH\\\\New-York-App\\\\data-analytics\\\\Datasets/taxi_parquets\\\\fhv_2022_09.parquet', 'c:\\\\Users\\\\35385\\\\Desktop\\\\CS_Summer_2024\\\\Shared_GH\\\\New-York-App\\\\data-analytics\\\\Datasets/taxi_parquets\\\\fhv_2022_10.parquet', 'c:\\\\Users\\\\35385\\\\Desktop\\\\CS_Summer_2024\\\\Shared_GH\\\\New-York-App\\\\data-analytics\\\\Datasets/taxi_parquets\\\\fhv_2022_11.parquet', 'c:\\\\Users\\\\35385\\\\Desktop\\\\CS_Summer_2024\\\\Shared_GH\\\\New-York-App\\\\data-analytics\\\\Datasets/taxi_parquets\\\\fhv_2022_12.parquet', 'c:\\\\Users\\\\35385\\\\Desktop\\\\CS_Summer_2024\\\\Shared_GH\\\\New-York-App\\\\data-analytics\\\\Datasets/taxi_parquets\\\\fhv_2023_01.parquet', 'c:\\\\Users\\\\35385\\\\Desktop\\\\CS_Summer_2024\\\\Shared_GH\\\\New-York-App\\\\data-analytics\\\\Datasets/taxi_parquets\\\\fhv_2023_02.parquet', 'c:\\\\Users\\\\35385\\\\Desktop\\\\CS_Summer_2024\\\\Shared_GH\\\\New-York-App\\\\data-analytics\\\\Datasets/taxi_parquets\\\\fhv_2023_03.parquet', 'c:\\\\Users\\\\35385\\\\Desktop\\\\CS_Summer_2024\\\\Shared_GH\\\\New-York-App\\\\data-analytics\\\\Datasets/taxi_parquets\\\\fhv_2023_04.parquet', 'c:\\\\Users\\\\35385\\\\Desktop\\\\CS_Summer_2024\\\\Shared_GH\\\\New-York-App\\\\data-analytics\\\\Datasets/taxi_parquets\\\\fhv_2023_05.parquet', 'c:\\\\Users\\\\35385\\\\Desktop\\\\CS_Summer_2024\\\\Shared_GH\\\\New-York-App\\\\data-analytics\\\\Datasets/taxi_parquets\\\\fhv_2023_06.parquet', 'c:\\\\Users\\\\35385\\\\Desktop\\\\CS_Summer_2024\\\\Shared_GH\\\\New-York-App\\\\data-analytics\\\\Datasets/taxi_parquets\\\\fhv_2023_07.parquet', 'c:\\\\Users\\\\35385\\\\Desktop\\\\CS_Summer_2024\\\\Shared_GH\\\\New-York-App\\\\data-analytics\\\\Datasets/taxi_parquets\\\\fhv_2023_08.parquet', 'c:\\\\Users\\\\35385\\\\Desktop\\\\CS_Summer_2024\\\\Shared_GH\\\\New-York-App\\\\data-analytics\\\\Datasets/taxi_parquets\\\\fhv_2023_09.parquet', 'c:\\\\Users\\\\35385\\\\Desktop\\\\CS_Summer_2024\\\\Shared_GH\\\\New-York-App\\\\data-analytics\\\\Datasets/taxi_parquets\\\\fhv_2023_10.parquet', 'c:\\\\Users\\\\35385\\\\Desktop\\\\CS_Summer_2024\\\\Shared_GH\\\\New-York-App\\\\data-analytics\\\\Datasets/taxi_parquets\\\\fhv_2023_11.parquet', 'c:\\\\Users\\\\35385\\\\Desktop\\\\CS_Summer_2024\\\\Shared_GH\\\\New-York-App\\\\data-analytics\\\\Datasets/taxi_parquets\\\\fhv_2023_12.parquet', 'c:\\\\Users\\\\35385\\\\Desktop\\\\CS_Summer_2024\\\\Shared_GH\\\\New-York-App\\\\data-analytics\\\\Datasets/taxi_parquets\\\\fhv_2024_01.parquet', 'c:\\\\Users\\\\35385\\\\Desktop\\\\CS_Summer_2024\\\\Shared_GH\\\\New-York-App\\\\data-analytics\\\\Datasets/taxi_parquets\\\\fhv_2024_02.parquet', 'c:\\\\Users\\\\35385\\\\Desktop\\\\CS_Summer_2024\\\\Shared_GH\\\\New-York-App\\\\data-analytics\\\\Datasets/taxi_parquets\\\\fhv_2024_03.parquet', 'c:\\\\Users\\\\35385\\\\Desktop\\\\CS_Summer_2024\\\\Shared_GH\\\\New-York-App\\\\data-analytics\\\\Datasets/taxi_parquets\\\\green_2021_01.parquet', 'c:\\\\Users\\\\35385\\\\Desktop\\\\CS_Summer_2024\\\\Shared_GH\\\\New-York-App\\\\data-analytics\\\\Datasets/taxi_parquets\\\\green_2021_02.parquet', 'c:\\\\Users\\\\35385\\\\Desktop\\\\CS_Summer_2024\\\\Shared_GH\\\\New-York-App\\\\data-analytics\\\\Datasets/taxi_parquets\\\\green_2021_03.parquet', 'c:\\\\Users\\\\35385\\\\Desktop\\\\CS_Summer_2024\\\\Shared_GH\\\\New-York-App\\\\data-analytics\\\\Datasets/taxi_parquets\\\\green_2021_04.parquet', 'c:\\\\Users\\\\35385\\\\Desktop\\\\CS_Summer_2024\\\\Shared_GH\\\\New-York-App\\\\data-analytics\\\\Datasets/taxi_parquets\\\\green_2021_05.parquet', 'c:\\\\Users\\\\35385\\\\Desktop\\\\CS_Summer_2024\\\\Shared_GH\\\\New-York-App\\\\data-analytics\\\\Datasets/taxi_parquets\\\\green_2021_06.parquet', 'c:\\\\Users\\\\35385\\\\Desktop\\\\CS_Summer_2024\\\\Shared_GH\\\\New-York-App\\\\data-analytics\\\\Datasets/taxi_parquets\\\\green_2021_07.parquet', 'c:\\\\Users\\\\35385\\\\Desktop\\\\CS_Summer_2024\\\\Shared_GH\\\\New-York-App\\\\data-analytics\\\\Datasets/taxi_parquets\\\\green_2021_08.parquet', 'c:\\\\Users\\\\35385\\\\Desktop\\\\CS_Summer_2024\\\\Shared_GH\\\\New-York-App\\\\data-analytics\\\\Datasets/taxi_parquets\\\\green_2021_09.parquet', 'c:\\\\Users\\\\35385\\\\Desktop\\\\CS_Summer_2024\\\\Shared_GH\\\\New-York-App\\\\data-analytics\\\\Datasets/taxi_parquets\\\\green_2021_10.parquet', 'c:\\\\Users\\\\35385\\\\Desktop\\\\CS_Summer_2024\\\\Shared_GH\\\\New-York-App\\\\data-analytics\\\\Datasets/taxi_parquets\\\\green_2021_11.parquet', 'c:\\\\Users\\\\35385\\\\Desktop\\\\CS_Summer_2024\\\\Shared_GH\\\\New-York-App\\\\data-analytics\\\\Datasets/taxi_parquets\\\\green_2021_12.parquet', 'c:\\\\Users\\\\35385\\\\Desktop\\\\CS_Summer_2024\\\\Shared_GH\\\\New-York-App\\\\data-analytics\\\\Datasets/taxi_parquets\\\\green_2022_01.parquet', 'c:\\\\Users\\\\35385\\\\Desktop\\\\CS_Summer_2024\\\\Shared_GH\\\\New-York-App\\\\data-analytics\\\\Datasets/taxi_parquets\\\\green_2022_02.parquet', 'c:\\\\Users\\\\35385\\\\Desktop\\\\CS_Summer_2024\\\\Shared_GH\\\\New-York-App\\\\data-analytics\\\\Datasets/taxi_parquets\\\\green_2022_03.parquet', 'c:\\\\Users\\\\35385\\\\Desktop\\\\CS_Summer_2024\\\\Shared_GH\\\\New-York-App\\\\data-analytics\\\\Datasets/taxi_parquets\\\\green_2022_04.parquet', 'c:\\\\Users\\\\35385\\\\Desktop\\\\CS_Summer_2024\\\\Shared_GH\\\\New-York-App\\\\data-analytics\\\\Datasets/taxi_parquets\\\\green_2022_05.parquet', 'c:\\\\Users\\\\35385\\\\Desktop\\\\CS_Summer_2024\\\\Shared_GH\\\\New-York-App\\\\data-analytics\\\\Datasets/taxi_parquets\\\\green_2022_06.parquet', 'c:\\\\Users\\\\35385\\\\Desktop\\\\CS_Summer_2024\\\\Shared_GH\\\\New-York-App\\\\data-analytics\\\\Datasets/taxi_parquets\\\\green_2022_07.parquet', 'c:\\\\Users\\\\35385\\\\Desktop\\\\CS_Summer_2024\\\\Shared_GH\\\\New-York-App\\\\data-analytics\\\\Datasets/taxi_parquets\\\\green_2022_08.parquet', 'c:\\\\Users\\\\35385\\\\Desktop\\\\CS_Summer_2024\\\\Shared_GH\\\\New-York-App\\\\data-analytics\\\\Datasets/taxi_parquets\\\\green_2022_09.parquet', 'c:\\\\Users\\\\35385\\\\Desktop\\\\CS_Summer_2024\\\\Shared_GH\\\\New-York-App\\\\data-analytics\\\\Datasets/taxi_parquets\\\\green_2022_10.parquet', 'c:\\\\Users\\\\35385\\\\Desktop\\\\CS_Summer_2024\\\\Shared_GH\\\\New-York-App\\\\data-analytics\\\\Datasets/taxi_parquets\\\\green_2022_11.parquet', 'c:\\\\Users\\\\35385\\\\Desktop\\\\CS_Summer_2024\\\\Shared_GH\\\\New-York-App\\\\data-analytics\\\\Datasets/taxi_parquets\\\\green_2022_12.parquet', 'c:\\\\Users\\\\35385\\\\Desktop\\\\CS_Summer_2024\\\\Shared_GH\\\\New-York-App\\\\data-analytics\\\\Datasets/taxi_parquets\\\\green_2023_01.parquet', 'c:\\\\Users\\\\35385\\\\Desktop\\\\CS_Summer_2024\\\\Shared_GH\\\\New-York-App\\\\data-analytics\\\\Datasets/taxi_parquets\\\\green_2023_02.parquet', 'c:\\\\Users\\\\35385\\\\Desktop\\\\CS_Summer_2024\\\\Shared_GH\\\\New-York-App\\\\data-analytics\\\\Datasets/taxi_parquets\\\\green_2023_03.parquet', 'c:\\\\Users\\\\35385\\\\Desktop\\\\CS_Summer_2024\\\\Shared_GH\\\\New-York-App\\\\data-analytics\\\\Datasets/taxi_parquets\\\\green_2023_04.parquet', 'c:\\\\Users\\\\35385\\\\Desktop\\\\CS_Summer_2024\\\\Shared_GH\\\\New-York-App\\\\data-analytics\\\\Datasets/taxi_parquets\\\\green_2023_05.parquet', 'c:\\\\Users\\\\35385\\\\Desktop\\\\CS_Summer_2024\\\\Shared_GH\\\\New-York-App\\\\data-analytics\\\\Datasets/taxi_parquets\\\\green_2023_06.parquet', 'c:\\\\Users\\\\35385\\\\Desktop\\\\CS_Summer_2024\\\\Shared_GH\\\\New-York-App\\\\data-analytics\\\\Datasets/taxi_parquets\\\\green_2023_07.parquet', 'c:\\\\Users\\\\35385\\\\Desktop\\\\CS_Summer_2024\\\\Shared_GH\\\\New-York-App\\\\data-analytics\\\\Datasets/taxi_parquets\\\\green_2023_08.parquet', 'c:\\\\Users\\\\35385\\\\Desktop\\\\CS_Summer_2024\\\\Shared_GH\\\\New-York-App\\\\data-analytics\\\\Datasets/taxi_parquets\\\\green_2023_09.parquet', 'c:\\\\Users\\\\35385\\\\Desktop\\\\CS_Summer_2024\\\\Shared_GH\\\\New-York-App\\\\data-analytics\\\\Datasets/taxi_parquets\\\\green_2023_10.parquet', 'c:\\\\Users\\\\35385\\\\Desktop\\\\CS_Summer_2024\\\\Shared_GH\\\\New-York-App\\\\data-analytics\\\\Datasets/taxi_parquets\\\\green_2023_11.parquet', 'c:\\\\Users\\\\35385\\\\Desktop\\\\CS_Summer_2024\\\\Shared_GH\\\\New-York-App\\\\data-analytics\\\\Datasets/taxi_parquets\\\\green_2023_12.parquet', 'c:\\\\Users\\\\35385\\\\Desktop\\\\CS_Summer_2024\\\\Shared_GH\\\\New-York-App\\\\data-analytics\\\\Datasets/taxi_parquets\\\\green_2024_01.parquet', 'c:\\\\Users\\\\35385\\\\Desktop\\\\CS_Summer_2024\\\\Shared_GH\\\\New-York-App\\\\data-analytics\\\\Datasets/taxi_parquets\\\\green_2024_02.parquet', 'c:\\\\Users\\\\35385\\\\Desktop\\\\CS_Summer_2024\\\\Shared_GH\\\\New-York-App\\\\data-analytics\\\\Datasets/taxi_parquets\\\\green_2024_03.parquet', 'c:\\\\Users\\\\35385\\\\Desktop\\\\CS_Summer_2024\\\\Shared_GH\\\\New-York-App\\\\data-analytics\\\\Datasets/taxi_parquets\\\\yellow_2021_01.parquet', 'c:\\\\Users\\\\35385\\\\Desktop\\\\CS_Summer_2024\\\\Shared_GH\\\\New-York-App\\\\data-analytics\\\\Datasets/taxi_parquets\\\\yellow_2021_02.parquet', 'c:\\\\Users\\\\35385\\\\Desktop\\\\CS_Summer_2024\\\\Shared_GH\\\\New-York-App\\\\data-analytics\\\\Datasets/taxi_parquets\\\\yellow_2021_03.parquet', 'c:\\\\Users\\\\35385\\\\Desktop\\\\CS_Summer_2024\\\\Shared_GH\\\\New-York-App\\\\data-analytics\\\\Datasets/taxi_parquets\\\\yellow_2021_04.parquet', 'c:\\\\Users\\\\35385\\\\Desktop\\\\CS_Summer_2024\\\\Shared_GH\\\\New-York-App\\\\data-analytics\\\\Datasets/taxi_parquets\\\\yellow_2021_05.parquet', 'c:\\\\Users\\\\35385\\\\Desktop\\\\CS_Summer_2024\\\\Shared_GH\\\\New-York-App\\\\data-analytics\\\\Datasets/taxi_parquets\\\\yellow_2021_06.parquet', 'c:\\\\Users\\\\35385\\\\Desktop\\\\CS_Summer_2024\\\\Shared_GH\\\\New-York-App\\\\data-analytics\\\\Datasets/taxi_parquets\\\\yellow_2021_07.parquet', 'c:\\\\Users\\\\35385\\\\Desktop\\\\CS_Summer_2024\\\\Shared_GH\\\\New-York-App\\\\data-analytics\\\\Datasets/taxi_parquets\\\\yellow_2021_08.parquet', 'c:\\\\Users\\\\35385\\\\Desktop\\\\CS_Summer_2024\\\\Shared_GH\\\\New-York-App\\\\data-analytics\\\\Datasets/taxi_parquets\\\\yellow_2021_09.parquet', 'c:\\\\Users\\\\35385\\\\Desktop\\\\CS_Summer_2024\\\\Shared_GH\\\\New-York-App\\\\data-analytics\\\\Datasets/taxi_parquets\\\\yellow_2021_10.parquet', 'c:\\\\Users\\\\35385\\\\Desktop\\\\CS_Summer_2024\\\\Shared_GH\\\\New-York-App\\\\data-analytics\\\\Datasets/taxi_parquets\\\\yellow_2021_11.parquet', 'c:\\\\Users\\\\35385\\\\Desktop\\\\CS_Summer_2024\\\\Shared_GH\\\\New-York-App\\\\data-analytics\\\\Datasets/taxi_parquets\\\\yellow_2021_12.parquet', 'c:\\\\Users\\\\35385\\\\Desktop\\\\CS_Summer_2024\\\\Shared_GH\\\\New-York-App\\\\data-analytics\\\\Datasets/taxi_parquets\\\\yellow_2022_01.parquet', 'c:\\\\Users\\\\35385\\\\Desktop\\\\CS_Summer_2024\\\\Shared_GH\\\\New-York-App\\\\data-analytics\\\\Datasets/taxi_parquets\\\\yellow_2022_02.parquet', 'c:\\\\Users\\\\35385\\\\Desktop\\\\CS_Summer_2024\\\\Shared_GH\\\\New-York-App\\\\data-analytics\\\\Datasets/taxi_parquets\\\\yellow_2022_03.parquet', 'c:\\\\Users\\\\35385\\\\Desktop\\\\CS_Summer_2024\\\\Shared_GH\\\\New-York-App\\\\data-analytics\\\\Datasets/taxi_parquets\\\\yellow_2022_04.parquet', 'c:\\\\Users\\\\35385\\\\Desktop\\\\CS_Summer_2024\\\\Shared_GH\\\\New-York-App\\\\data-analytics\\\\Datasets/taxi_parquets\\\\yellow_2022_05.parquet', 'c:\\\\Users\\\\35385\\\\Desktop\\\\CS_Summer_2024\\\\Shared_GH\\\\New-York-App\\\\data-analytics\\\\Datasets/taxi_parquets\\\\yellow_2022_06.parquet', 'c:\\\\Users\\\\35385\\\\Desktop\\\\CS_Summer_2024\\\\Shared_GH\\\\New-York-App\\\\data-analytics\\\\Datasets/taxi_parquets\\\\yellow_2022_07.parquet', 'c:\\\\Users\\\\35385\\\\Desktop\\\\CS_Summer_2024\\\\Shared_GH\\\\New-York-App\\\\data-analytics\\\\Datasets/taxi_parquets\\\\yellow_2022_08.parquet', 'c:\\\\Users\\\\35385\\\\Desktop\\\\CS_Summer_2024\\\\Shared_GH\\\\New-York-App\\\\data-analytics\\\\Datasets/taxi_parquets\\\\yellow_2022_09.parquet', 'c:\\\\Users\\\\35385\\\\Desktop\\\\CS_Summer_2024\\\\Shared_GH\\\\New-York-App\\\\data-analytics\\\\Datasets/taxi_parquets\\\\yellow_2022_10.parquet', 'c:\\\\Users\\\\35385\\\\Desktop\\\\CS_Summer_2024\\\\Shared_GH\\\\New-York-App\\\\data-analytics\\\\Datasets/taxi_parquets\\\\yellow_2022_11.parquet', 'c:\\\\Users\\\\35385\\\\Desktop\\\\CS_Summer_2024\\\\Shared_GH\\\\New-York-App\\\\data-analytics\\\\Datasets/taxi_parquets\\\\yellow_2022_12.parquet', 'c:\\\\Users\\\\35385\\\\Desktop\\\\CS_Summer_2024\\\\Shared_GH\\\\New-York-App\\\\data-analytics\\\\Datasets/taxi_parquets\\\\yellow_2023_01.parquet', 'c:\\\\Users\\\\35385\\\\Desktop\\\\CS_Summer_2024\\\\Shared_GH\\\\New-York-App\\\\data-analytics\\\\Datasets/taxi_parquets\\\\yellow_2023_02.parquet', 'c:\\\\Users\\\\35385\\\\Desktop\\\\CS_Summer_2024\\\\Shared_GH\\\\New-York-App\\\\data-analytics\\\\Datasets/taxi_parquets\\\\yellow_2023_03.parquet', 'c:\\\\Users\\\\35385\\\\Desktop\\\\CS_Summer_2024\\\\Shared_GH\\\\New-York-App\\\\data-analytics\\\\Datasets/taxi_parquets\\\\yellow_2023_04.parquet', 'c:\\\\Users\\\\35385\\\\Desktop\\\\CS_Summer_2024\\\\Shared_GH\\\\New-York-App\\\\data-analytics\\\\Datasets/taxi_parquets\\\\yellow_2023_05.parquet', 'c:\\\\Users\\\\35385\\\\Desktop\\\\CS_Summer_2024\\\\Shared_GH\\\\New-York-App\\\\data-analytics\\\\Datasets/taxi_parquets\\\\yellow_2023_06.parquet', 'c:\\\\Users\\\\35385\\\\Desktop\\\\CS_Summer_2024\\\\Shared_GH\\\\New-York-App\\\\data-analytics\\\\Datasets/taxi_parquets\\\\yellow_2023_07.parquet', 'c:\\\\Users\\\\35385\\\\Desktop\\\\CS_Summer_2024\\\\Shared_GH\\\\New-York-App\\\\data-analytics\\\\Datasets/taxi_parquets\\\\yellow_2023_08.parquet', 'c:\\\\Users\\\\35385\\\\Desktop\\\\CS_Summer_2024\\\\Shared_GH\\\\New-York-App\\\\data-analytics\\\\Datasets/taxi_parquets\\\\yellow_2023_09.parquet', 'c:\\\\Users\\\\35385\\\\Desktop\\\\CS_Summer_2024\\\\Shared_GH\\\\New-York-App\\\\data-analytics\\\\Datasets/taxi_parquets\\\\yellow_2023_10.parquet', 'c:\\\\Users\\\\35385\\\\Desktop\\\\CS_Summer_2024\\\\Shared_GH\\\\New-York-App\\\\data-analytics\\\\Datasets/taxi_parquets\\\\yellow_2023_11.parquet', 'c:\\\\Users\\\\35385\\\\Desktop\\\\CS_Summer_2024\\\\Shared_GH\\\\New-York-App\\\\data-analytics\\\\Datasets/taxi_parquets\\\\yellow_2023_12.parquet', 'c:\\\\Users\\\\35385\\\\Desktop\\\\CS_Summer_2024\\\\Shared_GH\\\\New-York-App\\\\data-analytics\\\\Datasets/taxi_parquets\\\\yellow_2024_01.parquet', 'c:\\\\Users\\\\35385\\\\Desktop\\\\CS_Summer_2024\\\\Shared_GH\\\\New-York-App\\\\data-analytics\\\\Datasets/taxi_parquets\\\\yellow_2024_02.parquet', 'c:\\\\Users\\\\35385\\\\Desktop\\\\CS_Summer_2024\\\\Shared_GH\\\\New-York-App\\\\data-analytics\\\\Datasets/taxi_parquets\\\\yellow_2024_03.parquet']\n",
      "156\n"
     ]
    }
   ],
   "source": [
    "data_dir = os.path.join(os.getcwd(), \"Datasets/taxi_parquets\")\n",
    "all_files = glob.glob(os.path.join(data_dir, \"*.parquet\"))\n",
    "print(\"All files found:\", all_files)\n",
    "print(len(all_files))"
   ]
  },
  {
   "cell_type": "code",
   "execution_count": 3,
   "metadata": {},
   "outputs": [
    {
     "name": "stdout",
     "output_type": "stream",
     "text": [
      "File path for fhv_2021_01: /data-analytics/Datasets/taxi_parquets/fhv_2021_01_parquet\n"
     ]
    }
   ],
   "source": [
    "print(\"File path for fhv_2021_01:\", r\"/data-analytics/Datasets/taxi_parquets/fhv_2021_01_parquet\")"
   ]
  },
  {
   "cell_type": "code",
   "execution_count": 41,
   "metadata": {},
   "outputs": [
    {
     "name": "stdout",
     "output_type": "stream",
     "text": [
      "Current Working Directory: c:\\Users\\35385\\Desktop\\CS_Summer_2024\\Shared_GH\\New-York-App\\data-analytics\n",
      "Data Directory: c:\\Users\\35385\\Desktop\\CS_Summer_2024\\Shared_GH\\New-York-App\\data-analytics\\Datasets/taxi_parquets\n",
      "fhv_2021_01_path: c:\\Users\\35385\\Desktop\\CS_Summer_2024\\Shared_GH\\New-York-App\\data-analytics\\Datasets/taxi_parquets\\fhv_2021_01.parquet\n"
     ]
    }
   ],
   "source": [
    "cwd = os.getcwd()\n",
    "print(\"Current Working Directory:\", cwd)\n",
    "\n",
    "# Define the directory where the data is located relative to the current working directory\n",
    "print(\"Data Directory:\", data_dir)\n",
    "\n",
    "# Define the file paths relative to the data directory\n",
    "fhv_2021_01_path = os.path.join(cwd, data_dir, \"fhv_2021_01.parquet\")\n",
    "\n",
    "# Print the constructed file paths to verify\n",
    "print(\"fhv_2021_01_path:\", fhv_2021_01_path)\n"
   ]
  },
  {
   "cell_type": "code",
   "execution_count": 43,
   "metadata": {},
   "outputs": [],
   "source": [
    "fhv_2021_01 = pd.read_parquet(fhv_2021_01_path, engine='pyarrow')"
   ]
  },
  {
   "cell_type": "code",
   "execution_count": 7,
   "metadata": {},
   "outputs": [
    {
     "name": "stdout",
     "output_type": "stream",
     "text": [
      "Directory path to save CSV files: Datasets\\taxi_other\n"
     ]
    }
   ],
   "source": [
    "\"\"\" \n",
    "Save dataframes to CSVs, for alternative and efficient analysis\n",
    "Similar error catching as above\n",
    "\"\"\"\n",
    "\n",
    "directory_path = os.path.join(\"Datasets\", \"taxi_other\")\n",
    "\n",
    "# Print target directory path (error catching)\n",
    "print(\"Directory path to save CSV files:\", directory_path)\n",
    "\n",
    "# Verify the directory exists\n",
    "if not os.path.isdir(directory_path):\n",
    "    raise OSError(f\"Directory does not exist: '{directory_path}'\")\n",
    "\n",
    "# Define file paths for each CSV\n",
    "fhv_file_path = os.path.join(directory_path, \"fhv_2021_01.csv\")\n",
    "\n",
    "# Save each dataframe to its respective CSV file\n",
    "fhv_2021_01.to_csv(fhv_file_path, index=False)\n"
   ]
  },
  {
   "cell_type": "code",
   "execution_count": 20,
   "metadata": {},
   "outputs": [
    {
     "data": {
      "text/html": [
       "<div>\n",
       "<style scoped>\n",
       "    .dataframe tbody tr th:only-of-type {\n",
       "        vertical-align: middle;\n",
       "    }\n",
       "\n",
       "    .dataframe tbody tr th {\n",
       "        vertical-align: top;\n",
       "    }\n",
       "\n",
       "    .dataframe thead th {\n",
       "        text-align: right;\n",
       "    }\n",
       "</style>\n",
       "<table border=\"1\" class=\"dataframe\">\n",
       "  <thead>\n",
       "    <tr style=\"text-align: right;\">\n",
       "      <th></th>\n",
       "      <th>dispatching_base_num</th>\n",
       "      <th>pickup_datetime</th>\n",
       "      <th>dropOff_datetime</th>\n",
       "      <th>PUlocationID</th>\n",
       "      <th>DOlocationID</th>\n",
       "      <th>SR_Flag</th>\n",
       "      <th>Affiliated_base_number</th>\n",
       "    </tr>\n",
       "  </thead>\n",
       "  <tbody>\n",
       "    <tr>\n",
       "      <th>0</th>\n",
       "      <td>B00009</td>\n",
       "      <td>2021-01-01 00:27:00</td>\n",
       "      <td>2021-01-01 00:44:00</td>\n",
       "      <td>NaN</td>\n",
       "      <td>NaN</td>\n",
       "      <td>None</td>\n",
       "      <td>B00009</td>\n",
       "    </tr>\n",
       "    <tr>\n",
       "      <th>1</th>\n",
       "      <td>B00009</td>\n",
       "      <td>2021-01-01 00:50:00</td>\n",
       "      <td>2021-01-01 01:07:00</td>\n",
       "      <td>NaN</td>\n",
       "      <td>NaN</td>\n",
       "      <td>None</td>\n",
       "      <td>B00009</td>\n",
       "    </tr>\n",
       "    <tr>\n",
       "      <th>2</th>\n",
       "      <td>B00013</td>\n",
       "      <td>2021-01-01 00:01:00</td>\n",
       "      <td>2021-01-01 01:51:00</td>\n",
       "      <td>NaN</td>\n",
       "      <td>NaN</td>\n",
       "      <td>None</td>\n",
       "      <td>B00013</td>\n",
       "    </tr>\n",
       "    <tr>\n",
       "      <th>3</th>\n",
       "      <td>B00037</td>\n",
       "      <td>2021-01-01 00:13:09</td>\n",
       "      <td>2021-01-01 00:21:26</td>\n",
       "      <td>NaN</td>\n",
       "      <td>72.0</td>\n",
       "      <td>None</td>\n",
       "      <td>B00037</td>\n",
       "    </tr>\n",
       "    <tr>\n",
       "      <th>4</th>\n",
       "      <td>B00037</td>\n",
       "      <td>2021-01-01 00:38:31</td>\n",
       "      <td>2021-01-01 00:53:44</td>\n",
       "      <td>NaN</td>\n",
       "      <td>61.0</td>\n",
       "      <td>None</td>\n",
       "      <td>B00037</td>\n",
       "    </tr>\n",
       "    <tr>\n",
       "      <th>5</th>\n",
       "      <td>B00037</td>\n",
       "      <td>2021-01-01 00:59:02</td>\n",
       "      <td>2021-01-01 01:08:05</td>\n",
       "      <td>NaN</td>\n",
       "      <td>71.0</td>\n",
       "      <td>None</td>\n",
       "      <td>B00037</td>\n",
       "    </tr>\n",
       "    <tr>\n",
       "      <th>6</th>\n",
       "      <td>B00037</td>\n",
       "      <td>2021-01-01 00:18:12</td>\n",
       "      <td>2021-01-01 00:30:04</td>\n",
       "      <td>NaN</td>\n",
       "      <td>91.0</td>\n",
       "      <td>None</td>\n",
       "      <td>B00037</td>\n",
       "    </tr>\n",
       "    <tr>\n",
       "      <th>7</th>\n",
       "      <td>B00037</td>\n",
       "      <td>2021-01-01 00:36:15</td>\n",
       "      <td>2021-01-01 00:45:08</td>\n",
       "      <td>NaN</td>\n",
       "      <td>39.0</td>\n",
       "      <td>None</td>\n",
       "      <td>B00037</td>\n",
       "    </tr>\n",
       "    <tr>\n",
       "      <th>8</th>\n",
       "      <td>B00037</td>\n",
       "      <td>2021-01-01 00:55:04</td>\n",
       "      <td>2021-01-01 01:13:02</td>\n",
       "      <td>NaN</td>\n",
       "      <td>37.0</td>\n",
       "      <td>None</td>\n",
       "      <td>B00037</td>\n",
       "    </tr>\n",
       "    <tr>\n",
       "      <th>9</th>\n",
       "      <td>B00037</td>\n",
       "      <td>2021-01-01 00:48:40</td>\n",
       "      <td>2021-01-01 01:12:02</td>\n",
       "      <td>NaN</td>\n",
       "      <td>39.0</td>\n",
       "      <td>None</td>\n",
       "      <td>B00037</td>\n",
       "    </tr>\n",
       "  </tbody>\n",
       "</table>\n",
       "</div>"
      ],
      "text/plain": [
       "  dispatching_base_num     pickup_datetime    dropOff_datetime  PUlocationID  \\\n",
       "0               B00009 2021-01-01 00:27:00 2021-01-01 00:44:00           NaN   \n",
       "1               B00009 2021-01-01 00:50:00 2021-01-01 01:07:00           NaN   \n",
       "2               B00013 2021-01-01 00:01:00 2021-01-01 01:51:00           NaN   \n",
       "3               B00037 2021-01-01 00:13:09 2021-01-01 00:21:26           NaN   \n",
       "4               B00037 2021-01-01 00:38:31 2021-01-01 00:53:44           NaN   \n",
       "5               B00037 2021-01-01 00:59:02 2021-01-01 01:08:05           NaN   \n",
       "6               B00037 2021-01-01 00:18:12 2021-01-01 00:30:04           NaN   \n",
       "7               B00037 2021-01-01 00:36:15 2021-01-01 00:45:08           NaN   \n",
       "8               B00037 2021-01-01 00:55:04 2021-01-01 01:13:02           NaN   \n",
       "9               B00037 2021-01-01 00:48:40 2021-01-01 01:12:02           NaN   \n",
       "\n",
       "   DOlocationID SR_Flag Affiliated_base_number  \n",
       "0           NaN    None                 B00009  \n",
       "1           NaN    None                 B00009  \n",
       "2           NaN    None                 B00013  \n",
       "3          72.0    None                 B00037  \n",
       "4          61.0    None                 B00037  \n",
       "5          71.0    None                 B00037  \n",
       "6          91.0    None                 B00037  \n",
       "7          39.0    None                 B00037  \n",
       "8          37.0    None                 B00037  \n",
       "9          39.0    None                 B00037  "
      ]
     },
     "execution_count": 20,
     "metadata": {},
     "output_type": "execute_result"
    }
   ],
   "source": [
    "fhv_2021_01.head(10)"
   ]
  },
  {
   "cell_type": "code",
   "execution_count": 44,
   "metadata": {},
   "outputs": [
    {
     "name": "stdout",
     "output_type": "stream",
     "text": [
      "<class 'pandas.core.frame.DataFrame'>\n",
      "RangeIndex: 1154112 entries, 0 to 1154111\n",
      "Data columns (total 7 columns):\n",
      " #   Column                  Non-Null Count    Dtype         \n",
      "---  ------                  --------------    -----         \n",
      " 0   dispatching_base_num    1154112 non-null  object        \n",
      " 1   pickup_datetime         1154112 non-null  datetime64[us]\n",
      " 2   dropOff_datetime        1154112 non-null  datetime64[us]\n",
      " 3   PUlocationID            195845 non-null   float64       \n",
      " 4   DOlocationID            991892 non-null   float64       \n",
      " 5   SR_Flag                 0 non-null        object        \n",
      " 6   Affiliated_base_number  1153227 non-null  object        \n",
      "dtypes: datetime64[us](2), float64(2), object(3)\n",
      "memory usage: 61.6+ MB\n"
     ]
    }
   ],
   "source": [
    "fhv_2021_01.info()"
   ]
  },
  {
   "cell_type": "code",
   "execution_count": 45,
   "metadata": {},
   "outputs": [],
   "source": [
    "def renaming_fhv_to_standard(dfs):\n",
    "    \"\"\" \n",
    "    Functions for renaming the columns of a dataset or list of datasets to standard names, which will ease the cleaning process\n",
    "    \"\"\"\n",
    "    if isinstance(dfs, pd.DataFrame):\n",
    "        dfs = [dfs]  # Convert single DataFrame to a list of one DataFrame\n",
    "    for df in dfs:\n",
    "        if isinstance(df, pd.DataFrame):\n",
    "            df.rename(columns={\n",
    "                'dropOff_datetime': 'dropoff_datetime', \n",
    "                'PUlocationID': 'pickup_zone', \n",
    "                'DOlocationID': 'dropoff_zone'\n",
    "            }, inplace=True)\n",
    "        else:\n",
    "            print(\"Warning: The list contains non-DataFrame elements\")\n",
    "\n",
    "renaming_fhv_to_standard(fhv_2021_01)"
   ]
  },
  {
   "cell_type": "code",
   "execution_count": 46,
   "metadata": {},
   "outputs": [
    {
     "name": "stdout",
     "output_type": "stream",
     "text": [
      "Duplicate rows found:\n",
      "         dispatching_base_num     pickup_datetime    dropoff_datetime  \\\n",
      "8885                  B02037 2021-01-01 09:30:00 2021-01-01 09:45:00   \n",
      "9108                  B02832 2021-01-01 09:30:00 2021-01-01 10:00:00   \n",
      "9739                  B01336 2021-01-01 10:14:00 2021-01-01 10:38:00   \n",
      "9740                  B01336 2021-01-01 10:41:00 2021-01-01 11:05:00   \n",
      "9742                  B01336 2021-01-01 10:14:00 2021-01-01 10:38:00   \n",
      "...                      ...                 ...                 ...   \n",
      "1146526               B02819 2021-01-31 16:05:29 2021-01-31 16:16:31   \n",
      "1147295               B01280 2021-01-31 17:53:00 2021-01-31 18:17:00   \n",
      "1147362               B01336 2021-01-31 17:31:00 2021-01-31 17:55:00   \n",
      "1148728               B01336 2021-01-31 18:30:00 2021-01-31 18:54:00   \n",
      "1148804               B01466 2021-01-31 18:45:04 2021-01-31 19:21:27   \n",
      "\n",
      "         pickup_zone  dropoff_zone SR_Flag Affiliated_base_number  \n",
      "8885             NaN           NaN    None                         \n",
      "9108           264.0         264.0    None                 B02832  \n",
      "9739             NaN           NaN    None                 B01336  \n",
      "9740             NaN           NaN    None                 B01336  \n",
      "9742             NaN           NaN    None                 B01336  \n",
      "...              ...           ...     ...                    ...  \n",
      "1146526          NaN          89.0    None                 B02819  \n",
      "1147295          NaN           NaN    None                 B01280  \n",
      "1147362          NaN           NaN    None                 B01336  \n",
      "1148728          NaN           NaN    None                 B01336  \n",
      "1148804          NaN          76.0    None                 B01466  \n",
      "\n",
      "[2059 rows x 7 columns]\n"
     ]
    }
   ],
   "source": [
    "def duplicated_rows(dfs):\n",
    "    if isinstance(dfs, pd.DataFrame):\n",
    "        dfs = [dfs]  # Convert single DataFrame to a list of one DataFrame\n",
    "    for df in dfs:\n",
    "        if isinstance(df, pd.DataFrame):\n",
    "            duplicate_rows = df[df.duplicated()]\n",
    "            if not duplicate_rows.empty:\n",
    "                print(\"Duplicate rows found:\\n\", duplicate_rows)\n",
    "            else:\n",
    "                print(\"No duplicate rows found\")\n",
    "duplicated_rows(fhv_2021_01)"
   ]
  },
  {
   "cell_type": "code",
   "execution_count": 24,
   "metadata": {},
   "outputs": [
    {
     "name": "stdout",
     "output_type": "stream",
     "text": [
      "Did anyone Time Travel?\n",
      "0\n",
      "No rows where time travel occurred.\n"
     ]
    }
   ],
   "source": [
    "def time_travel(dfs):    \n",
    "    if isinstance(dfs, pd.DataFrame):\n",
    "        dfs = [dfs]  # Convert single DataFrame to a list of one DataFrame\n",
    "    for df in dfs:\n",
    "        if isinstance(df, pd.DataFrame):\n",
    "            time_travel = df[df['pickup_datetime'] > df['dropoff_datetime']].shape[0]\n",
    "            print(\"Did anyone Time Travel?\")\n",
    "            print(time_travel)\n",
    "\n",
    "            # Find + print rows where pickup time is after dropoff time\n",
    "            time_travel_rows = df[df['pickup_datetime'] > df['dropoff_datetime']]\n",
    "            if not time_travel_rows.empty:\n",
    "                print(\"One of the rows where time travel occurred:\")\n",
    "                print(time_travel_rows.iloc[0])\n",
    "            else:\n",
    "                print(\"No rows where time travel occurred.\")            \n",
    "        else:\n",
    "            print(\"Warning: The list contains non-DataFrame elements\")\n",
    "\n",
    "time_travel(fhv_2021_01)"
   ]
  },
  {
   "cell_type": "code",
   "execution_count": 47,
   "metadata": {},
   "outputs": [
    {
     "name": "stdout",
     "output_type": "stream",
     "text": [
      "Current Working Directory: c:\\Users\\35385\\Desktop\\CS_Summer_2024\\Shared_GH\\New-York-App\\data-analytics\n",
      "Taxi Zone CSV Directory: Datasets/taxi_other\n",
      "Number of Unique Zones: 69\n",
      "List of Unique Zones: [  4  12  13  24  41  42  43  45  48  50  68  74  75  79  87  88  90 100\n",
      " 103 104 105 107 113 114 116 120 125 127 128 137 140 141 142 143 144 148\n",
      " 151 152 153 158 161 162 163 164 166 170 186 194 202 209 211 224 229 230\n",
      " 231 232 233 234 236 237 238 239 243 244 246 249 261 262 263]\n"
     ]
    }
   ],
   "source": [
    "print(\"Current Working Directory:\", cwd)\n",
    "\n",
    "# Define the directory where the data is located relative to the current working directory\n",
    "taxi_zone_dir = \"Datasets/taxi_other\"\n",
    "print(\"Taxi Zone CSV Directory:\", taxi_zone_dir)\n",
    "\n",
    "# Define the file path relative to the data directory\n",
    "taxi_zone_path = os.path.join(cwd, taxi_zone_dir, \"taxi_zone_lookup.csv\")\n",
    "\n",
    "taxi_zone = pd.read_csv(taxi_zone_path, keep_default_na=True, delimiter=\",\", skipinitialspace=True, encoding=\"Windows-1252\")\n",
    "\n",
    "def valid_zones_1(df):\n",
    "    manhattan_df = df[df[\"Borough\"] == \"Manhattan\"]\n",
    "    unique_zones = manhattan_df[\"LocationID\"].unique()\n",
    "    \n",
    "    print(f\"Number of Unique Zones: {len(unique_zones)}\")\n",
    "    print(\"List of Unique Zones:\", unique_zones)\n",
    "\n",
    "valid_zones_1(taxi_zone)\n",
    "    "
   ]
  },
  {
   "cell_type": "code",
   "execution_count": 48,
   "metadata": {},
   "outputs": [],
   "source": [
    "# Define a function to get unique zones for Manhattan\n",
    "def get_manhattan_zones(df):\n",
    "    manhattan_df = df[df[\"Borough\"] == \"Manhattan\"]\n",
    "    unique_zones = manhattan_df[\"LocationID\"].unique()\n",
    "    return set(unique_zones)\n",
    "\n",
    "# Get the unique Manhattan zones from the taxi_zone DataFrame\n",
    "manhattan_zones = get_manhattan_zones(taxi_zone)"
   ]
  },
  {
   "cell_type": "code",
   "execution_count": 49,
   "metadata": {},
   "outputs": [],
   "source": [
    "# Define the function to check pickup and dropoff zones\n",
    "def check_zones(df, manhattan_zones):\n",
    "    # Check if both pickup_zone and dropoff_zone are not in manhattan_zones\n",
    "    invalid_zones = df[~df[\"pickup_zone\"].isin(manhattan_zones) & ~df[\"dropoff_zone\"].isin(manhattan_zones)]\n",
    "    \n",
    "    print(f\"Invalid zones count: {invalid_zones.shape[0]}\")\n",
    "    \n",
    "    if not invalid_zones.empty:\n",
    "        print(\"Examples of rows with invalid zones:\")\n",
    "        print(invalid_zones.head())  # Print first few invalid rows"
   ]
  },
  {
   "cell_type": "code",
   "execution_count": 50,
   "metadata": {},
   "outputs": [
    {
     "name": "stdout",
     "output_type": "stream",
     "text": [
      "Invalid zones count: 1010868\n",
      "Examples of rows with invalid zones:\n",
      "  dispatching_base_num     pickup_datetime    dropoff_datetime  pickup_zone  \\\n",
      "0               B00009 2021-01-01 00:27:00 2021-01-01 00:44:00          NaN   \n",
      "1               B00009 2021-01-01 00:50:00 2021-01-01 01:07:00          NaN   \n",
      "2               B00013 2021-01-01 00:01:00 2021-01-01 01:51:00          NaN   \n",
      "3               B00037 2021-01-01 00:13:09 2021-01-01 00:21:26          NaN   \n",
      "4               B00037 2021-01-01 00:38:31 2021-01-01 00:53:44          NaN   \n",
      "\n",
      "   dropoff_zone SR_Flag Affiliated_base_number  \n",
      "0           NaN    None                 B00009  \n",
      "1           NaN    None                 B00009  \n",
      "2           NaN    None                 B00013  \n",
      "3          72.0    None                 B00037  \n",
      "4          61.0    None                 B00037  \n"
     ]
    }
   ],
   "source": [
    "check_zones(fhv_2021_01, manhattan_zones)\n"
   ]
  },
  {
   "cell_type": "code",
   "execution_count": 51,
   "metadata": {},
   "outputs": [
    {
     "name": "stdout",
     "output_type": "stream",
     "text": [
      "Invalid Rows Borough Counts:\n",
      "Borough_combined\n",
      "Queens (pickup), Queens (dropoff)                  51029\n",
      "Staten Island (pickup), Staten Island (dropoff)    27109\n",
      "Bronx (pickup), Bronx (dropoff)                    25402\n",
      "Brooklyn (pickup), Brooklyn (dropoff)              24421\n",
      "Queens (pickup), Brooklyn (dropoff)                 2409\n",
      "Bronx (pickup), Brooklyn (dropoff)                  2245\n",
      "Brooklyn (pickup), Bronx (dropoff)                  2235\n",
      "Brooklyn (pickup), Queens (dropoff)                 2110\n",
      "Queens (pickup), Bronx (dropoff)                     919\n",
      "Bronx (pickup), Queens (dropoff)                     818\n",
      "Unknown (pickup), Unknown (dropoff)                  498\n",
      "Staten Island (pickup), Brooklyn (dropoff)           445\n",
      "Brooklyn (pickup), Staten Island (dropoff)           348\n",
      "Staten Island (pickup), Bronx (dropoff)              140\n",
      "Bronx (pickup), Staten Island (dropoff)              127\n",
      "Staten Island (pickup), Queens (dropoff)              71\n",
      "Staten Island (pickup), EWR (dropoff)                 69\n",
      "Queens (pickup), EWR (dropoff)                        65\n",
      "Queens (pickup), Staten Island (dropoff)              41\n",
      "Brooklyn (pickup), EWR (dropoff)                      32\n",
      "EWR (pickup), Staten Island (dropoff)                 15\n",
      "EWR (pickup), Brooklyn (dropoff)                      11\n",
      "Unknown (pickup), Queens (dropoff)                    10\n",
      "Bronx (pickup), Unknown (dropoff)                      6\n",
      "Unknown (pickup), Bronx (dropoff)                      6\n",
      "Unknown (pickup), Brooklyn (dropoff)                   3\n",
      "EWR (pickup), Queens (dropoff)                         2\n",
      "Queens (pickup), Unknown (dropoff)                     2\n",
      "EWR (pickup), Bronx (dropoff)                          1\n",
      "EWR (pickup), EWR (dropoff)                            1\n",
      "Name: count, dtype: int64\n"
     ]
    }
   ],
   "source": [
    "def verifying_invalid_zones(df, manhattan_zones, taxi_zone_csv):\n",
    "    # Identify invalid rows where both pickup_zone and dropoff_zone are not in manhattan_zones\n",
    "    invalid_zones = df[~df[\"pickup_zone\"].isin(manhattan_zones) & ~df[\"dropoff_zone\"].isin(manhattan_zones)]\n",
    "    \n",
    "    # If there are no invalid rows, print and return\n",
    "    if invalid_zones.empty:\n",
    "        print(\"No invalid zones found.\")\n",
    "        return\n",
    "    \n",
    "    # Merge invalid zones with taxi_zone_csv to get borough information for both pickup_zone and dropoff_zone\n",
    "    invalid_zones_merged = invalid_zones.merge(taxi_zone_csv, left_on=\"pickup_zone\", right_on=\"LocationID\", how=\"left\", suffixes=('_pickup', '_dropoff'))\n",
    "    invalid_zones_merged = invalid_zones_merged.merge(taxi_zone_csv, left_on=\"dropoff_zone\", right_on=\"LocationID\", how=\"left\", suffixes=('_pickup', '_dropoff'))\n",
    "\n",
    "    # Concatenate Borough columns for analysis\n",
    "    invalid_zones_merged[\"Borough_combined\"] = invalid_zones_merged[\"Borough_pickup\"] + \" (pickup), \" + invalid_zones_merged[\"Borough_dropoff\"] + \" (dropoff)\"\n",
    "    \n",
    "    # Count the combined Borough information\n",
    "    combined_borough_counts = invalid_zones_merged[\"Borough_combined\"].value_counts()\n",
    "\n",
    "    print(\"Invalid Rows Borough Counts:\")\n",
    "    print(combined_borough_counts)\n",
    "\n",
    "manhattan_zones = get_manhattan_zones(taxi_zone)\n",
    "\n",
    "# Call the verifying_invalid_zones function\n",
    "verifying_invalid_zones(fhv_2021_01, manhattan_zones, taxi_zone)"
   ]
  },
  {
   "cell_type": "code",
   "execution_count": 37,
   "metadata": {},
   "outputs": [],
   "source": [
    "def drop_fhv_invalid_rows(dfs, manhattan_zones, taxi_zone_csv):\n",
    "    if isinstance(dfs, pd.DataFrame):\n",
    "        dfs = [dfs]  # Convert single DataFrame to a list of one DataFrame\n",
    "\n",
    "    cleaned_dfs = []\n",
    "    \n",
    "    for df in dfs:\n",
    "        if isinstance(df, pd.DataFrame):\n",
    "            # Drop duplicate rows\n",
    "            df = df.drop_duplicates()\n",
    "            \n",
    "            # Drop rows where pickup_datetime == dropoff_datetime\n",
    "            df = df[df[\"pickup_datetime\"] != df[\"dropoff_datetime\"]]\n",
    "            \n",
    "            # Drop rows where both pickup_zone and dropoff_zone are not Manhattan zones\n",
    "            df = df[df[\"pickup_zone\"].isin(manhattan_zones) | df[\"dropoff_zone\"].isin(manhattan_zones)]\n",
    "            \n",
    "            # Append the cleaned DataFrame to the list\n",
    "            cleaned_dfs.append(df)\n",
    "        else:\n",
    "            print(\"Warning: The list contains non-DataFrame elements\")\n",
    "    \n",
    "    # Return the cleaned DataFrame(s)\n",
    "    if len(cleaned_dfs) == 1:\n",
    "        return cleaned_dfs[0]\n",
    "    else:\n",
    "        return cleaned_dfs\n"
   ]
  },
  {
   "cell_type": "code",
   "execution_count": 38,
   "metadata": {},
   "outputs": [],
   "source": [
    "manhattan_zones = get_manhattan_zones(taxi_zone)\n",
    "\n",
    "# Call the verifying_invalid_zones function\n",
    "fhv_2021_01 = drop_fhv_invalid_rows(fhv_2021_01, manhattan_zones, taxi_zone)\n"
   ]
  },
  {
   "cell_type": "code",
   "execution_count": 39,
   "metadata": {},
   "outputs": [
    {
     "name": "stdout",
     "output_type": "stream",
     "text": [
      "<class 'pandas.core.frame.DataFrame'>\n",
      "Index: 141017 entries, 39 to 1154089\n",
      "Data columns (total 4 columns):\n",
      " #   Column            Non-Null Count   Dtype         \n",
      "---  ------            --------------   -----         \n",
      " 0   pickup_datetime   141017 non-null  datetime64[us]\n",
      " 1   dropoff_datetime  141017 non-null  datetime64[us]\n",
      " 2   pickup_zone       38516 non-null   float64       \n",
      " 3   dropoff_zone      140980 non-null  float64       \n",
      "dtypes: datetime64[us](2), float64(2)\n",
      "memory usage: 5.4 MB\n"
     ]
    }
   ],
   "source": [
    "fhv_2021_01.info()"
   ]
  },
  {
   "cell_type": "code",
   "execution_count": null,
   "metadata": {},
   "outputs": [],
   "source": [
    "def drop_yellow_columns(df):\n",
    "    columns_to_drop = [\"SR_Flag\", \"dispatching_base_num\", \"Affiliated_base_number\"]\n",
    "    \n",
    "    # Drop only the columns that exist in the DataFrame\n",
    "    existing_columns_to_drop = [col for col in columns_to_drop if col in df.columns]\n",
    "    df.drop(columns=existing_columns_to_drop, inplace=True)\n",
    "\n",
    "    # Return the modified DataFrame\n",
    "    return df"
   ]
  }
 ],
 "metadata": {
  "kernelspec": {
   "display_name": "comp47350py311",
   "language": "python",
   "name": "python3"
  },
  "language_info": {
   "codemirror_mode": {
    "name": "ipython",
    "version": 3
   },
   "file_extension": ".py",
   "mimetype": "text/x-python",
   "name": "python",
   "nbconvert_exporter": "python",
   "pygments_lexer": "ipython3",
   "version": "3.11.7"
  }
 },
 "nbformat": 4,
 "nbformat_minor": 2
}
