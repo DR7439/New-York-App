{
 "cells": [
  {
   "cell_type": "code",
   "execution_count": 8,
   "metadata": {},
   "outputs": [],
   "source": [
    "import json\n",
    "import os"
   ]
  },
  {
   "cell_type": "code",
   "execution_count": 9,
   "metadata": {},
   "outputs": [
    {
     "name": "stdout",
     "output_type": "stream",
     "text": [
      "Current Working Directory: c:\\Users\\35385\\Desktop\\CS_Summer_2024\\Shared_GH\\New-York-App\\data-analytics\\cleaning\n"
     ]
    }
   ],
   "source": [
    "cwd = os.getcwd()\n",
    "print(\"Current Working Directory:\", cwd)"
   ]
  },
  {
   "cell_type": "code",
   "execution_count": 14,
   "metadata": {},
   "outputs": [
    {
     "name": "stdout",
     "output_type": "stream",
     "text": [
      "Data directory: c:\\Users\\35385\\Desktop\\CS_Summer_2024\\Shared_GH\\New-York-App\\data-analytics\\cleaning\\..\\Datasets\\taxi_other\n",
      "Files in directory c:\\Users\\35385\\Desktop\\CS_Summer_2024\\Shared_GH\\New-York-App\\data-analytics\\cleaning\\..\\Datasets\\taxi_other: ['combined_df.csv', 'combined_df_all_zones.csv', 'fhv_2021_01.csv', 'green_2021_01.csv', 'taxi_zones_alternate.csv', 'taxi_zones_raw.geojson', 'taxi_zone_lookup.csv', 'tract_zones_raw.geojson', 'yellow_2021_01.csv']\n"
     ]
    }
   ],
   "source": [
    "data_dir = os.path.join(os.getcwd(), \"..\", \"Datasets\", \"taxi_other\")\n",
    "print(f\"Data directory: {data_dir}\")\n",
    "\n",
    "# Check if the directory exists\n",
    "if not os.path.exists(data_dir):\n",
    "    print(f\"Directory {data_dir} does not exist\")\n",
    "else:\n",
    "    # List all files in the directory to check for existence and naming\n",
    "    all_files_in_dir = os.listdir(data_dir)\n",
    "    print(f\"Files in directory {data_dir}: {all_files_in_dir}\")\n",
    "\n",
    "all_files = []"
   ]
  },
  {
   "cell_type": "code",
   "execution_count": 15,
   "metadata": {},
   "outputs": [],
   "source": [
    "#input file\n",
    "taxi_zones_raw_file = os.path.join(cwd, data_dir, \"taxi_zones_raw.geojson\")\n",
    "\n",
    "#output file\n",
    "taxi_zones_manhattan = os.path.join(cwd, data_dir, \"taxi_zones_manhattan.geojson\")"
   ]
  },
  {
   "cell_type": "code",
   "execution_count": 16,
   "metadata": {},
   "outputs": [],
   "source": [
    "# Function to load and filter GeoJSON\n",
    "def filter_taxi_geojson(input_file, output_file):\n",
    "    with open(input_file, 'r') as f:\n",
    "        data = json.load(f)\n",
    "    \n",
    "    # Filter features where \"borough\" == \"Manhattan\"\n",
    "    filtered_features = [feature for feature in data['features'] if feature['properties'].get('borough') == 'Manhattan']\n",
    "    \n",
    "    # Create a new GeoJSON structure\n",
    "    filtered_geojson = {\n",
    "        \"type\": \"FeatureCollection\",\n",
    "        \"features\": filtered_features\n",
    "    }\n",
    "    \n",
    "    # Write the filtered GeoJSON to a new file\n",
    "    with open(output_file, 'w') as f:\n",
    "        json.dump(filtered_geojson, f, indent=2)"
   ]
  },
  {
   "cell_type": "code",
   "execution_count": 17,
   "metadata": {},
   "outputs": [
    {
     "name": "stdout",
     "output_type": "stream",
     "text": [
      "Filtered GeoJSON has been saved to c:\\Users\\35385\\Desktop\\CS_Summer_2024\\Shared_GH\\New-York-App\\data-analytics\\cleaning\\..\\Datasets\\taxi_other\\taxi_zones_manhattan.geojson\n"
     ]
    }
   ],
   "source": [
    "# Filter the GeoJSON file\n",
    "filter_taxi_geojson(taxi_zones_raw_file, taxi_zones_manhattan)\n",
    "\n",
    "print(f\"Filtered GeoJSON has been saved to {taxi_zones_manhattan}\")"
   ]
  },
  {
   "cell_type": "markdown",
   "metadata": {},
   "source": []
  },
  {
   "cell_type": "markdown",
   "metadata": {},
   "source": []
  },
  {
   "cell_type": "markdown",
   "metadata": {},
   "source": []
  },
  {
   "cell_type": "code",
   "execution_count": 18,
   "metadata": {},
   "outputs": [],
   "source": [
    "#input file\n",
    "tract_zones_raw_file = os.path.join(cwd, data_dir, \"tract_zones_raw.geojson\")\n",
    "\n",
    "#output file\n",
    "tract_zones_manhattan = os.path.join(cwd, data_dir, \"tract_zones_manhattan.geojson\")"
   ]
  },
  {
   "cell_type": "code",
   "execution_count": 19,
   "metadata": {},
   "outputs": [],
   "source": [
    "def filter_tract_geojson(input_file, output_file):\n",
    "    with open(input_file, 'r') as f:\n",
    "        data = json.load(f)\n",
    "    \n",
    "    # Filter features where \"BoroName\" == \"Manhattan\"\n",
    "    filtered_features = [feature for feature in data['features'] if feature['properties'].get('BoroName') == 'Manhattan']\n",
    "    \n",
    "    # Create a new GeoJSON structure\n",
    "    filtered_geojson = {\n",
    "        \"type\": \"FeatureCollection\",\n",
    "        \"crs\": data.get('crs', {}),\n",
    "        \"features\": filtered_features\n",
    "    }\n",
    "    \n",
    "    # Write the filtered GeoJSON to a new file\n",
    "    with open(output_file, 'w') as f:\n",
    "        json.dump(filtered_geojson, f, indent=2)"
   ]
  },
  {
   "cell_type": "code",
   "execution_count": 20,
   "metadata": {},
   "outputs": [
    {
     "name": "stdout",
     "output_type": "stream",
     "text": [
      "Filtered GeoJSON has been saved to c:\\Users\\35385\\Desktop\\CS_Summer_2024\\Shared_GH\\New-York-App\\data-analytics\\cleaning\\..\\Datasets\\taxi_other\\tract_zones_manhattan.geojson\n"
     ]
    }
   ],
   "source": [
    "# Filter the GeoJSON file\n",
    "filter_tract_geojson(tract_zones_raw_file, tract_zones_manhattan)\n",
    "\n",
    "print(f\"Filtered GeoJSON has been saved to {tract_zones_manhattan}\")"
   ]
  },
  {
   "cell_type": "code",
   "execution_count": null,
   "metadata": {},
   "outputs": [],
   "source": []
  }
 ],
 "metadata": {
  "kernelspec": {
   "display_name": "comp47350py311",
   "language": "python",
   "name": "python3"
  },
  "language_info": {
   "codemirror_mode": {
    "name": "ipython",
    "version": 3
   },
   "file_extension": ".py",
   "mimetype": "text/x-python",
   "name": "python",
   "nbconvert_exporter": "python",
   "pygments_lexer": "ipython3",
   "version": "3.11.7"
  }
 },
 "nbformat": 4,
 "nbformat_minor": 2
}
