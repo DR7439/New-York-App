{
 "cells": [
  {
   "cell_type": "code",
   "execution_count": 83,
   "metadata": {},
   "outputs": [],
   "source": [
    "import os\n",
    "from datetime import datetime\n",
    "import pandas as pd\n",
    "import glob\n",
    "\n",
    "\n",
    "import pyarrow as pa\n",
    "import pyarrow.parquet as pq\n"
   ]
  },
  {
   "cell_type": "code",
   "execution_count": 84,
   "metadata": {},
   "outputs": [
    {
     "name": "stdout",
     "output_type": "stream",
     "text": [
      "Date range: DatetimeIndex(['2021-01-31', '2021-02-28', '2021-03-31', '2021-04-30',\n",
      "               '2021-05-31', '2021-06-30', '2021-07-31', '2021-08-31',\n",
      "               '2021-09-30', '2021-10-31', '2021-11-30', '2021-12-31',\n",
      "               '2022-01-31', '2022-02-28', '2022-03-31', '2022-04-30',\n",
      "               '2022-05-31', '2022-06-30', '2022-07-31', '2022-08-31',\n",
      "               '2022-09-30', '2022-10-31', '2022-11-30', '2022-12-31',\n",
      "               '2023-01-31', '2023-02-28', '2023-03-31', '2023-04-30',\n",
      "               '2023-05-31', '2023-06-30', '2023-07-31', '2023-08-31',\n",
      "               '2023-09-30', '2023-10-31', '2023-11-30', '2023-12-31',\n",
      "               '2024-01-31', '2024-02-29', '2024-03-31'],\n",
      "              dtype='datetime64[ns]', freq='ME')\n"
     ]
    }
   ],
   "source": [
    "date_range = pd.date_range(start='2021-01', end='2024-04', freq='ME')\n",
    "print(\"Date range:\", date_range)"
   ]
  },
  {
   "cell_type": "code",
   "execution_count": 85,
   "metadata": {},
   "outputs": [
    {
     "name": "stdout",
     "output_type": "stream",
     "text": [
      "Current Working Directory: c:\\Users\\35385\\Desktop\\CS_Summer_2024\\Shared_GH\\New-York-App\\data-analytics\\cleaning\n"
     ]
    }
   ],
   "source": [
    "cwd = os.getcwd()\n",
    "print(\"Current Working Directory:\", cwd)"
   ]
  },
  {
   "cell_type": "code",
   "execution_count": 86,
   "metadata": {},
   "outputs": [
    {
     "name": "stdout",
     "output_type": "stream",
     "text": [
      "Data directory: c:\\Users\\35385\\Desktop\\CS_Summer_2024\\Shared_GH\\New-York-App\\data-analytics\\cleaning\\..\\Datasets\\taxi_parquets\n",
      "Files in directory c:\\Users\\35385\\Desktop\\CS_Summer_2024\\Shared_GH\\New-York-App\\data-analytics\\cleaning\\..\\Datasets\\taxi_parquets: ['fhvhv_2021_01.parquet', 'fhvhv_2021_02.parquet', 'fhvhv_2021_03.parquet', 'fhvhv_2021_04.parquet', 'fhvhv_2021_05.parquet', 'fhvhv_2021_06.parquet', 'fhvhv_2021_07.parquet', 'fhvhv_2021_08.parquet', 'fhvhv_2021_09.parquet', 'fhvhv_2021_10.parquet', 'fhvhv_2021_11.parquet', 'fhvhv_2021_12.parquet', 'fhvhv_2022_01.parquet', 'fhvhv_2022_02.parquet', 'fhvhv_2022_03.parquet', 'fhvhv_2022_04.parquet', 'fhvhv_2022_05.parquet', 'fhvhv_2022_06.parquet', 'fhvhv_2022_07.parquet', 'fhvhv_2022_08.parquet', 'fhvhv_2022_09.parquet', 'fhvhv_2022_10.parquet', 'fhvhv_2022_11.parquet', 'fhvhv_2022_12.parquet', 'fhvhv_2023_01.parquet', 'fhvhv_2023_02.parquet', 'fhvhv_2023_03.parquet', 'fhvhv_2023_04.parquet', 'fhvhv_2023_05.parquet', 'fhvhv_2023_06.parquet', 'fhvhv_2023_07.parquet', 'fhvhv_2023_08.parquet', 'fhvhv_2023_09.parquet', 'fhvhv_2023_10.parquet', 'fhvhv_2023_11.parquet', 'fhvhv_2023_12.parquet', 'fhvhv_2024_01.parquet', 'fhvhv_2024_02.parquet', 'fhvhv_2024_03.parquet', 'fhv_2021_01.parquet', 'fhv_2021_02.parquet', 'fhv_2021_03.parquet', 'fhv_2021_04.parquet', 'fhv_2021_05.parquet', 'fhv_2021_06.parquet', 'fhv_2021_07.parquet', 'fhv_2021_08.parquet', 'fhv_2021_09.parquet', 'fhv_2021_10.parquet', 'fhv_2021_11.parquet', 'fhv_2021_12.parquet', 'fhv_2022_01.parquet', 'fhv_2022_02.parquet', 'fhv_2022_03.parquet', 'fhv_2022_04.parquet', 'fhv_2022_05.parquet', 'fhv_2022_06.parquet', 'fhv_2022_07.parquet', 'fhv_2022_08.parquet', 'fhv_2022_09.parquet', 'fhv_2022_10.parquet', 'fhv_2022_11.parquet', 'fhv_2022_12.parquet', 'fhv_2023_01.parquet', 'fhv_2023_02.parquet', 'fhv_2023_03.parquet', 'fhv_2023_04.parquet', 'fhv_2023_05.parquet', 'fhv_2023_06.parquet', 'fhv_2023_07.parquet', 'fhv_2023_08.parquet', 'fhv_2023_09.parquet', 'fhv_2023_10.parquet', 'fhv_2023_11.parquet', 'fhv_2023_12.parquet', 'fhv_2024_01.parquet', 'fhv_2024_02.parquet', 'fhv_2024_03.parquet', 'green_2021_01.parquet', 'green_2021_02.parquet', 'green_2021_03.parquet', 'green_2021_04.parquet', 'green_2021_05.parquet', 'green_2021_06.parquet', 'green_2021_07.parquet', 'green_2021_08.parquet', 'green_2021_09.parquet', 'green_2021_10.parquet', 'green_2021_11.parquet', 'green_2021_12.parquet', 'green_2022_01.parquet', 'green_2022_02.parquet', 'green_2022_03.parquet', 'green_2022_04.parquet', 'green_2022_05.parquet', 'green_2022_06.parquet', 'green_2022_07.parquet', 'green_2022_08.parquet', 'green_2022_09.parquet', 'green_2022_10.parquet', 'green_2022_11.parquet', 'green_2022_12.parquet', 'green_2023_01.parquet', 'green_2023_02.parquet', 'green_2023_03.parquet', 'green_2023_04.parquet', 'green_2023_05.parquet', 'green_2023_06.parquet', 'green_2023_07.parquet', 'green_2023_08.parquet', 'green_2023_09.parquet', 'green_2023_10.parquet', 'green_2023_11.parquet', 'green_2023_12.parquet', 'green_2024_01.parquet', 'green_2024_02.parquet', 'green_2024_03.parquet', 'yellow_2021_01.parquet', 'yellow_2021_01_cleaned.parquet', 'yellow_2021_02.parquet', 'yellow_2021_02_cleaned.parquet', 'yellow_2021_03.parquet', 'yellow_2021_03_cleaned.parquet', 'yellow_2021_04.parquet', 'yellow_2021_04_cleaned.parquet', 'yellow_2021_05.parquet', 'yellow_2021_05_cleaned.parquet', 'yellow_2021_06.parquet', 'yellow_2021_06_cleaned.parquet', 'yellow_2021_07.parquet', 'yellow_2021_07_cleaned.parquet', 'yellow_2021_08.parquet', 'yellow_2021_08_cleaned.parquet', 'yellow_2021_09.parquet', 'yellow_2021_09_cleaned.parquet', 'yellow_2021_10.parquet', 'yellow_2021_10_cleaned.parquet', 'yellow_2021_11.parquet', 'yellow_2021_11_cleaned.parquet', 'yellow_2021_12.parquet', 'yellow_2021_12_cleaned.parquet', 'yellow_2022_01.parquet', 'yellow_2022_01_cleaned.parquet', 'yellow_2022_02.parquet', 'yellow_2022_02_cleaned.parquet', 'yellow_2022_03.parquet', 'yellow_2022_03_cleaned.parquet', 'yellow_2022_04.parquet', 'yellow_2022_04_cleaned.parquet', 'yellow_2022_05.parquet', 'yellow_2022_05_cleaned.parquet', 'yellow_2022_06.parquet', 'yellow_2022_06_cleaned.parquet', 'yellow_2022_07.parquet', 'yellow_2022_07_cleaned.parquet', 'yellow_2022_08.parquet', 'yellow_2022_08_cleaned.parquet', 'yellow_2022_09.parquet', 'yellow_2022_09_cleaned.parquet', 'yellow_2022_10.parquet', 'yellow_2022_10_cleaned.parquet', 'yellow_2022_11.parquet', 'yellow_2022_11_cleaned.parquet', 'yellow_2022_12.parquet', 'yellow_2022_12_cleaned.parquet', 'yellow_2023_01.parquet', 'yellow_2023_01_cleaned.parquet', 'yellow_2023_02.parquet', 'yellow_2023_02_cleaned.parquet', 'yellow_2023_03.parquet', 'yellow_2023_03_cleaned.parquet', 'yellow_2023_04.parquet', 'yellow_2023_04_cleaned.parquet', 'yellow_2023_05.parquet', 'yellow_2023_05_cleaned.parquet', 'yellow_2023_06.parquet', 'yellow_2023_06_cleaned.parquet', 'yellow_2023_07.parquet', 'yellow_2023_07_cleaned.parquet', 'yellow_2023_08.parquet', 'yellow_2023_08_cleaned.parquet', 'yellow_2023_09.parquet', 'yellow_2023_09_cleaned.parquet', 'yellow_2023_10.parquet', 'yellow_2023_10_cleaned.parquet', 'yellow_2023_11.parquet', 'yellow_2023_11_cleaned.parquet', 'yellow_2023_12.parquet', 'yellow_2023_12_cleaned.parquet', 'yellow_2024_01.parquet', 'yellow_2024_01_cleaned.parquet', 'yellow_2024_02.parquet', 'yellow_2024_02_cleaned.parquet', 'yellow_2024_03.parquet', 'yellow_2024_03_cleaned.parquet', 'yellow_final_cleaned.parquet']\n"
     ]
    }
   ],
   "source": [
    "data_dir = os.path.join(os.getcwd(), \"..\", \"Datasets\", \"taxi_parquets\")\n",
    "print(f\"Data directory: {data_dir}\")\n",
    "\n",
    "# Check if the directory exists\n",
    "if not os.path.exists(data_dir):\n",
    "    print(f\"Directory {data_dir} does not exist\")\n",
    "else:\n",
    "    # List all files in the directory to check for existence and naming\n",
    "    all_files_in_dir = os.listdir(data_dir)\n",
    "    print(f\"Files in directory {data_dir}: {all_files_in_dir}\")\n",
    "\n",
    "all_files = []\n"
   ]
  },
  {
   "cell_type": "code",
   "execution_count": 87,
   "metadata": {},
   "outputs": [
    {
     "name": "stdout",
     "output_type": "stream",
     "text": [
      "Searching for files with pattern: c:\\Users\\35385\\Desktop\\CS_Summer_2024\\Shared_GH\\New-York-App\\data-analytics\\cleaning\\..\\Datasets\\taxi_parquets\\yellow_2021_01*.parquet\n",
      "Files found for pattern c:\\Users\\35385\\Desktop\\CS_Summer_2024\\Shared_GH\\New-York-App\\data-analytics\\cleaning\\..\\Datasets\\taxi_parquets\\yellow_2021_01*.parquet: ['c:\\\\Users\\\\35385\\\\Desktop\\\\CS_Summer_2024\\\\Shared_GH\\\\New-York-App\\\\data-analytics\\\\cleaning\\\\..\\\\Datasets\\\\taxi_parquets\\\\yellow_2021_01.parquet', 'c:\\\\Users\\\\35385\\\\Desktop\\\\CS_Summer_2024\\\\Shared_GH\\\\New-York-App\\\\data-analytics\\\\cleaning\\\\..\\\\Datasets\\\\taxi_parquets\\\\yellow_2021_01_cleaned.parquet']\n",
      "Searching for files with pattern: c:\\Users\\35385\\Desktop\\CS_Summer_2024\\Shared_GH\\New-York-App\\data-analytics\\cleaning\\..\\Datasets\\taxi_parquets\\yellow_2021_02*.parquet\n",
      "Files found for pattern c:\\Users\\35385\\Desktop\\CS_Summer_2024\\Shared_GH\\New-York-App\\data-analytics\\cleaning\\..\\Datasets\\taxi_parquets\\yellow_2021_02*.parquet: ['c:\\\\Users\\\\35385\\\\Desktop\\\\CS_Summer_2024\\\\Shared_GH\\\\New-York-App\\\\data-analytics\\\\cleaning\\\\..\\\\Datasets\\\\taxi_parquets\\\\yellow_2021_02.parquet', 'c:\\\\Users\\\\35385\\\\Desktop\\\\CS_Summer_2024\\\\Shared_GH\\\\New-York-App\\\\data-analytics\\\\cleaning\\\\..\\\\Datasets\\\\taxi_parquets\\\\yellow_2021_02_cleaned.parquet']\n",
      "Searching for files with pattern: c:\\Users\\35385\\Desktop\\CS_Summer_2024\\Shared_GH\\New-York-App\\data-analytics\\cleaning\\..\\Datasets\\taxi_parquets\\yellow_2021_03*.parquet\n",
      "Files found for pattern c:\\Users\\35385\\Desktop\\CS_Summer_2024\\Shared_GH\\New-York-App\\data-analytics\\cleaning\\..\\Datasets\\taxi_parquets\\yellow_2021_03*.parquet: ['c:\\\\Users\\\\35385\\\\Desktop\\\\CS_Summer_2024\\\\Shared_GH\\\\New-York-App\\\\data-analytics\\\\cleaning\\\\..\\\\Datasets\\\\taxi_parquets\\\\yellow_2021_03.parquet', 'c:\\\\Users\\\\35385\\\\Desktop\\\\CS_Summer_2024\\\\Shared_GH\\\\New-York-App\\\\data-analytics\\\\cleaning\\\\..\\\\Datasets\\\\taxi_parquets\\\\yellow_2021_03_cleaned.parquet']\n",
      "Searching for files with pattern: c:\\Users\\35385\\Desktop\\CS_Summer_2024\\Shared_GH\\New-York-App\\data-analytics\\cleaning\\..\\Datasets\\taxi_parquets\\yellow_2021_04*.parquet\n",
      "Files found for pattern c:\\Users\\35385\\Desktop\\CS_Summer_2024\\Shared_GH\\New-York-App\\data-analytics\\cleaning\\..\\Datasets\\taxi_parquets\\yellow_2021_04*.parquet: ['c:\\\\Users\\\\35385\\\\Desktop\\\\CS_Summer_2024\\\\Shared_GH\\\\New-York-App\\\\data-analytics\\\\cleaning\\\\..\\\\Datasets\\\\taxi_parquets\\\\yellow_2021_04.parquet', 'c:\\\\Users\\\\35385\\\\Desktop\\\\CS_Summer_2024\\\\Shared_GH\\\\New-York-App\\\\data-analytics\\\\cleaning\\\\..\\\\Datasets\\\\taxi_parquets\\\\yellow_2021_04_cleaned.parquet']\n",
      "Searching for files with pattern: c:\\Users\\35385\\Desktop\\CS_Summer_2024\\Shared_GH\\New-York-App\\data-analytics\\cleaning\\..\\Datasets\\taxi_parquets\\yellow_2021_05*.parquet\n",
      "Files found for pattern c:\\Users\\35385\\Desktop\\CS_Summer_2024\\Shared_GH\\New-York-App\\data-analytics\\cleaning\\..\\Datasets\\taxi_parquets\\yellow_2021_05*.parquet: ['c:\\\\Users\\\\35385\\\\Desktop\\\\CS_Summer_2024\\\\Shared_GH\\\\New-York-App\\\\data-analytics\\\\cleaning\\\\..\\\\Datasets\\\\taxi_parquets\\\\yellow_2021_05.parquet', 'c:\\\\Users\\\\35385\\\\Desktop\\\\CS_Summer_2024\\\\Shared_GH\\\\New-York-App\\\\data-analytics\\\\cleaning\\\\..\\\\Datasets\\\\taxi_parquets\\\\yellow_2021_05_cleaned.parquet']\n",
      "Searching for files with pattern: c:\\Users\\35385\\Desktop\\CS_Summer_2024\\Shared_GH\\New-York-App\\data-analytics\\cleaning\\..\\Datasets\\taxi_parquets\\yellow_2021_06*.parquet\n",
      "Files found for pattern c:\\Users\\35385\\Desktop\\CS_Summer_2024\\Shared_GH\\New-York-App\\data-analytics\\cleaning\\..\\Datasets\\taxi_parquets\\yellow_2021_06*.parquet: ['c:\\\\Users\\\\35385\\\\Desktop\\\\CS_Summer_2024\\\\Shared_GH\\\\New-York-App\\\\data-analytics\\\\cleaning\\\\..\\\\Datasets\\\\taxi_parquets\\\\yellow_2021_06.parquet', 'c:\\\\Users\\\\35385\\\\Desktop\\\\CS_Summer_2024\\\\Shared_GH\\\\New-York-App\\\\data-analytics\\\\cleaning\\\\..\\\\Datasets\\\\taxi_parquets\\\\yellow_2021_06_cleaned.parquet']\n",
      "Searching for files with pattern: c:\\Users\\35385\\Desktop\\CS_Summer_2024\\Shared_GH\\New-York-App\\data-analytics\\cleaning\\..\\Datasets\\taxi_parquets\\yellow_2021_07*.parquet\n",
      "Files found for pattern c:\\Users\\35385\\Desktop\\CS_Summer_2024\\Shared_GH\\New-York-App\\data-analytics\\cleaning\\..\\Datasets\\taxi_parquets\\yellow_2021_07*.parquet: ['c:\\\\Users\\\\35385\\\\Desktop\\\\CS_Summer_2024\\\\Shared_GH\\\\New-York-App\\\\data-analytics\\\\cleaning\\\\..\\\\Datasets\\\\taxi_parquets\\\\yellow_2021_07.parquet', 'c:\\\\Users\\\\35385\\\\Desktop\\\\CS_Summer_2024\\\\Shared_GH\\\\New-York-App\\\\data-analytics\\\\cleaning\\\\..\\\\Datasets\\\\taxi_parquets\\\\yellow_2021_07_cleaned.parquet']\n",
      "Searching for files with pattern: c:\\Users\\35385\\Desktop\\CS_Summer_2024\\Shared_GH\\New-York-App\\data-analytics\\cleaning\\..\\Datasets\\taxi_parquets\\yellow_2021_08*.parquet\n",
      "Files found for pattern c:\\Users\\35385\\Desktop\\CS_Summer_2024\\Shared_GH\\New-York-App\\data-analytics\\cleaning\\..\\Datasets\\taxi_parquets\\yellow_2021_08*.parquet: ['c:\\\\Users\\\\35385\\\\Desktop\\\\CS_Summer_2024\\\\Shared_GH\\\\New-York-App\\\\data-analytics\\\\cleaning\\\\..\\\\Datasets\\\\taxi_parquets\\\\yellow_2021_08.parquet', 'c:\\\\Users\\\\35385\\\\Desktop\\\\CS_Summer_2024\\\\Shared_GH\\\\New-York-App\\\\data-analytics\\\\cleaning\\\\..\\\\Datasets\\\\taxi_parquets\\\\yellow_2021_08_cleaned.parquet']\n",
      "Searching for files with pattern: c:\\Users\\35385\\Desktop\\CS_Summer_2024\\Shared_GH\\New-York-App\\data-analytics\\cleaning\\..\\Datasets\\taxi_parquets\\yellow_2021_09*.parquet\n",
      "Files found for pattern c:\\Users\\35385\\Desktop\\CS_Summer_2024\\Shared_GH\\New-York-App\\data-analytics\\cleaning\\..\\Datasets\\taxi_parquets\\yellow_2021_09*.parquet: ['c:\\\\Users\\\\35385\\\\Desktop\\\\CS_Summer_2024\\\\Shared_GH\\\\New-York-App\\\\data-analytics\\\\cleaning\\\\..\\\\Datasets\\\\taxi_parquets\\\\yellow_2021_09.parquet', 'c:\\\\Users\\\\35385\\\\Desktop\\\\CS_Summer_2024\\\\Shared_GH\\\\New-York-App\\\\data-analytics\\\\cleaning\\\\..\\\\Datasets\\\\taxi_parquets\\\\yellow_2021_09_cleaned.parquet']\n",
      "Searching for files with pattern: c:\\Users\\35385\\Desktop\\CS_Summer_2024\\Shared_GH\\New-York-App\\data-analytics\\cleaning\\..\\Datasets\\taxi_parquets\\yellow_2021_10*.parquet\n",
      "Files found for pattern c:\\Users\\35385\\Desktop\\CS_Summer_2024\\Shared_GH\\New-York-App\\data-analytics\\cleaning\\..\\Datasets\\taxi_parquets\\yellow_2021_10*.parquet: ['c:\\\\Users\\\\35385\\\\Desktop\\\\CS_Summer_2024\\\\Shared_GH\\\\New-York-App\\\\data-analytics\\\\cleaning\\\\..\\\\Datasets\\\\taxi_parquets\\\\yellow_2021_10.parquet', 'c:\\\\Users\\\\35385\\\\Desktop\\\\CS_Summer_2024\\\\Shared_GH\\\\New-York-App\\\\data-analytics\\\\cleaning\\\\..\\\\Datasets\\\\taxi_parquets\\\\yellow_2021_10_cleaned.parquet']\n",
      "Searching for files with pattern: c:\\Users\\35385\\Desktop\\CS_Summer_2024\\Shared_GH\\New-York-App\\data-analytics\\cleaning\\..\\Datasets\\taxi_parquets\\yellow_2021_11*.parquet\n",
      "Files found for pattern c:\\Users\\35385\\Desktop\\CS_Summer_2024\\Shared_GH\\New-York-App\\data-analytics\\cleaning\\..\\Datasets\\taxi_parquets\\yellow_2021_11*.parquet: ['c:\\\\Users\\\\35385\\\\Desktop\\\\CS_Summer_2024\\\\Shared_GH\\\\New-York-App\\\\data-analytics\\\\cleaning\\\\..\\\\Datasets\\\\taxi_parquets\\\\yellow_2021_11.parquet', 'c:\\\\Users\\\\35385\\\\Desktop\\\\CS_Summer_2024\\\\Shared_GH\\\\New-York-App\\\\data-analytics\\\\cleaning\\\\..\\\\Datasets\\\\taxi_parquets\\\\yellow_2021_11_cleaned.parquet']\n",
      "Searching for files with pattern: c:\\Users\\35385\\Desktop\\CS_Summer_2024\\Shared_GH\\New-York-App\\data-analytics\\cleaning\\..\\Datasets\\taxi_parquets\\yellow_2021_12*.parquet\n",
      "Files found for pattern c:\\Users\\35385\\Desktop\\CS_Summer_2024\\Shared_GH\\New-York-App\\data-analytics\\cleaning\\..\\Datasets\\taxi_parquets\\yellow_2021_12*.parquet: ['c:\\\\Users\\\\35385\\\\Desktop\\\\CS_Summer_2024\\\\Shared_GH\\\\New-York-App\\\\data-analytics\\\\cleaning\\\\..\\\\Datasets\\\\taxi_parquets\\\\yellow_2021_12.parquet', 'c:\\\\Users\\\\35385\\\\Desktop\\\\CS_Summer_2024\\\\Shared_GH\\\\New-York-App\\\\data-analytics\\\\cleaning\\\\..\\\\Datasets\\\\taxi_parquets\\\\yellow_2021_12_cleaned.parquet']\n",
      "Searching for files with pattern: c:\\Users\\35385\\Desktop\\CS_Summer_2024\\Shared_GH\\New-York-App\\data-analytics\\cleaning\\..\\Datasets\\taxi_parquets\\yellow_2022_01*.parquet\n",
      "Files found for pattern c:\\Users\\35385\\Desktop\\CS_Summer_2024\\Shared_GH\\New-York-App\\data-analytics\\cleaning\\..\\Datasets\\taxi_parquets\\yellow_2022_01*.parquet: ['c:\\\\Users\\\\35385\\\\Desktop\\\\CS_Summer_2024\\\\Shared_GH\\\\New-York-App\\\\data-analytics\\\\cleaning\\\\..\\\\Datasets\\\\taxi_parquets\\\\yellow_2022_01.parquet', 'c:\\\\Users\\\\35385\\\\Desktop\\\\CS_Summer_2024\\\\Shared_GH\\\\New-York-App\\\\data-analytics\\\\cleaning\\\\..\\\\Datasets\\\\taxi_parquets\\\\yellow_2022_01_cleaned.parquet']\n",
      "Searching for files with pattern: c:\\Users\\35385\\Desktop\\CS_Summer_2024\\Shared_GH\\New-York-App\\data-analytics\\cleaning\\..\\Datasets\\taxi_parquets\\yellow_2022_02*.parquet\n",
      "Files found for pattern c:\\Users\\35385\\Desktop\\CS_Summer_2024\\Shared_GH\\New-York-App\\data-analytics\\cleaning\\..\\Datasets\\taxi_parquets\\yellow_2022_02*.parquet: ['c:\\\\Users\\\\35385\\\\Desktop\\\\CS_Summer_2024\\\\Shared_GH\\\\New-York-App\\\\data-analytics\\\\cleaning\\\\..\\\\Datasets\\\\taxi_parquets\\\\yellow_2022_02.parquet', 'c:\\\\Users\\\\35385\\\\Desktop\\\\CS_Summer_2024\\\\Shared_GH\\\\New-York-App\\\\data-analytics\\\\cleaning\\\\..\\\\Datasets\\\\taxi_parquets\\\\yellow_2022_02_cleaned.parquet']\n",
      "Searching for files with pattern: c:\\Users\\35385\\Desktop\\CS_Summer_2024\\Shared_GH\\New-York-App\\data-analytics\\cleaning\\..\\Datasets\\taxi_parquets\\yellow_2022_03*.parquet\n",
      "Files found for pattern c:\\Users\\35385\\Desktop\\CS_Summer_2024\\Shared_GH\\New-York-App\\data-analytics\\cleaning\\..\\Datasets\\taxi_parquets\\yellow_2022_03*.parquet: ['c:\\\\Users\\\\35385\\\\Desktop\\\\CS_Summer_2024\\\\Shared_GH\\\\New-York-App\\\\data-analytics\\\\cleaning\\\\..\\\\Datasets\\\\taxi_parquets\\\\yellow_2022_03.parquet', 'c:\\\\Users\\\\35385\\\\Desktop\\\\CS_Summer_2024\\\\Shared_GH\\\\New-York-App\\\\data-analytics\\\\cleaning\\\\..\\\\Datasets\\\\taxi_parquets\\\\yellow_2022_03_cleaned.parquet']\n",
      "Searching for files with pattern: c:\\Users\\35385\\Desktop\\CS_Summer_2024\\Shared_GH\\New-York-App\\data-analytics\\cleaning\\..\\Datasets\\taxi_parquets\\yellow_2022_04*.parquet\n",
      "Files found for pattern c:\\Users\\35385\\Desktop\\CS_Summer_2024\\Shared_GH\\New-York-App\\data-analytics\\cleaning\\..\\Datasets\\taxi_parquets\\yellow_2022_04*.parquet: ['c:\\\\Users\\\\35385\\\\Desktop\\\\CS_Summer_2024\\\\Shared_GH\\\\New-York-App\\\\data-analytics\\\\cleaning\\\\..\\\\Datasets\\\\taxi_parquets\\\\yellow_2022_04.parquet', 'c:\\\\Users\\\\35385\\\\Desktop\\\\CS_Summer_2024\\\\Shared_GH\\\\New-York-App\\\\data-analytics\\\\cleaning\\\\..\\\\Datasets\\\\taxi_parquets\\\\yellow_2022_04_cleaned.parquet']\n",
      "Searching for files with pattern: c:\\Users\\35385\\Desktop\\CS_Summer_2024\\Shared_GH\\New-York-App\\data-analytics\\cleaning\\..\\Datasets\\taxi_parquets\\yellow_2022_05*.parquet\n",
      "Files found for pattern c:\\Users\\35385\\Desktop\\CS_Summer_2024\\Shared_GH\\New-York-App\\data-analytics\\cleaning\\..\\Datasets\\taxi_parquets\\yellow_2022_05*.parquet: ['c:\\\\Users\\\\35385\\\\Desktop\\\\CS_Summer_2024\\\\Shared_GH\\\\New-York-App\\\\data-analytics\\\\cleaning\\\\..\\\\Datasets\\\\taxi_parquets\\\\yellow_2022_05.parquet', 'c:\\\\Users\\\\35385\\\\Desktop\\\\CS_Summer_2024\\\\Shared_GH\\\\New-York-App\\\\data-analytics\\\\cleaning\\\\..\\\\Datasets\\\\taxi_parquets\\\\yellow_2022_05_cleaned.parquet']\n",
      "Searching for files with pattern: c:\\Users\\35385\\Desktop\\CS_Summer_2024\\Shared_GH\\New-York-App\\data-analytics\\cleaning\\..\\Datasets\\taxi_parquets\\yellow_2022_06*.parquet\n",
      "Files found for pattern c:\\Users\\35385\\Desktop\\CS_Summer_2024\\Shared_GH\\New-York-App\\data-analytics\\cleaning\\..\\Datasets\\taxi_parquets\\yellow_2022_06*.parquet: ['c:\\\\Users\\\\35385\\\\Desktop\\\\CS_Summer_2024\\\\Shared_GH\\\\New-York-App\\\\data-analytics\\\\cleaning\\\\..\\\\Datasets\\\\taxi_parquets\\\\yellow_2022_06.parquet', 'c:\\\\Users\\\\35385\\\\Desktop\\\\CS_Summer_2024\\\\Shared_GH\\\\New-York-App\\\\data-analytics\\\\cleaning\\\\..\\\\Datasets\\\\taxi_parquets\\\\yellow_2022_06_cleaned.parquet']\n",
      "Searching for files with pattern: c:\\Users\\35385\\Desktop\\CS_Summer_2024\\Shared_GH\\New-York-App\\data-analytics\\cleaning\\..\\Datasets\\taxi_parquets\\yellow_2022_07*.parquet\n",
      "Files found for pattern c:\\Users\\35385\\Desktop\\CS_Summer_2024\\Shared_GH\\New-York-App\\data-analytics\\cleaning\\..\\Datasets\\taxi_parquets\\yellow_2022_07*.parquet: ['c:\\\\Users\\\\35385\\\\Desktop\\\\CS_Summer_2024\\\\Shared_GH\\\\New-York-App\\\\data-analytics\\\\cleaning\\\\..\\\\Datasets\\\\taxi_parquets\\\\yellow_2022_07.parquet', 'c:\\\\Users\\\\35385\\\\Desktop\\\\CS_Summer_2024\\\\Shared_GH\\\\New-York-App\\\\data-analytics\\\\cleaning\\\\..\\\\Datasets\\\\taxi_parquets\\\\yellow_2022_07_cleaned.parquet']\n",
      "Searching for files with pattern: c:\\Users\\35385\\Desktop\\CS_Summer_2024\\Shared_GH\\New-York-App\\data-analytics\\cleaning\\..\\Datasets\\taxi_parquets\\yellow_2022_08*.parquet\n",
      "Files found for pattern c:\\Users\\35385\\Desktop\\CS_Summer_2024\\Shared_GH\\New-York-App\\data-analytics\\cleaning\\..\\Datasets\\taxi_parquets\\yellow_2022_08*.parquet: ['c:\\\\Users\\\\35385\\\\Desktop\\\\CS_Summer_2024\\\\Shared_GH\\\\New-York-App\\\\data-analytics\\\\cleaning\\\\..\\\\Datasets\\\\taxi_parquets\\\\yellow_2022_08.parquet', 'c:\\\\Users\\\\35385\\\\Desktop\\\\CS_Summer_2024\\\\Shared_GH\\\\New-York-App\\\\data-analytics\\\\cleaning\\\\..\\\\Datasets\\\\taxi_parquets\\\\yellow_2022_08_cleaned.parquet']\n",
      "Searching for files with pattern: c:\\Users\\35385\\Desktop\\CS_Summer_2024\\Shared_GH\\New-York-App\\data-analytics\\cleaning\\..\\Datasets\\taxi_parquets\\yellow_2022_09*.parquet\n",
      "Files found for pattern c:\\Users\\35385\\Desktop\\CS_Summer_2024\\Shared_GH\\New-York-App\\data-analytics\\cleaning\\..\\Datasets\\taxi_parquets\\yellow_2022_09*.parquet: ['c:\\\\Users\\\\35385\\\\Desktop\\\\CS_Summer_2024\\\\Shared_GH\\\\New-York-App\\\\data-analytics\\\\cleaning\\\\..\\\\Datasets\\\\taxi_parquets\\\\yellow_2022_09.parquet', 'c:\\\\Users\\\\35385\\\\Desktop\\\\CS_Summer_2024\\\\Shared_GH\\\\New-York-App\\\\data-analytics\\\\cleaning\\\\..\\\\Datasets\\\\taxi_parquets\\\\yellow_2022_09_cleaned.parquet']\n",
      "Searching for files with pattern: c:\\Users\\35385\\Desktop\\CS_Summer_2024\\Shared_GH\\New-York-App\\data-analytics\\cleaning\\..\\Datasets\\taxi_parquets\\yellow_2022_10*.parquet\n",
      "Files found for pattern c:\\Users\\35385\\Desktop\\CS_Summer_2024\\Shared_GH\\New-York-App\\data-analytics\\cleaning\\..\\Datasets\\taxi_parquets\\yellow_2022_10*.parquet: ['c:\\\\Users\\\\35385\\\\Desktop\\\\CS_Summer_2024\\\\Shared_GH\\\\New-York-App\\\\data-analytics\\\\cleaning\\\\..\\\\Datasets\\\\taxi_parquets\\\\yellow_2022_10.parquet', 'c:\\\\Users\\\\35385\\\\Desktop\\\\CS_Summer_2024\\\\Shared_GH\\\\New-York-App\\\\data-analytics\\\\cleaning\\\\..\\\\Datasets\\\\taxi_parquets\\\\yellow_2022_10_cleaned.parquet']\n",
      "Searching for files with pattern: c:\\Users\\35385\\Desktop\\CS_Summer_2024\\Shared_GH\\New-York-App\\data-analytics\\cleaning\\..\\Datasets\\taxi_parquets\\yellow_2022_11*.parquet\n",
      "Files found for pattern c:\\Users\\35385\\Desktop\\CS_Summer_2024\\Shared_GH\\New-York-App\\data-analytics\\cleaning\\..\\Datasets\\taxi_parquets\\yellow_2022_11*.parquet: ['c:\\\\Users\\\\35385\\\\Desktop\\\\CS_Summer_2024\\\\Shared_GH\\\\New-York-App\\\\data-analytics\\\\cleaning\\\\..\\\\Datasets\\\\taxi_parquets\\\\yellow_2022_11.parquet', 'c:\\\\Users\\\\35385\\\\Desktop\\\\CS_Summer_2024\\\\Shared_GH\\\\New-York-App\\\\data-analytics\\\\cleaning\\\\..\\\\Datasets\\\\taxi_parquets\\\\yellow_2022_11_cleaned.parquet']\n",
      "Searching for files with pattern: c:\\Users\\35385\\Desktop\\CS_Summer_2024\\Shared_GH\\New-York-App\\data-analytics\\cleaning\\..\\Datasets\\taxi_parquets\\yellow_2022_12*.parquet\n",
      "Files found for pattern c:\\Users\\35385\\Desktop\\CS_Summer_2024\\Shared_GH\\New-York-App\\data-analytics\\cleaning\\..\\Datasets\\taxi_parquets\\yellow_2022_12*.parquet: ['c:\\\\Users\\\\35385\\\\Desktop\\\\CS_Summer_2024\\\\Shared_GH\\\\New-York-App\\\\data-analytics\\\\cleaning\\\\..\\\\Datasets\\\\taxi_parquets\\\\yellow_2022_12.parquet', 'c:\\\\Users\\\\35385\\\\Desktop\\\\CS_Summer_2024\\\\Shared_GH\\\\New-York-App\\\\data-analytics\\\\cleaning\\\\..\\\\Datasets\\\\taxi_parquets\\\\yellow_2022_12_cleaned.parquet']\n",
      "Searching for files with pattern: c:\\Users\\35385\\Desktop\\CS_Summer_2024\\Shared_GH\\New-York-App\\data-analytics\\cleaning\\..\\Datasets\\taxi_parquets\\yellow_2023_01*.parquet\n",
      "Files found for pattern c:\\Users\\35385\\Desktop\\CS_Summer_2024\\Shared_GH\\New-York-App\\data-analytics\\cleaning\\..\\Datasets\\taxi_parquets\\yellow_2023_01*.parquet: ['c:\\\\Users\\\\35385\\\\Desktop\\\\CS_Summer_2024\\\\Shared_GH\\\\New-York-App\\\\data-analytics\\\\cleaning\\\\..\\\\Datasets\\\\taxi_parquets\\\\yellow_2023_01.parquet', 'c:\\\\Users\\\\35385\\\\Desktop\\\\CS_Summer_2024\\\\Shared_GH\\\\New-York-App\\\\data-analytics\\\\cleaning\\\\..\\\\Datasets\\\\taxi_parquets\\\\yellow_2023_01_cleaned.parquet']\n",
      "Searching for files with pattern: c:\\Users\\35385\\Desktop\\CS_Summer_2024\\Shared_GH\\New-York-App\\data-analytics\\cleaning\\..\\Datasets\\taxi_parquets\\yellow_2023_02*.parquet\n",
      "Files found for pattern c:\\Users\\35385\\Desktop\\CS_Summer_2024\\Shared_GH\\New-York-App\\data-analytics\\cleaning\\..\\Datasets\\taxi_parquets\\yellow_2023_02*.parquet: ['c:\\\\Users\\\\35385\\\\Desktop\\\\CS_Summer_2024\\\\Shared_GH\\\\New-York-App\\\\data-analytics\\\\cleaning\\\\..\\\\Datasets\\\\taxi_parquets\\\\yellow_2023_02.parquet', 'c:\\\\Users\\\\35385\\\\Desktop\\\\CS_Summer_2024\\\\Shared_GH\\\\New-York-App\\\\data-analytics\\\\cleaning\\\\..\\\\Datasets\\\\taxi_parquets\\\\yellow_2023_02_cleaned.parquet']\n",
      "Searching for files with pattern: c:\\Users\\35385\\Desktop\\CS_Summer_2024\\Shared_GH\\New-York-App\\data-analytics\\cleaning\\..\\Datasets\\taxi_parquets\\yellow_2023_03*.parquet\n",
      "Files found for pattern c:\\Users\\35385\\Desktop\\CS_Summer_2024\\Shared_GH\\New-York-App\\data-analytics\\cleaning\\..\\Datasets\\taxi_parquets\\yellow_2023_03*.parquet: ['c:\\\\Users\\\\35385\\\\Desktop\\\\CS_Summer_2024\\\\Shared_GH\\\\New-York-App\\\\data-analytics\\\\cleaning\\\\..\\\\Datasets\\\\taxi_parquets\\\\yellow_2023_03.parquet', 'c:\\\\Users\\\\35385\\\\Desktop\\\\CS_Summer_2024\\\\Shared_GH\\\\New-York-App\\\\data-analytics\\\\cleaning\\\\..\\\\Datasets\\\\taxi_parquets\\\\yellow_2023_03_cleaned.parquet']\n",
      "Searching for files with pattern: c:\\Users\\35385\\Desktop\\CS_Summer_2024\\Shared_GH\\New-York-App\\data-analytics\\cleaning\\..\\Datasets\\taxi_parquets\\yellow_2023_04*.parquet\n",
      "Files found for pattern c:\\Users\\35385\\Desktop\\CS_Summer_2024\\Shared_GH\\New-York-App\\data-analytics\\cleaning\\..\\Datasets\\taxi_parquets\\yellow_2023_04*.parquet: ['c:\\\\Users\\\\35385\\\\Desktop\\\\CS_Summer_2024\\\\Shared_GH\\\\New-York-App\\\\data-analytics\\\\cleaning\\\\..\\\\Datasets\\\\taxi_parquets\\\\yellow_2023_04.parquet', 'c:\\\\Users\\\\35385\\\\Desktop\\\\CS_Summer_2024\\\\Shared_GH\\\\New-York-App\\\\data-analytics\\\\cleaning\\\\..\\\\Datasets\\\\taxi_parquets\\\\yellow_2023_04_cleaned.parquet']\n",
      "Searching for files with pattern: c:\\Users\\35385\\Desktop\\CS_Summer_2024\\Shared_GH\\New-York-App\\data-analytics\\cleaning\\..\\Datasets\\taxi_parquets\\yellow_2023_05*.parquet\n",
      "Files found for pattern c:\\Users\\35385\\Desktop\\CS_Summer_2024\\Shared_GH\\New-York-App\\data-analytics\\cleaning\\..\\Datasets\\taxi_parquets\\yellow_2023_05*.parquet: ['c:\\\\Users\\\\35385\\\\Desktop\\\\CS_Summer_2024\\\\Shared_GH\\\\New-York-App\\\\data-analytics\\\\cleaning\\\\..\\\\Datasets\\\\taxi_parquets\\\\yellow_2023_05.parquet', 'c:\\\\Users\\\\35385\\\\Desktop\\\\CS_Summer_2024\\\\Shared_GH\\\\New-York-App\\\\data-analytics\\\\cleaning\\\\..\\\\Datasets\\\\taxi_parquets\\\\yellow_2023_05_cleaned.parquet']\n",
      "Searching for files with pattern: c:\\Users\\35385\\Desktop\\CS_Summer_2024\\Shared_GH\\New-York-App\\data-analytics\\cleaning\\..\\Datasets\\taxi_parquets\\yellow_2023_06*.parquet\n",
      "Files found for pattern c:\\Users\\35385\\Desktop\\CS_Summer_2024\\Shared_GH\\New-York-App\\data-analytics\\cleaning\\..\\Datasets\\taxi_parquets\\yellow_2023_06*.parquet: ['c:\\\\Users\\\\35385\\\\Desktop\\\\CS_Summer_2024\\\\Shared_GH\\\\New-York-App\\\\data-analytics\\\\cleaning\\\\..\\\\Datasets\\\\taxi_parquets\\\\yellow_2023_06.parquet', 'c:\\\\Users\\\\35385\\\\Desktop\\\\CS_Summer_2024\\\\Shared_GH\\\\New-York-App\\\\data-analytics\\\\cleaning\\\\..\\\\Datasets\\\\taxi_parquets\\\\yellow_2023_06_cleaned.parquet']\n",
      "Searching for files with pattern: c:\\Users\\35385\\Desktop\\CS_Summer_2024\\Shared_GH\\New-York-App\\data-analytics\\cleaning\\..\\Datasets\\taxi_parquets\\yellow_2023_07*.parquet\n",
      "Files found for pattern c:\\Users\\35385\\Desktop\\CS_Summer_2024\\Shared_GH\\New-York-App\\data-analytics\\cleaning\\..\\Datasets\\taxi_parquets\\yellow_2023_07*.parquet: ['c:\\\\Users\\\\35385\\\\Desktop\\\\CS_Summer_2024\\\\Shared_GH\\\\New-York-App\\\\data-analytics\\\\cleaning\\\\..\\\\Datasets\\\\taxi_parquets\\\\yellow_2023_07.parquet', 'c:\\\\Users\\\\35385\\\\Desktop\\\\CS_Summer_2024\\\\Shared_GH\\\\New-York-App\\\\data-analytics\\\\cleaning\\\\..\\\\Datasets\\\\taxi_parquets\\\\yellow_2023_07_cleaned.parquet']\n",
      "Searching for files with pattern: c:\\Users\\35385\\Desktop\\CS_Summer_2024\\Shared_GH\\New-York-App\\data-analytics\\cleaning\\..\\Datasets\\taxi_parquets\\yellow_2023_08*.parquet\n",
      "Files found for pattern c:\\Users\\35385\\Desktop\\CS_Summer_2024\\Shared_GH\\New-York-App\\data-analytics\\cleaning\\..\\Datasets\\taxi_parquets\\yellow_2023_08*.parquet: ['c:\\\\Users\\\\35385\\\\Desktop\\\\CS_Summer_2024\\\\Shared_GH\\\\New-York-App\\\\data-analytics\\\\cleaning\\\\..\\\\Datasets\\\\taxi_parquets\\\\yellow_2023_08.parquet', 'c:\\\\Users\\\\35385\\\\Desktop\\\\CS_Summer_2024\\\\Shared_GH\\\\New-York-App\\\\data-analytics\\\\cleaning\\\\..\\\\Datasets\\\\taxi_parquets\\\\yellow_2023_08_cleaned.parquet']\n",
      "Searching for files with pattern: c:\\Users\\35385\\Desktop\\CS_Summer_2024\\Shared_GH\\New-York-App\\data-analytics\\cleaning\\..\\Datasets\\taxi_parquets\\yellow_2023_09*.parquet\n",
      "Files found for pattern c:\\Users\\35385\\Desktop\\CS_Summer_2024\\Shared_GH\\New-York-App\\data-analytics\\cleaning\\..\\Datasets\\taxi_parquets\\yellow_2023_09*.parquet: ['c:\\\\Users\\\\35385\\\\Desktop\\\\CS_Summer_2024\\\\Shared_GH\\\\New-York-App\\\\data-analytics\\\\cleaning\\\\..\\\\Datasets\\\\taxi_parquets\\\\yellow_2023_09.parquet', 'c:\\\\Users\\\\35385\\\\Desktop\\\\CS_Summer_2024\\\\Shared_GH\\\\New-York-App\\\\data-analytics\\\\cleaning\\\\..\\\\Datasets\\\\taxi_parquets\\\\yellow_2023_09_cleaned.parquet']\n",
      "Searching for files with pattern: c:\\Users\\35385\\Desktop\\CS_Summer_2024\\Shared_GH\\New-York-App\\data-analytics\\cleaning\\..\\Datasets\\taxi_parquets\\yellow_2023_10*.parquet\n",
      "Files found for pattern c:\\Users\\35385\\Desktop\\CS_Summer_2024\\Shared_GH\\New-York-App\\data-analytics\\cleaning\\..\\Datasets\\taxi_parquets\\yellow_2023_10*.parquet: ['c:\\\\Users\\\\35385\\\\Desktop\\\\CS_Summer_2024\\\\Shared_GH\\\\New-York-App\\\\data-analytics\\\\cleaning\\\\..\\\\Datasets\\\\taxi_parquets\\\\yellow_2023_10.parquet', 'c:\\\\Users\\\\35385\\\\Desktop\\\\CS_Summer_2024\\\\Shared_GH\\\\New-York-App\\\\data-analytics\\\\cleaning\\\\..\\\\Datasets\\\\taxi_parquets\\\\yellow_2023_10_cleaned.parquet']\n",
      "Searching for files with pattern: c:\\Users\\35385\\Desktop\\CS_Summer_2024\\Shared_GH\\New-York-App\\data-analytics\\cleaning\\..\\Datasets\\taxi_parquets\\yellow_2023_11*.parquet\n",
      "Files found for pattern c:\\Users\\35385\\Desktop\\CS_Summer_2024\\Shared_GH\\New-York-App\\data-analytics\\cleaning\\..\\Datasets\\taxi_parquets\\yellow_2023_11*.parquet: ['c:\\\\Users\\\\35385\\\\Desktop\\\\CS_Summer_2024\\\\Shared_GH\\\\New-York-App\\\\data-analytics\\\\cleaning\\\\..\\\\Datasets\\\\taxi_parquets\\\\yellow_2023_11.parquet', 'c:\\\\Users\\\\35385\\\\Desktop\\\\CS_Summer_2024\\\\Shared_GH\\\\New-York-App\\\\data-analytics\\\\cleaning\\\\..\\\\Datasets\\\\taxi_parquets\\\\yellow_2023_11_cleaned.parquet']\n",
      "Searching for files with pattern: c:\\Users\\35385\\Desktop\\CS_Summer_2024\\Shared_GH\\New-York-App\\data-analytics\\cleaning\\..\\Datasets\\taxi_parquets\\yellow_2023_12*.parquet\n",
      "Files found for pattern c:\\Users\\35385\\Desktop\\CS_Summer_2024\\Shared_GH\\New-York-App\\data-analytics\\cleaning\\..\\Datasets\\taxi_parquets\\yellow_2023_12*.parquet: ['c:\\\\Users\\\\35385\\\\Desktop\\\\CS_Summer_2024\\\\Shared_GH\\\\New-York-App\\\\data-analytics\\\\cleaning\\\\..\\\\Datasets\\\\taxi_parquets\\\\yellow_2023_12.parquet', 'c:\\\\Users\\\\35385\\\\Desktop\\\\CS_Summer_2024\\\\Shared_GH\\\\New-York-App\\\\data-analytics\\\\cleaning\\\\..\\\\Datasets\\\\taxi_parquets\\\\yellow_2023_12_cleaned.parquet']\n",
      "Searching for files with pattern: c:\\Users\\35385\\Desktop\\CS_Summer_2024\\Shared_GH\\New-York-App\\data-analytics\\cleaning\\..\\Datasets\\taxi_parquets\\yellow_2024_01*.parquet\n",
      "Files found for pattern c:\\Users\\35385\\Desktop\\CS_Summer_2024\\Shared_GH\\New-York-App\\data-analytics\\cleaning\\..\\Datasets\\taxi_parquets\\yellow_2024_01*.parquet: ['c:\\\\Users\\\\35385\\\\Desktop\\\\CS_Summer_2024\\\\Shared_GH\\\\New-York-App\\\\data-analytics\\\\cleaning\\\\..\\\\Datasets\\\\taxi_parquets\\\\yellow_2024_01.parquet', 'c:\\\\Users\\\\35385\\\\Desktop\\\\CS_Summer_2024\\\\Shared_GH\\\\New-York-App\\\\data-analytics\\\\cleaning\\\\..\\\\Datasets\\\\taxi_parquets\\\\yellow_2024_01_cleaned.parquet']\n",
      "Searching for files with pattern: c:\\Users\\35385\\Desktop\\CS_Summer_2024\\Shared_GH\\New-York-App\\data-analytics\\cleaning\\..\\Datasets\\taxi_parquets\\yellow_2024_02*.parquet\n",
      "Files found for pattern c:\\Users\\35385\\Desktop\\CS_Summer_2024\\Shared_GH\\New-York-App\\data-analytics\\cleaning\\..\\Datasets\\taxi_parquets\\yellow_2024_02*.parquet: ['c:\\\\Users\\\\35385\\\\Desktop\\\\CS_Summer_2024\\\\Shared_GH\\\\New-York-App\\\\data-analytics\\\\cleaning\\\\..\\\\Datasets\\\\taxi_parquets\\\\yellow_2024_02.parquet', 'c:\\\\Users\\\\35385\\\\Desktop\\\\CS_Summer_2024\\\\Shared_GH\\\\New-York-App\\\\data-analytics\\\\cleaning\\\\..\\\\Datasets\\\\taxi_parquets\\\\yellow_2024_02_cleaned.parquet']\n",
      "Searching for files with pattern: c:\\Users\\35385\\Desktop\\CS_Summer_2024\\Shared_GH\\New-York-App\\data-analytics\\cleaning\\..\\Datasets\\taxi_parquets\\yellow_2024_03*.parquet\n",
      "Files found for pattern c:\\Users\\35385\\Desktop\\CS_Summer_2024\\Shared_GH\\New-York-App\\data-analytics\\cleaning\\..\\Datasets\\taxi_parquets\\yellow_2024_03*.parquet: ['c:\\\\Users\\\\35385\\\\Desktop\\\\CS_Summer_2024\\\\Shared_GH\\\\New-York-App\\\\data-analytics\\\\cleaning\\\\..\\\\Datasets\\\\taxi_parquets\\\\yellow_2024_03.parquet', 'c:\\\\Users\\\\35385\\\\Desktop\\\\CS_Summer_2024\\\\Shared_GH\\\\New-York-App\\\\data-analytics\\\\cleaning\\\\..\\\\Datasets\\\\taxi_parquets\\\\yellow_2024_03_cleaned.parquet']\n",
      "All files found: ['c:\\\\Users\\\\35385\\\\Desktop\\\\CS_Summer_2024\\\\Shared_GH\\\\New-York-App\\\\data-analytics\\\\cleaning\\\\..\\\\Datasets\\\\taxi_parquets\\\\yellow_2021_01.parquet', 'c:\\\\Users\\\\35385\\\\Desktop\\\\CS_Summer_2024\\\\Shared_GH\\\\New-York-App\\\\data-analytics\\\\cleaning\\\\..\\\\Datasets\\\\taxi_parquets\\\\yellow_2021_01_cleaned.parquet', 'c:\\\\Users\\\\35385\\\\Desktop\\\\CS_Summer_2024\\\\Shared_GH\\\\New-York-App\\\\data-analytics\\\\cleaning\\\\..\\\\Datasets\\\\taxi_parquets\\\\yellow_2021_02.parquet', 'c:\\\\Users\\\\35385\\\\Desktop\\\\CS_Summer_2024\\\\Shared_GH\\\\New-York-App\\\\data-analytics\\\\cleaning\\\\..\\\\Datasets\\\\taxi_parquets\\\\yellow_2021_02_cleaned.parquet', 'c:\\\\Users\\\\35385\\\\Desktop\\\\CS_Summer_2024\\\\Shared_GH\\\\New-York-App\\\\data-analytics\\\\cleaning\\\\..\\\\Datasets\\\\taxi_parquets\\\\yellow_2021_03.parquet', 'c:\\\\Users\\\\35385\\\\Desktop\\\\CS_Summer_2024\\\\Shared_GH\\\\New-York-App\\\\data-analytics\\\\cleaning\\\\..\\\\Datasets\\\\taxi_parquets\\\\yellow_2021_03_cleaned.parquet', 'c:\\\\Users\\\\35385\\\\Desktop\\\\CS_Summer_2024\\\\Shared_GH\\\\New-York-App\\\\data-analytics\\\\cleaning\\\\..\\\\Datasets\\\\taxi_parquets\\\\yellow_2021_04.parquet', 'c:\\\\Users\\\\35385\\\\Desktop\\\\CS_Summer_2024\\\\Shared_GH\\\\New-York-App\\\\data-analytics\\\\cleaning\\\\..\\\\Datasets\\\\taxi_parquets\\\\yellow_2021_04_cleaned.parquet', 'c:\\\\Users\\\\35385\\\\Desktop\\\\CS_Summer_2024\\\\Shared_GH\\\\New-York-App\\\\data-analytics\\\\cleaning\\\\..\\\\Datasets\\\\taxi_parquets\\\\yellow_2021_05.parquet', 'c:\\\\Users\\\\35385\\\\Desktop\\\\CS_Summer_2024\\\\Shared_GH\\\\New-York-App\\\\data-analytics\\\\cleaning\\\\..\\\\Datasets\\\\taxi_parquets\\\\yellow_2021_05_cleaned.parquet', 'c:\\\\Users\\\\35385\\\\Desktop\\\\CS_Summer_2024\\\\Shared_GH\\\\New-York-App\\\\data-analytics\\\\cleaning\\\\..\\\\Datasets\\\\taxi_parquets\\\\yellow_2021_06.parquet', 'c:\\\\Users\\\\35385\\\\Desktop\\\\CS_Summer_2024\\\\Shared_GH\\\\New-York-App\\\\data-analytics\\\\cleaning\\\\..\\\\Datasets\\\\taxi_parquets\\\\yellow_2021_06_cleaned.parquet', 'c:\\\\Users\\\\35385\\\\Desktop\\\\CS_Summer_2024\\\\Shared_GH\\\\New-York-App\\\\data-analytics\\\\cleaning\\\\..\\\\Datasets\\\\taxi_parquets\\\\yellow_2021_07.parquet', 'c:\\\\Users\\\\35385\\\\Desktop\\\\CS_Summer_2024\\\\Shared_GH\\\\New-York-App\\\\data-analytics\\\\cleaning\\\\..\\\\Datasets\\\\taxi_parquets\\\\yellow_2021_07_cleaned.parquet', 'c:\\\\Users\\\\35385\\\\Desktop\\\\CS_Summer_2024\\\\Shared_GH\\\\New-York-App\\\\data-analytics\\\\cleaning\\\\..\\\\Datasets\\\\taxi_parquets\\\\yellow_2021_08.parquet', 'c:\\\\Users\\\\35385\\\\Desktop\\\\CS_Summer_2024\\\\Shared_GH\\\\New-York-App\\\\data-analytics\\\\cleaning\\\\..\\\\Datasets\\\\taxi_parquets\\\\yellow_2021_08_cleaned.parquet', 'c:\\\\Users\\\\35385\\\\Desktop\\\\CS_Summer_2024\\\\Shared_GH\\\\New-York-App\\\\data-analytics\\\\cleaning\\\\..\\\\Datasets\\\\taxi_parquets\\\\yellow_2021_09.parquet', 'c:\\\\Users\\\\35385\\\\Desktop\\\\CS_Summer_2024\\\\Shared_GH\\\\New-York-App\\\\data-analytics\\\\cleaning\\\\..\\\\Datasets\\\\taxi_parquets\\\\yellow_2021_09_cleaned.parquet', 'c:\\\\Users\\\\35385\\\\Desktop\\\\CS_Summer_2024\\\\Shared_GH\\\\New-York-App\\\\data-analytics\\\\cleaning\\\\..\\\\Datasets\\\\taxi_parquets\\\\yellow_2021_10.parquet', 'c:\\\\Users\\\\35385\\\\Desktop\\\\CS_Summer_2024\\\\Shared_GH\\\\New-York-App\\\\data-analytics\\\\cleaning\\\\..\\\\Datasets\\\\taxi_parquets\\\\yellow_2021_10_cleaned.parquet', 'c:\\\\Users\\\\35385\\\\Desktop\\\\CS_Summer_2024\\\\Shared_GH\\\\New-York-App\\\\data-analytics\\\\cleaning\\\\..\\\\Datasets\\\\taxi_parquets\\\\yellow_2021_11.parquet', 'c:\\\\Users\\\\35385\\\\Desktop\\\\CS_Summer_2024\\\\Shared_GH\\\\New-York-App\\\\data-analytics\\\\cleaning\\\\..\\\\Datasets\\\\taxi_parquets\\\\yellow_2021_11_cleaned.parquet', 'c:\\\\Users\\\\35385\\\\Desktop\\\\CS_Summer_2024\\\\Shared_GH\\\\New-York-App\\\\data-analytics\\\\cleaning\\\\..\\\\Datasets\\\\taxi_parquets\\\\yellow_2021_12.parquet', 'c:\\\\Users\\\\35385\\\\Desktop\\\\CS_Summer_2024\\\\Shared_GH\\\\New-York-App\\\\data-analytics\\\\cleaning\\\\..\\\\Datasets\\\\taxi_parquets\\\\yellow_2021_12_cleaned.parquet', 'c:\\\\Users\\\\35385\\\\Desktop\\\\CS_Summer_2024\\\\Shared_GH\\\\New-York-App\\\\data-analytics\\\\cleaning\\\\..\\\\Datasets\\\\taxi_parquets\\\\yellow_2022_01.parquet', 'c:\\\\Users\\\\35385\\\\Desktop\\\\CS_Summer_2024\\\\Shared_GH\\\\New-York-App\\\\data-analytics\\\\cleaning\\\\..\\\\Datasets\\\\taxi_parquets\\\\yellow_2022_01_cleaned.parquet', 'c:\\\\Users\\\\35385\\\\Desktop\\\\CS_Summer_2024\\\\Shared_GH\\\\New-York-App\\\\data-analytics\\\\cleaning\\\\..\\\\Datasets\\\\taxi_parquets\\\\yellow_2022_02.parquet', 'c:\\\\Users\\\\35385\\\\Desktop\\\\CS_Summer_2024\\\\Shared_GH\\\\New-York-App\\\\data-analytics\\\\cleaning\\\\..\\\\Datasets\\\\taxi_parquets\\\\yellow_2022_02_cleaned.parquet', 'c:\\\\Users\\\\35385\\\\Desktop\\\\CS_Summer_2024\\\\Shared_GH\\\\New-York-App\\\\data-analytics\\\\cleaning\\\\..\\\\Datasets\\\\taxi_parquets\\\\yellow_2022_03.parquet', 'c:\\\\Users\\\\35385\\\\Desktop\\\\CS_Summer_2024\\\\Shared_GH\\\\New-York-App\\\\data-analytics\\\\cleaning\\\\..\\\\Datasets\\\\taxi_parquets\\\\yellow_2022_03_cleaned.parquet', 'c:\\\\Users\\\\35385\\\\Desktop\\\\CS_Summer_2024\\\\Shared_GH\\\\New-York-App\\\\data-analytics\\\\cleaning\\\\..\\\\Datasets\\\\taxi_parquets\\\\yellow_2022_04.parquet', 'c:\\\\Users\\\\35385\\\\Desktop\\\\CS_Summer_2024\\\\Shared_GH\\\\New-York-App\\\\data-analytics\\\\cleaning\\\\..\\\\Datasets\\\\taxi_parquets\\\\yellow_2022_04_cleaned.parquet', 'c:\\\\Users\\\\35385\\\\Desktop\\\\CS_Summer_2024\\\\Shared_GH\\\\New-York-App\\\\data-analytics\\\\cleaning\\\\..\\\\Datasets\\\\taxi_parquets\\\\yellow_2022_05.parquet', 'c:\\\\Users\\\\35385\\\\Desktop\\\\CS_Summer_2024\\\\Shared_GH\\\\New-York-App\\\\data-analytics\\\\cleaning\\\\..\\\\Datasets\\\\taxi_parquets\\\\yellow_2022_05_cleaned.parquet', 'c:\\\\Users\\\\35385\\\\Desktop\\\\CS_Summer_2024\\\\Shared_GH\\\\New-York-App\\\\data-analytics\\\\cleaning\\\\..\\\\Datasets\\\\taxi_parquets\\\\yellow_2022_06.parquet', 'c:\\\\Users\\\\35385\\\\Desktop\\\\CS_Summer_2024\\\\Shared_GH\\\\New-York-App\\\\data-analytics\\\\cleaning\\\\..\\\\Datasets\\\\taxi_parquets\\\\yellow_2022_06_cleaned.parquet', 'c:\\\\Users\\\\35385\\\\Desktop\\\\CS_Summer_2024\\\\Shared_GH\\\\New-York-App\\\\data-analytics\\\\cleaning\\\\..\\\\Datasets\\\\taxi_parquets\\\\yellow_2022_07.parquet', 'c:\\\\Users\\\\35385\\\\Desktop\\\\CS_Summer_2024\\\\Shared_GH\\\\New-York-App\\\\data-analytics\\\\cleaning\\\\..\\\\Datasets\\\\taxi_parquets\\\\yellow_2022_07_cleaned.parquet', 'c:\\\\Users\\\\35385\\\\Desktop\\\\CS_Summer_2024\\\\Shared_GH\\\\New-York-App\\\\data-analytics\\\\cleaning\\\\..\\\\Datasets\\\\taxi_parquets\\\\yellow_2022_08.parquet', 'c:\\\\Users\\\\35385\\\\Desktop\\\\CS_Summer_2024\\\\Shared_GH\\\\New-York-App\\\\data-analytics\\\\cleaning\\\\..\\\\Datasets\\\\taxi_parquets\\\\yellow_2022_08_cleaned.parquet', 'c:\\\\Users\\\\35385\\\\Desktop\\\\CS_Summer_2024\\\\Shared_GH\\\\New-York-App\\\\data-analytics\\\\cleaning\\\\..\\\\Datasets\\\\taxi_parquets\\\\yellow_2022_09.parquet', 'c:\\\\Users\\\\35385\\\\Desktop\\\\CS_Summer_2024\\\\Shared_GH\\\\New-York-App\\\\data-analytics\\\\cleaning\\\\..\\\\Datasets\\\\taxi_parquets\\\\yellow_2022_09_cleaned.parquet', 'c:\\\\Users\\\\35385\\\\Desktop\\\\CS_Summer_2024\\\\Shared_GH\\\\New-York-App\\\\data-analytics\\\\cleaning\\\\..\\\\Datasets\\\\taxi_parquets\\\\yellow_2022_10.parquet', 'c:\\\\Users\\\\35385\\\\Desktop\\\\CS_Summer_2024\\\\Shared_GH\\\\New-York-App\\\\data-analytics\\\\cleaning\\\\..\\\\Datasets\\\\taxi_parquets\\\\yellow_2022_10_cleaned.parquet', 'c:\\\\Users\\\\35385\\\\Desktop\\\\CS_Summer_2024\\\\Shared_GH\\\\New-York-App\\\\data-analytics\\\\cleaning\\\\..\\\\Datasets\\\\taxi_parquets\\\\yellow_2022_11.parquet', 'c:\\\\Users\\\\35385\\\\Desktop\\\\CS_Summer_2024\\\\Shared_GH\\\\New-York-App\\\\data-analytics\\\\cleaning\\\\..\\\\Datasets\\\\taxi_parquets\\\\yellow_2022_11_cleaned.parquet', 'c:\\\\Users\\\\35385\\\\Desktop\\\\CS_Summer_2024\\\\Shared_GH\\\\New-York-App\\\\data-analytics\\\\cleaning\\\\..\\\\Datasets\\\\taxi_parquets\\\\yellow_2022_12.parquet', 'c:\\\\Users\\\\35385\\\\Desktop\\\\CS_Summer_2024\\\\Shared_GH\\\\New-York-App\\\\data-analytics\\\\cleaning\\\\..\\\\Datasets\\\\taxi_parquets\\\\yellow_2022_12_cleaned.parquet', 'c:\\\\Users\\\\35385\\\\Desktop\\\\CS_Summer_2024\\\\Shared_GH\\\\New-York-App\\\\data-analytics\\\\cleaning\\\\..\\\\Datasets\\\\taxi_parquets\\\\yellow_2023_01.parquet', 'c:\\\\Users\\\\35385\\\\Desktop\\\\CS_Summer_2024\\\\Shared_GH\\\\New-York-App\\\\data-analytics\\\\cleaning\\\\..\\\\Datasets\\\\taxi_parquets\\\\yellow_2023_01_cleaned.parquet', 'c:\\\\Users\\\\35385\\\\Desktop\\\\CS_Summer_2024\\\\Shared_GH\\\\New-York-App\\\\data-analytics\\\\cleaning\\\\..\\\\Datasets\\\\taxi_parquets\\\\yellow_2023_02.parquet', 'c:\\\\Users\\\\35385\\\\Desktop\\\\CS_Summer_2024\\\\Shared_GH\\\\New-York-App\\\\data-analytics\\\\cleaning\\\\..\\\\Datasets\\\\taxi_parquets\\\\yellow_2023_02_cleaned.parquet', 'c:\\\\Users\\\\35385\\\\Desktop\\\\CS_Summer_2024\\\\Shared_GH\\\\New-York-App\\\\data-analytics\\\\cleaning\\\\..\\\\Datasets\\\\taxi_parquets\\\\yellow_2023_03.parquet', 'c:\\\\Users\\\\35385\\\\Desktop\\\\CS_Summer_2024\\\\Shared_GH\\\\New-York-App\\\\data-analytics\\\\cleaning\\\\..\\\\Datasets\\\\taxi_parquets\\\\yellow_2023_03_cleaned.parquet', 'c:\\\\Users\\\\35385\\\\Desktop\\\\CS_Summer_2024\\\\Shared_GH\\\\New-York-App\\\\data-analytics\\\\cleaning\\\\..\\\\Datasets\\\\taxi_parquets\\\\yellow_2023_04.parquet', 'c:\\\\Users\\\\35385\\\\Desktop\\\\CS_Summer_2024\\\\Shared_GH\\\\New-York-App\\\\data-analytics\\\\cleaning\\\\..\\\\Datasets\\\\taxi_parquets\\\\yellow_2023_04_cleaned.parquet', 'c:\\\\Users\\\\35385\\\\Desktop\\\\CS_Summer_2024\\\\Shared_GH\\\\New-York-App\\\\data-analytics\\\\cleaning\\\\..\\\\Datasets\\\\taxi_parquets\\\\yellow_2023_05.parquet', 'c:\\\\Users\\\\35385\\\\Desktop\\\\CS_Summer_2024\\\\Shared_GH\\\\New-York-App\\\\data-analytics\\\\cleaning\\\\..\\\\Datasets\\\\taxi_parquets\\\\yellow_2023_05_cleaned.parquet', 'c:\\\\Users\\\\35385\\\\Desktop\\\\CS_Summer_2024\\\\Shared_GH\\\\New-York-App\\\\data-analytics\\\\cleaning\\\\..\\\\Datasets\\\\taxi_parquets\\\\yellow_2023_06.parquet', 'c:\\\\Users\\\\35385\\\\Desktop\\\\CS_Summer_2024\\\\Shared_GH\\\\New-York-App\\\\data-analytics\\\\cleaning\\\\..\\\\Datasets\\\\taxi_parquets\\\\yellow_2023_06_cleaned.parquet', 'c:\\\\Users\\\\35385\\\\Desktop\\\\CS_Summer_2024\\\\Shared_GH\\\\New-York-App\\\\data-analytics\\\\cleaning\\\\..\\\\Datasets\\\\taxi_parquets\\\\yellow_2023_07.parquet', 'c:\\\\Users\\\\35385\\\\Desktop\\\\CS_Summer_2024\\\\Shared_GH\\\\New-York-App\\\\data-analytics\\\\cleaning\\\\..\\\\Datasets\\\\taxi_parquets\\\\yellow_2023_07_cleaned.parquet', 'c:\\\\Users\\\\35385\\\\Desktop\\\\CS_Summer_2024\\\\Shared_GH\\\\New-York-App\\\\data-analytics\\\\cleaning\\\\..\\\\Datasets\\\\taxi_parquets\\\\yellow_2023_08.parquet', 'c:\\\\Users\\\\35385\\\\Desktop\\\\CS_Summer_2024\\\\Shared_GH\\\\New-York-App\\\\data-analytics\\\\cleaning\\\\..\\\\Datasets\\\\taxi_parquets\\\\yellow_2023_08_cleaned.parquet', 'c:\\\\Users\\\\35385\\\\Desktop\\\\CS_Summer_2024\\\\Shared_GH\\\\New-York-App\\\\data-analytics\\\\cleaning\\\\..\\\\Datasets\\\\taxi_parquets\\\\yellow_2023_09.parquet', 'c:\\\\Users\\\\35385\\\\Desktop\\\\CS_Summer_2024\\\\Shared_GH\\\\New-York-App\\\\data-analytics\\\\cleaning\\\\..\\\\Datasets\\\\taxi_parquets\\\\yellow_2023_09_cleaned.parquet', 'c:\\\\Users\\\\35385\\\\Desktop\\\\CS_Summer_2024\\\\Shared_GH\\\\New-York-App\\\\data-analytics\\\\cleaning\\\\..\\\\Datasets\\\\taxi_parquets\\\\yellow_2023_10.parquet', 'c:\\\\Users\\\\35385\\\\Desktop\\\\CS_Summer_2024\\\\Shared_GH\\\\New-York-App\\\\data-analytics\\\\cleaning\\\\..\\\\Datasets\\\\taxi_parquets\\\\yellow_2023_10_cleaned.parquet', 'c:\\\\Users\\\\35385\\\\Desktop\\\\CS_Summer_2024\\\\Shared_GH\\\\New-York-App\\\\data-analytics\\\\cleaning\\\\..\\\\Datasets\\\\taxi_parquets\\\\yellow_2023_11.parquet', 'c:\\\\Users\\\\35385\\\\Desktop\\\\CS_Summer_2024\\\\Shared_GH\\\\New-York-App\\\\data-analytics\\\\cleaning\\\\..\\\\Datasets\\\\taxi_parquets\\\\yellow_2023_11_cleaned.parquet', 'c:\\\\Users\\\\35385\\\\Desktop\\\\CS_Summer_2024\\\\Shared_GH\\\\New-York-App\\\\data-analytics\\\\cleaning\\\\..\\\\Datasets\\\\taxi_parquets\\\\yellow_2023_12.parquet', 'c:\\\\Users\\\\35385\\\\Desktop\\\\CS_Summer_2024\\\\Shared_GH\\\\New-York-App\\\\data-analytics\\\\cleaning\\\\..\\\\Datasets\\\\taxi_parquets\\\\yellow_2023_12_cleaned.parquet', 'c:\\\\Users\\\\35385\\\\Desktop\\\\CS_Summer_2024\\\\Shared_GH\\\\New-York-App\\\\data-analytics\\\\cleaning\\\\..\\\\Datasets\\\\taxi_parquets\\\\yellow_2024_01.parquet', 'c:\\\\Users\\\\35385\\\\Desktop\\\\CS_Summer_2024\\\\Shared_GH\\\\New-York-App\\\\data-analytics\\\\cleaning\\\\..\\\\Datasets\\\\taxi_parquets\\\\yellow_2024_01_cleaned.parquet', 'c:\\\\Users\\\\35385\\\\Desktop\\\\CS_Summer_2024\\\\Shared_GH\\\\New-York-App\\\\data-analytics\\\\cleaning\\\\..\\\\Datasets\\\\taxi_parquets\\\\yellow_2024_02.parquet', 'c:\\\\Users\\\\35385\\\\Desktop\\\\CS_Summer_2024\\\\Shared_GH\\\\New-York-App\\\\data-analytics\\\\cleaning\\\\..\\\\Datasets\\\\taxi_parquets\\\\yellow_2024_02_cleaned.parquet', 'c:\\\\Users\\\\35385\\\\Desktop\\\\CS_Summer_2024\\\\Shared_GH\\\\New-York-App\\\\data-analytics\\\\cleaning\\\\..\\\\Datasets\\\\taxi_parquets\\\\yellow_2024_03.parquet', 'c:\\\\Users\\\\35385\\\\Desktop\\\\CS_Summer_2024\\\\Shared_GH\\\\New-York-App\\\\data-analytics\\\\cleaning\\\\..\\\\Datasets\\\\taxi_parquets\\\\yellow_2024_03_cleaned.parquet']\n"
     ]
    }
   ],
   "source": [
    "for date in date_range:\n",
    "    search_pattern = os.path.join(data_dir, f\"yellow_{date.strftime('%Y_%m')}*.parquet\")\n",
    "    print(f\"Searching for files with pattern: {search_pattern}\")\n",
    "    files = glob.glob(search_pattern)\n",
    "    if files:\n",
    "        print(f\"Files found for pattern {search_pattern}: {files}\")\n",
    "    all_files.extend(files)  # Add the found files to the list\n",
    "\n",
    "print(\"All files found:\", all_files)"
   ]
  },
  {
   "cell_type": "code",
   "execution_count": 88,
   "metadata": {},
   "outputs": [
    {
     "name": "stdout",
     "output_type": "stream",
     "text": [
      "Number of files found: 78\n"
     ]
    }
   ],
   "source": [
    "print(\"Number of files found:\", len(all_files))"
   ]
  },
  {
   "cell_type": "code",
   "execution_count": 89,
   "metadata": {},
   "outputs": [
    {
     "name": "stdout",
     "output_type": "stream",
     "text": [
      "File path for yellow_2021_01: /data-analytics/Datasets/taxi_parquets/yellow_2021_01.parquet\n"
     ]
    }
   ],
   "source": [
    "print(\"File path for yellow_2021_01:\", r\"/data-analytics/Datasets/taxi_parquets/yellow_2021_01.parquet\")"
   ]
  },
  {
   "cell_type": "code",
   "execution_count": 90,
   "metadata": {},
   "outputs": [],
   "source": [
    "def renaming_yellow_to_standard(df):\n",
    "    \"\"\" \n",
    "    Function for renaming the columns of a dataset to standard names, which will ease the cleaning process\n",
    "    \"\"\"\n",
    "    if isinstance(df, pd.DataFrame):\n",
    "        df.rename(columns={\n",
    "            'tpep_pickup_datetime': 'pickup_datetime', \n",
    "            'tpep_dropoff_datetime': 'dropoff_datetime', \n",
    "            'PULocationID': 'pickup_zone', \n",
    "            'DOLocationID': 'dropoff_zone'\n",
    "        }, inplace=True)\n",
    "        return df\n",
    "    else:\n",
    "        print(\"Warning: The input is not a DataFrame in renaming_yellow_to_standard\")\n"
   ]
  },
  {
   "cell_type": "code",
   "execution_count": 91,
   "metadata": {},
   "outputs": [],
   "source": [
    "def convert_float_to_int(df):\n",
    "    \"\"\" \n",
    "    Function for converting datatypes of specific columns of a DataFrame to appropriate types.\n",
    "    \"\"\"\n",
    "    if isinstance(df, pd.DataFrame):\n",
    "        if \"RatecodeID\" in df.columns:\n",
    "            df[\"RatecodeID\"] = df[\"RatecodeID\"].fillna(0).astype(\"int32\")\n",
    "        if \"passenger_count\" in df.columns:\n",
    "            df[\"passenger_count\"] = df[\"passenger_count\"].fillna(0).astype(\"int32\")\n",
    "        if \"pickup_zone\" in df.columns:\n",
    "            df[\"pickup_zone\"] = df[\"pickup_zone\"].fillna(0).astype(\"int32\")\n",
    "        if \"dropoff_zone\" in df.columns:\n",
    "            df[\"dropoff_zone\"] = df[\"dropoff_zone\"].fillna(0).astype(\"int32\")    \n",
    "        return df\n",
    "    else:\n",
    "        print(\"Warning: The input is not a DataFrame in convert_float_to_int\")\n"
   ]
  },
  {
   "cell_type": "code",
   "execution_count": 92,
   "metadata": {},
   "outputs": [
    {
     "name": "stdout",
     "output_type": "stream",
     "text": [
      "Current Working Directory: c:\\Users\\35385\\Desktop\\CS_Summer_2024\\Shared_GH\\New-York-App\\data-analytics\\cleaning\n",
      "Taxi Zone CSV Directory: c:\\Users\\35385\\Desktop\\CS_Summer_2024\\Shared_GH\\New-York-App\\data-analytics\\cleaning\\..\\Datasets\\taxi_other\n",
      "Number of Unique Zones: 69\n",
      "List of Unique Zones: [  4  12  13  24  41  42  43  45  48  50  68  74  75  79  87  88  90 100\n",
      " 103 104 105 107 113 114 116 120 125 127 128 137 140 141 142 143 144 148\n",
      " 151 152 153 158 161 162 163 164 166 170 186 194 202 209 211 224 229 230\n",
      " 231 232 233 234 236 237 238 239 243 244 246 249 261 262 263]\n"
     ]
    }
   ],
   "source": [
    "print(\"Current Working Directory:\", cwd)\n",
    "\n",
    "taxi_zone_dir = os.path.join(os.getcwd(), \"..\", \"Datasets\", \"taxi_other\")\n",
    "\n",
    "\n",
    "# Define the directory where the data is located relative to the current working directory\n",
    "print(\"Taxi Zone CSV Directory:\", taxi_zone_dir)\n",
    "\n",
    "# Define the file path relative to the data directory\n",
    "taxi_zone_path = os.path.join(cwd, taxi_zone_dir, \"taxi_zone_lookup.csv\")\n",
    "\n",
    "taxi_zone = pd.read_csv(taxi_zone_path, keep_default_na=True, delimiter=\",\", skipinitialspace=True, encoding=\"Windows-1252\")\n",
    "\n",
    "def valid_zones_1(df):\n",
    "    manhattan_df = df[df[\"Borough\"] == \"Manhattan\"]\n",
    "    unique_zones = manhattan_df[\"LocationID\"].unique()\n",
    "    \n",
    "    print(f\"Number of Unique Zones: {len(unique_zones)}\")\n",
    "    print(\"List of Unique Zones:\", unique_zones)\n",
    "\n",
    "valid_zones_1(taxi_zone)\n",
    "    "
   ]
  },
  {
   "cell_type": "code",
   "execution_count": 93,
   "metadata": {},
   "outputs": [],
   "source": [
    "# Define a function to get unique zones for Manhattan\n",
    "def get_manhattan_zones(df):\n",
    "    manhattan_df = df[df[\"Borough\"] == \"Manhattan\"]\n",
    "    unique_zones = manhattan_df[\"LocationID\"].unique()\n",
    "    return set(unique_zones)\n",
    "\n",
    "# Get the unique Manhattan zones from the taxi_zone DataFrame\n",
    "manhattan_zones = get_manhattan_zones(taxi_zone)"
   ]
  },
  {
   "cell_type": "code",
   "execution_count": 94,
   "metadata": {},
   "outputs": [],
   "source": [
    "# Define the function to check pickup and dropoff zones\n",
    "def check_zones(df, manhattan_zones):\n",
    "    # Check if both pickup_zone and dropoff_zone are not in manhattan_zones\n",
    "    invalid_zones = df[~df[\"pickup_zone\"].isin(manhattan_zones) & ~df[\"dropoff_zone\"].isin(manhattan_zones)]\n",
    "    \n",
    "    print(f\"Invalid zones count: {invalid_zones.shape[0]}\")\n",
    "    \n",
    "    if not invalid_zones.empty:\n",
    "        print(\"Examples of rows with invalid zones:\")\n",
    "        print(invalid_zones.head())  # Print first few invalid rows"
   ]
  },
  {
   "cell_type": "code",
   "execution_count": 95,
   "metadata": {},
   "outputs": [],
   "source": [
    "def drop_yellow_invalid_rows(df, manhattan_zones):\n",
    "    if isinstance(df, pd.DataFrame):\n",
    "        # Drop duplicate rows\n",
    "        df = df.drop_duplicates()\n",
    "        \n",
    "        if \"airport_fee\" in df.columns:\n",
    "            df = df.drop(\"airport_fee\", axis=1)\n",
    "        if \"Airport_fee\" in df.columns:\n",
    "            df = df.drop(\"Airport_fee\", axis=1)\n",
    "            \n",
    "        # Drop rows where passenger_count == 0 or >= 6\n",
    "        df = df[(df[\"passenger_count\"] > 0) & (df[\"passenger_count\"] < 6)]\n",
    "        \n",
    "        # Drop rows where fare_amount or total_amount <= 0\n",
    "        df = df[(df[\"fare_amount\"] > 0) & (df[\"total_amount\"] > 0)]\n",
    "        \n",
    "        # Drop rows where extra, mta_tax, tip_amount, tolls_amount, improvement_surcharge, or congestion_surcharge < 0\n",
    "        df = df[(df[\"extra\"] >= 0) & (df[\"mta_tax\"] >= 0) & (df[\"tip_amount\"] >= 0) & \n",
    "                (df[\"tolls_amount\"] >= 0) & (df[\"improvement_surcharge\"] >= 0) & \n",
    "                (df[\"congestion_surcharge\"] >= 0)]\n",
    "        \n",
    "        # Drop rows where pickup_datetime == dropoff_datetime\n",
    "        df = df[df[\"pickup_datetime\"] != df[\"dropoff_datetime\"]]\n",
    "        \n",
    "        # Drop rows where trip_distance <= 0\n",
    "        df = df[df[\"trip_distance\"] > 0]\n",
    "        \n",
    "        # Drop rows where RateCodeID != 1-6\n",
    "        df = df[df[\"RatecodeID\"].isin([1, 2, 3, 4, 5, 6])]\n",
    "        \n",
    "        # Drop rows where payment_type == 4\n",
    "        df = df[df[\"payment_type\"] != 4]\n",
    "        \n",
    "        # Drop rows where both pickup_zone and dropoff_zone are not Manhattan zones\n",
    "        df = df[df[\"pickup_zone\"].isin(manhattan_zones) | df[\"dropoff_zone\"].isin(manhattan_zones)]\n",
    "        \n",
    "    else:\n",
    "        print(\"Warning: Input is not a DataFrame\")\n",
    "\n",
    "    return df"
   ]
  },
  {
   "cell_type": "code",
   "execution_count": 96,
   "metadata": {},
   "outputs": [],
   "source": [
    "def drop_yellow_columns(df):\n",
    "    columns_to_drop = [\"VendorID\", \"trip_distance\", \"RatecodeID\", \"store_and_fwd_flag\", \"payment_type\", \n",
    "                       \"fare_amount\", \"extra\", \"mta_tax\", \"improvement_surcharge\", \"tip_amount\", \n",
    "                       \"tolls_amount\", \"total_amount\", \"congestion_surcharge\"]\n",
    "    \n",
    "    # Drop only the columns that exist in the DataFrame\n",
    "    existing_columns_to_drop = [col for col in columns_to_drop if col in df.columns]\n",
    "    df.drop(columns=existing_columns_to_drop, inplace=True)\n",
    "\n",
    "    return df"
   ]
  },
  {
   "cell_type": "code",
   "execution_count": 97,
   "metadata": {},
   "outputs": [],
   "source": [
    "def drop_missing_values(df):\n",
    "    \"\"\"\n",
    "    Drops any rows with missing values from the DataFrame.\n",
    "    \n",
    "    Parameters:\n",
    "        df (pd.DataFrame): The DataFrame to clean.\n",
    "        \n",
    "    Returns:\n",
    "        pd.DataFrame: The cleaned DataFrame.\n",
    "        int: The number of rows that were dropped.\n",
    "    \"\"\"\n",
    "    \n",
    "    if isinstance(df, pd.DataFrame):\n",
    "        initial_row_count = df.shape[0]\n",
    "        df = df.dropna()\n",
    "        final_row_count = df.shape[0]\n",
    "        rows_dropped = initial_row_count - final_row_count\n",
    "        print(f\"Number of rows dropped: {rows_dropped}\")\n",
    "    return df"
   ]
  },
  {
   "cell_type": "code",
   "execution_count": 98,
   "metadata": {},
   "outputs": [],
   "source": [
    "def clean_yellow_parquet_files(file_paths, manhattan_zones):\n",
    "    cleaned_dfs = []\n",
    "    \n",
    "    for file_path in file_paths:\n",
    "        print(f\"Processing file: {file_path}\")\n",
    "        \n",
    "        # Read the parquet file\n",
    "        df = pd.read_parquet(file_path)\n",
    "        \n",
    "        print(\"DF Shape OLD\", df.shape)\n",
    "\n",
    "        # Apply the cleaning functions\n",
    "        df = renaming_yellow_to_standard(df)\n",
    "        df = convert_float_to_int(df)\n",
    "        df = drop_yellow_invalid_rows(df, manhattan_zones)\n",
    "        df = drop_yellow_columns(df)\n",
    "        df = drop_missing_values(df)\n",
    "\n",
    "        print(\"DF Shape NEW\", df.shape)\n",
    "\n",
    "        \n",
    "        # Append the cleaned DataFrame to the list\n",
    "        cleaned_dfs.append(df)\n",
    "        \n",
    "        # Save the cleaned DataFrame back to a parquet file (optional)\n",
    "        cleaned_file_path = file_path.replace('.parquet', '_cleaned.parquet')\n",
    "        df.to_parquet(cleaned_file_path)\n",
    "        print(f\"Saved cleaned file: {cleaned_file_path}\")\n",
    "    \n",
    "    # Concatenate all cleaned DataFrames into a single DataFrame\n",
    "    final_df = pd.concat(cleaned_dfs, ignore_index=True)\n",
    "    return final_df"
   ]
  },
  {
   "cell_type": "code",
   "execution_count": 17,
   "metadata": {},
   "outputs": [],
   "source": [
    "def get_parquet_files(data_dir, date_range):\n",
    "    all_files = []\n",
    "    \n",
    "    for date in date_range:\n",
    "        search_pattern = os.path.join(data_dir, f\"yellow_{date.strftime('%Y_%m')}*.parquet\")\n",
    "        files = glob.glob(search_pattern)\n",
    "        all_files.extend(files)\n",
    "    \n",
    "    return all_files\n",
    "\n",
    "# Usage example:\n",
    "data_dir = \"c:\\\\Users\\\\35385\\\\Desktop\\\\CS_Summer_2024\\\\Shared_GH\\\\New-York-App\\\\data-analytics\\\\cleaning\\\\..\\\\Datasets\\\\taxi_parquets\\\\\"\n",
    "date_range = pd.date_range(start=\"2021-01-01\", end=\"2024-03-31\", freq=\"MS\")\n",
    "\n",
    "file_paths = get_parquet_files(data_dir, date_range)"
   ]
  },
  {
   "cell_type": "code",
   "execution_count": 18,
   "metadata": {},
   "outputs": [
    {
     "name": "stdout",
     "output_type": "stream",
     "text": [
      "Processing file: c:\\Users\\35385\\Desktop\\CS_Summer_2024\\Shared_GH\\New-York-App\\data-analytics\\cleaning\\..\\Datasets\\taxi_parquets\\yellow_2021_01.parquet\n",
      "DF Shape OLD (1369769, 19)\n",
      "Number of rows dropped: 0\n",
      "DF Shape NEW (1149499, 5)\n",
      "Saved cleaned file: c:\\Users\\35385\\Desktop\\CS_Summer_2024\\Shared_GH\\New-York-App\\data-analytics\\cleaning\\..\\Datasets\\taxi_parquets\\yellow_2021_01_cleaned.parquet\n",
      "Processing file: c:\\Users\\35385\\Desktop\\CS_Summer_2024\\Shared_GH\\New-York-App\\data-analytics\\cleaning\\..\\Datasets\\taxi_parquets\\yellow_2021_02.parquet\n",
      "DF Shape OLD (1371709, 19)\n",
      "Number of rows dropped: 0\n",
      "DF Shape NEW (1160123, 5)\n",
      "Saved cleaned file: c:\\Users\\35385\\Desktop\\CS_Summer_2024\\Shared_GH\\New-York-App\\data-analytics\\cleaning\\..\\Datasets\\taxi_parquets\\yellow_2021_02_cleaned.parquet\n",
      "Processing file: c:\\Users\\35385\\Desktop\\CS_Summer_2024\\Shared_GH\\New-York-App\\data-analytics\\cleaning\\..\\Datasets\\taxi_parquets\\yellow_2021_03.parquet\n",
      "DF Shape OLD (1925152, 19)\n",
      "Number of rows dropped: 0\n",
      "DF Shape NEW (1640368, 5)\n",
      "Saved cleaned file: c:\\Users\\35385\\Desktop\\CS_Summer_2024\\Shared_GH\\New-York-App\\data-analytics\\cleaning\\..\\Datasets\\taxi_parquets\\yellow_2021_03_cleaned.parquet\n",
      "Processing file: c:\\Users\\35385\\Desktop\\CS_Summer_2024\\Shared_GH\\New-York-App\\data-analytics\\cleaning\\..\\Datasets\\taxi_parquets\\yellow_2021_04.parquet\n",
      "DF Shape OLD (2171187, 19)\n",
      "Number of rows dropped: 0\n",
      "DF Shape NEW (1860981, 5)\n",
      "Saved cleaned file: c:\\Users\\35385\\Desktop\\CS_Summer_2024\\Shared_GH\\New-York-App\\data-analytics\\cleaning\\..\\Datasets\\taxi_parquets\\yellow_2021_04_cleaned.parquet\n",
      "Processing file: c:\\Users\\35385\\Desktop\\CS_Summer_2024\\Shared_GH\\New-York-App\\data-analytics\\cleaning\\..\\Datasets\\taxi_parquets\\yellow_2021_05.parquet\n",
      "DF Shape OLD (2507109, 19)\n",
      "Number of rows dropped: 0\n",
      "DF Shape NEW (2168658, 5)\n",
      "Saved cleaned file: c:\\Users\\35385\\Desktop\\CS_Summer_2024\\Shared_GH\\New-York-App\\data-analytics\\cleaning\\..\\Datasets\\taxi_parquets\\yellow_2021_05_cleaned.parquet\n",
      "Processing file: c:\\Users\\35385\\Desktop\\CS_Summer_2024\\Shared_GH\\New-York-App\\data-analytics\\cleaning\\..\\Datasets\\taxi_parquets\\yellow_2021_06.parquet\n",
      "DF Shape OLD (2834264, 19)\n",
      "Number of rows dropped: 0\n",
      "DF Shape NEW (2458779, 5)\n",
      "Saved cleaned file: c:\\Users\\35385\\Desktop\\CS_Summer_2024\\Shared_GH\\New-York-App\\data-analytics\\cleaning\\..\\Datasets\\taxi_parquets\\yellow_2021_06_cleaned.parquet\n",
      "Processing file: c:\\Users\\35385\\Desktop\\CS_Summer_2024\\Shared_GH\\New-York-App\\data-analytics\\cleaning\\..\\Datasets\\taxi_parquets\\yellow_2021_07.parquet\n",
      "DF Shape OLD (2821746, 19)\n",
      "Number of rows dropped: 0\n",
      "DF Shape NEW (2424844, 5)\n",
      "Saved cleaned file: c:\\Users\\35385\\Desktop\\CS_Summer_2024\\Shared_GH\\New-York-App\\data-analytics\\cleaning\\..\\Datasets\\taxi_parquets\\yellow_2021_07_cleaned.parquet\n",
      "Processing file: c:\\Users\\35385\\Desktop\\CS_Summer_2024\\Shared_GH\\New-York-App\\data-analytics\\cleaning\\..\\Datasets\\taxi_parquets\\yellow_2021_08.parquet\n",
      "DF Shape OLD (2788757, 19)\n",
      "Number of rows dropped: 0\n",
      "DF Shape NEW (2376559, 5)\n",
      "Saved cleaned file: c:\\Users\\35385\\Desktop\\CS_Summer_2024\\Shared_GH\\New-York-App\\data-analytics\\cleaning\\..\\Datasets\\taxi_parquets\\yellow_2021_08_cleaned.parquet\n",
      "Processing file: c:\\Users\\35385\\Desktop\\CS_Summer_2024\\Shared_GH\\New-York-App\\data-analytics\\cleaning\\..\\Datasets\\taxi_parquets\\yellow_2021_09.parquet\n",
      "DF Shape OLD (2963793, 19)\n",
      "Number of rows dropped: 0\n",
      "DF Shape NEW (2539480, 5)\n",
      "Saved cleaned file: c:\\Users\\35385\\Desktop\\CS_Summer_2024\\Shared_GH\\New-York-App\\data-analytics\\cleaning\\..\\Datasets\\taxi_parquets\\yellow_2021_09_cleaned.parquet\n",
      "Processing file: c:\\Users\\35385\\Desktop\\CS_Summer_2024\\Shared_GH\\New-York-App\\data-analytics\\cleaning\\..\\Datasets\\taxi_parquets\\yellow_2021_10.parquet\n",
      "DF Shape OLD (3463504, 19)\n",
      "Number of rows dropped: 0\n",
      "DF Shape NEW (3032590, 5)\n",
      "Saved cleaned file: c:\\Users\\35385\\Desktop\\CS_Summer_2024\\Shared_GH\\New-York-App\\data-analytics\\cleaning\\..\\Datasets\\taxi_parquets\\yellow_2021_10_cleaned.parquet\n",
      "Processing file: c:\\Users\\35385\\Desktop\\CS_Summer_2024\\Shared_GH\\New-York-App\\data-analytics\\cleaning\\..\\Datasets\\taxi_parquets\\yellow_2021_11.parquet\n",
      "DF Shape OLD (3472949, 19)\n",
      "Number of rows dropped: 0\n",
      "DF Shape NEW (3050591, 5)\n",
      "Saved cleaned file: c:\\Users\\35385\\Desktop\\CS_Summer_2024\\Shared_GH\\New-York-App\\data-analytics\\cleaning\\..\\Datasets\\taxi_parquets\\yellow_2021_11_cleaned.parquet\n",
      "Processing file: c:\\Users\\35385\\Desktop\\CS_Summer_2024\\Shared_GH\\New-York-App\\data-analytics\\cleaning\\..\\Datasets\\taxi_parquets\\yellow_2021_12.parquet\n",
      "DF Shape OLD (3214369, 19)\n",
      "Number of rows dropped: 0\n",
      "DF Shape NEW (2829142, 5)\n",
      "Saved cleaned file: c:\\Users\\35385\\Desktop\\CS_Summer_2024\\Shared_GH\\New-York-App\\data-analytics\\cleaning\\..\\Datasets\\taxi_parquets\\yellow_2021_12_cleaned.parquet\n",
      "Processing file: c:\\Users\\35385\\Desktop\\CS_Summer_2024\\Shared_GH\\New-York-App\\data-analytics\\cleaning\\..\\Datasets\\taxi_parquets\\yellow_2022_01.parquet\n",
      "DF Shape OLD (2463931, 19)\n",
      "Number of rows dropped: 0\n",
      "DF Shape NEW (2163673, 5)\n",
      "Saved cleaned file: c:\\Users\\35385\\Desktop\\CS_Summer_2024\\Shared_GH\\New-York-App\\data-analytics\\cleaning\\..\\Datasets\\taxi_parquets\\yellow_2022_01_cleaned.parquet\n",
      "Processing file: c:\\Users\\35385\\Desktop\\CS_Summer_2024\\Shared_GH\\New-York-App\\data-analytics\\cleaning\\..\\Datasets\\taxi_parquets\\yellow_2022_02.parquet\n",
      "DF Shape OLD (2979431, 19)\n",
      "Number of rows dropped: 0\n",
      "DF Shape NEW (2620267, 5)\n",
      "Saved cleaned file: c:\\Users\\35385\\Desktop\\CS_Summer_2024\\Shared_GH\\New-York-App\\data-analytics\\cleaning\\..\\Datasets\\taxi_parquets\\yellow_2022_02_cleaned.parquet\n",
      "Processing file: c:\\Users\\35385\\Desktop\\CS_Summer_2024\\Shared_GH\\New-York-App\\data-analytics\\cleaning\\..\\Datasets\\taxi_parquets\\yellow_2022_03.parquet\n",
      "DF Shape OLD (3627882, 19)\n",
      "Number of rows dropped: 0\n",
      "DF Shape NEW (3189385, 5)\n",
      "Saved cleaned file: c:\\Users\\35385\\Desktop\\CS_Summer_2024\\Shared_GH\\New-York-App\\data-analytics\\cleaning\\..\\Datasets\\taxi_parquets\\yellow_2022_03_cleaned.parquet\n",
      "Processing file: c:\\Users\\35385\\Desktop\\CS_Summer_2024\\Shared_GH\\New-York-App\\data-analytics\\cleaning\\..\\Datasets\\taxi_parquets\\yellow_2022_04.parquet\n",
      "DF Shape OLD (3599920, 19)\n",
      "Number of rows dropped: 0\n",
      "DF Shape NEW (3162500, 5)\n",
      "Saved cleaned file: c:\\Users\\35385\\Desktop\\CS_Summer_2024\\Shared_GH\\New-York-App\\data-analytics\\cleaning\\..\\Datasets\\taxi_parquets\\yellow_2022_04_cleaned.parquet\n",
      "Processing file: c:\\Users\\35385\\Desktop\\CS_Summer_2024\\Shared_GH\\New-York-App\\data-analytics\\cleaning\\..\\Datasets\\taxi_parquets\\yellow_2022_05.parquet\n",
      "DF Shape OLD (3588295, 19)\n",
      "Number of rows dropped: 0\n",
      "DF Shape NEW (3125112, 5)\n",
      "Saved cleaned file: c:\\Users\\35385\\Desktop\\CS_Summer_2024\\Shared_GH\\New-York-App\\data-analytics\\cleaning\\..\\Datasets\\taxi_parquets\\yellow_2022_05_cleaned.parquet\n",
      "Processing file: c:\\Users\\35385\\Desktop\\CS_Summer_2024\\Shared_GH\\New-York-App\\data-analytics\\cleaning\\..\\Datasets\\taxi_parquets\\yellow_2022_06.parquet\n",
      "DF Shape OLD (3558124, 19)\n",
      "Number of rows dropped: 0\n",
      "DF Shape NEW (3093806, 5)\n",
      "Saved cleaned file: c:\\Users\\35385\\Desktop\\CS_Summer_2024\\Shared_GH\\New-York-App\\data-analytics\\cleaning\\..\\Datasets\\taxi_parquets\\yellow_2022_06_cleaned.parquet\n",
      "Processing file: c:\\Users\\35385\\Desktop\\CS_Summer_2024\\Shared_GH\\New-York-App\\data-analytics\\cleaning\\..\\Datasets\\taxi_parquets\\yellow_2022_07.parquet\n",
      "DF Shape OLD (3174394, 19)\n",
      "Number of rows dropped: 0\n",
      "DF Shape NEW (2755872, 5)\n",
      "Saved cleaned file: c:\\Users\\35385\\Desktop\\CS_Summer_2024\\Shared_GH\\New-York-App\\data-analytics\\cleaning\\..\\Datasets\\taxi_parquets\\yellow_2022_07_cleaned.parquet\n",
      "Processing file: c:\\Users\\35385\\Desktop\\CS_Summer_2024\\Shared_GH\\New-York-App\\data-analytics\\cleaning\\..\\Datasets\\taxi_parquets\\yellow_2022_08.parquet\n",
      "DF Shape OLD (3152677, 19)\n",
      "Number of rows dropped: 0\n",
      "DF Shape NEW (2734622, 5)\n",
      "Saved cleaned file: c:\\Users\\35385\\Desktop\\CS_Summer_2024\\Shared_GH\\New-York-App\\data-analytics\\cleaning\\..\\Datasets\\taxi_parquets\\yellow_2022_08_cleaned.parquet\n",
      "Processing file: c:\\Users\\35385\\Desktop\\CS_Summer_2024\\Shared_GH\\New-York-App\\data-analytics\\cleaning\\..\\Datasets\\taxi_parquets\\yellow_2022_09.parquet\n",
      "DF Shape OLD (3183767, 19)\n",
      "Number of rows dropped: 0\n",
      "DF Shape NEW (2750335, 5)\n",
      "Saved cleaned file: c:\\Users\\35385\\Desktop\\CS_Summer_2024\\Shared_GH\\New-York-App\\data-analytics\\cleaning\\..\\Datasets\\taxi_parquets\\yellow_2022_09_cleaned.parquet\n",
      "Processing file: c:\\Users\\35385\\Desktop\\CS_Summer_2024\\Shared_GH\\New-York-App\\data-analytics\\cleaning\\..\\Datasets\\taxi_parquets\\yellow_2022_10.parquet\n",
      "DF Shape OLD (3675411, 19)\n",
      "Number of rows dropped: 0\n",
      "DF Shape NEW (3188032, 5)\n",
      "Saved cleaned file: c:\\Users\\35385\\Desktop\\CS_Summer_2024\\Shared_GH\\New-York-App\\data-analytics\\cleaning\\..\\Datasets\\taxi_parquets\\yellow_2022_10_cleaned.parquet\n",
      "Processing file: c:\\Users\\35385\\Desktop\\CS_Summer_2024\\Shared_GH\\New-York-App\\data-analytics\\cleaning\\..\\Datasets\\taxi_parquets\\yellow_2022_11.parquet\n",
      "DF Shape OLD (3252717, 19)\n",
      "Number of rows dropped: 0\n",
      "DF Shape NEW (2832277, 5)\n",
      "Saved cleaned file: c:\\Users\\35385\\Desktop\\CS_Summer_2024\\Shared_GH\\New-York-App\\data-analytics\\cleaning\\..\\Datasets\\taxi_parquets\\yellow_2022_11_cleaned.parquet\n",
      "Processing file: c:\\Users\\35385\\Desktop\\CS_Summer_2024\\Shared_GH\\New-York-App\\data-analytics\\cleaning\\..\\Datasets\\taxi_parquets\\yellow_2022_12.parquet\n",
      "DF Shape OLD (3399549, 19)\n",
      "Number of rows dropped: 0\n",
      "DF Shape NEW (2937763, 5)\n",
      "Saved cleaned file: c:\\Users\\35385\\Desktop\\CS_Summer_2024\\Shared_GH\\New-York-App\\data-analytics\\cleaning\\..\\Datasets\\taxi_parquets\\yellow_2022_12_cleaned.parquet\n",
      "Processing file: c:\\Users\\35385\\Desktop\\CS_Summer_2024\\Shared_GH\\New-York-App\\data-analytics\\cleaning\\..\\Datasets\\taxi_parquets\\yellow_2023_01.parquet\n",
      "DF Shape OLD (3066766, 19)\n",
      "Number of rows dropped: 0\n",
      "DF Shape NEW (2692952, 5)\n",
      "Saved cleaned file: c:\\Users\\35385\\Desktop\\CS_Summer_2024\\Shared_GH\\New-York-App\\data-analytics\\cleaning\\..\\Datasets\\taxi_parquets\\yellow_2023_01_cleaned.parquet\n",
      "Processing file: c:\\Users\\35385\\Desktop\\CS_Summer_2024\\Shared_GH\\New-York-App\\data-analytics\\cleaning\\..\\Datasets\\taxi_parquets\\yellow_2023_02.parquet\n",
      "DF Shape OLD (2913955, 19)\n",
      "Number of rows dropped: 0\n",
      "DF Shape NEW (2561978, 5)\n",
      "Saved cleaned file: c:\\Users\\35385\\Desktop\\CS_Summer_2024\\Shared_GH\\New-York-App\\data-analytics\\cleaning\\..\\Datasets\\taxi_parquets\\yellow_2023_02_cleaned.parquet\n",
      "Processing file: c:\\Users\\35385\\Desktop\\CS_Summer_2024\\Shared_GH\\New-York-App\\data-analytics\\cleaning\\..\\Datasets\\taxi_parquets\\yellow_2023_03.parquet\n",
      "DF Shape OLD (3403766, 19)\n",
      "Number of rows dropped: 0\n",
      "DF Shape NEW (2980540, 5)\n",
      "Saved cleaned file: c:\\Users\\35385\\Desktop\\CS_Summer_2024\\Shared_GH\\New-York-App\\data-analytics\\cleaning\\..\\Datasets\\taxi_parquets\\yellow_2023_03_cleaned.parquet\n",
      "Processing file: c:\\Users\\35385\\Desktop\\CS_Summer_2024\\Shared_GH\\New-York-App\\data-analytics\\cleaning\\..\\Datasets\\taxi_parquets\\yellow_2023_04.parquet\n",
      "DF Shape OLD (3288250, 19)\n",
      "Number of rows dropped: 0\n",
      "DF Shape NEW (2866475, 5)\n",
      "Saved cleaned file: c:\\Users\\35385\\Desktop\\CS_Summer_2024\\Shared_GH\\New-York-App\\data-analytics\\cleaning\\..\\Datasets\\taxi_parquets\\yellow_2023_04_cleaned.parquet\n",
      "Processing file: c:\\Users\\35385\\Desktop\\CS_Summer_2024\\Shared_GH\\New-York-App\\data-analytics\\cleaning\\..\\Datasets\\taxi_parquets\\yellow_2023_05.parquet\n",
      "DF Shape OLD (3513649, 19)\n",
      "Number of rows dropped: 0\n",
      "DF Shape NEW (3055608, 5)\n",
      "Saved cleaned file: c:\\Users\\35385\\Desktop\\CS_Summer_2024\\Shared_GH\\New-York-App\\data-analytics\\cleaning\\..\\Datasets\\taxi_parquets\\yellow_2023_05_cleaned.parquet\n",
      "Processing file: c:\\Users\\35385\\Desktop\\CS_Summer_2024\\Shared_GH\\New-York-App\\data-analytics\\cleaning\\..\\Datasets\\taxi_parquets\\yellow_2023_06.parquet\n",
      "DF Shape OLD (3307234, 19)\n",
      "Number of rows dropped: 0\n",
      "DF Shape NEW (2862721, 5)\n",
      "Saved cleaned file: c:\\Users\\35385\\Desktop\\CS_Summer_2024\\Shared_GH\\New-York-App\\data-analytics\\cleaning\\..\\Datasets\\taxi_parquets\\yellow_2023_06_cleaned.parquet\n",
      "Processing file: c:\\Users\\35385\\Desktop\\CS_Summer_2024\\Shared_GH\\New-York-App\\data-analytics\\cleaning\\..\\Datasets\\taxi_parquets\\yellow_2023_07.parquet\n",
      "DF Shape OLD (2907108, 19)\n",
      "Number of rows dropped: 0\n",
      "DF Shape NEW (2499240, 5)\n",
      "Saved cleaned file: c:\\Users\\35385\\Desktop\\CS_Summer_2024\\Shared_GH\\New-York-App\\data-analytics\\cleaning\\..\\Datasets\\taxi_parquets\\yellow_2023_07_cleaned.parquet\n",
      "Processing file: c:\\Users\\35385\\Desktop\\CS_Summer_2024\\Shared_GH\\New-York-App\\data-analytics\\cleaning\\..\\Datasets\\taxi_parquets\\yellow_2023_08.parquet\n",
      "DF Shape OLD (2824209, 19)\n",
      "Number of rows dropped: 0\n",
      "DF Shape NEW (2413587, 5)\n",
      "Saved cleaned file: c:\\Users\\35385\\Desktop\\CS_Summer_2024\\Shared_GH\\New-York-App\\data-analytics\\cleaning\\..\\Datasets\\taxi_parquets\\yellow_2023_08_cleaned.parquet\n",
      "Processing file: c:\\Users\\35385\\Desktop\\CS_Summer_2024\\Shared_GH\\New-York-App\\data-analytics\\cleaning\\..\\Datasets\\taxi_parquets\\yellow_2023_09.parquet\n",
      "DF Shape OLD (2846722, 19)\n",
      "Number of rows dropped: 0\n",
      "DF Shape NEW (2410466, 5)\n",
      "Saved cleaned file: c:\\Users\\35385\\Desktop\\CS_Summer_2024\\Shared_GH\\New-York-App\\data-analytics\\cleaning\\..\\Datasets\\taxi_parquets\\yellow_2023_09_cleaned.parquet\n",
      "Processing file: c:\\Users\\35385\\Desktop\\CS_Summer_2024\\Shared_GH\\New-York-App\\data-analytics\\cleaning\\..\\Datasets\\taxi_parquets\\yellow_2023_10.parquet\n",
      "DF Shape OLD (3522285, 19)\n",
      "Number of rows dropped: 0\n",
      "DF Shape NEW (3025312, 5)\n",
      "Saved cleaned file: c:\\Users\\35385\\Desktop\\CS_Summer_2024\\Shared_GH\\New-York-App\\data-analytics\\cleaning\\..\\Datasets\\taxi_parquets\\yellow_2023_10_cleaned.parquet\n",
      "Processing file: c:\\Users\\35385\\Desktop\\CS_Summer_2024\\Shared_GH\\New-York-App\\data-analytics\\cleaning\\..\\Datasets\\taxi_parquets\\yellow_2023_11.parquet\n",
      "DF Shape OLD (3339715, 19)\n",
      "Number of rows dropped: 0\n",
      "DF Shape NEW (2893084, 5)\n",
      "Saved cleaned file: c:\\Users\\35385\\Desktop\\CS_Summer_2024\\Shared_GH\\New-York-App\\data-analytics\\cleaning\\..\\Datasets\\taxi_parquets\\yellow_2023_11_cleaned.parquet\n",
      "Processing file: c:\\Users\\35385\\Desktop\\CS_Summer_2024\\Shared_GH\\New-York-App\\data-analytics\\cleaning\\..\\Datasets\\taxi_parquets\\yellow_2023_12.parquet\n",
      "DF Shape OLD (3376567, 19)\n",
      "Number of rows dropped: 0\n",
      "DF Shape NEW (2888476, 5)\n",
      "Saved cleaned file: c:\\Users\\35385\\Desktop\\CS_Summer_2024\\Shared_GH\\New-York-App\\data-analytics\\cleaning\\..\\Datasets\\taxi_parquets\\yellow_2023_12_cleaned.parquet\n",
      "Processing file: c:\\Users\\35385\\Desktop\\CS_Summer_2024\\Shared_GH\\New-York-App\\data-analytics\\cleaning\\..\\Datasets\\taxi_parquets\\yellow_2024_01.parquet\n",
      "DF Shape OLD (2964624, 19)\n",
      "Number of rows dropped: 0\n",
      "DF Shape NEW (2540768, 5)\n",
      "Saved cleaned file: c:\\Users\\35385\\Desktop\\CS_Summer_2024\\Shared_GH\\New-York-App\\data-analytics\\cleaning\\..\\Datasets\\taxi_parquets\\yellow_2024_01_cleaned.parquet\n",
      "Processing file: c:\\Users\\35385\\Desktop\\CS_Summer_2024\\Shared_GH\\New-York-App\\data-analytics\\cleaning\\..\\Datasets\\taxi_parquets\\yellow_2024_02.parquet\n",
      "DF Shape OLD (3007526, 19)\n",
      "Number of rows dropped: 0\n",
      "DF Shape NEW (2547798, 5)\n",
      "Saved cleaned file: c:\\Users\\35385\\Desktop\\CS_Summer_2024\\Shared_GH\\New-York-App\\data-analytics\\cleaning\\..\\Datasets\\taxi_parquets\\yellow_2024_02_cleaned.parquet\n",
      "Processing file: c:\\Users\\35385\\Desktop\\CS_Summer_2024\\Shared_GH\\New-York-App\\data-analytics\\cleaning\\..\\Datasets\\taxi_parquets\\yellow_2024_03.parquet\n",
      "DF Shape OLD (3582628, 19)\n",
      "Number of rows dropped: 0\n",
      "DF Shape NEW (2834476, 5)\n",
      "Saved cleaned file: c:\\Users\\35385\\Desktop\\CS_Summer_2024\\Shared_GH\\New-York-App\\data-analytics\\cleaning\\..\\Datasets\\taxi_parquets\\yellow_2024_03_cleaned.parquet\n",
      "Saved final concatenated DataFrame: yellow_final_cleaned.parquet\n"
     ]
    }
   ],
   "source": [
    "final_df = clean_yellow_parquet_files(file_paths, manhattan_zones)\n",
    "\n",
    "# Save the final concatenated DataFrame to a parquet file (optional)\n",
    "final_df.to_parquet('c:\\\\Users\\\\35385\\\\Desktop\\\\CS_Summer_2024\\\\Shared_GH\\\\New-York-App\\\\data-analytics\\\\cleaning\\\\..\\\\Datasets\\\\taxi_parquets\\\\yellow_final_cleaned.parquet')\n",
    "print(\"Saved final concatenated DataFrame: yellow_final_cleaned.parquet\")"
   ]
  },
  {
   "cell_type": "code",
   "execution_count": 44,
   "metadata": {},
   "outputs": [
    {
     "name": "stdout",
     "output_type": "stream",
     "text": [
      "Current Working Directory: c:\\Users\\35385\\Desktop\\CS_Summer_2024\\Shared_GH\\New-York-App\\data-analytics\\cleaning\n",
      "Data Directory: c:\\Users\\35385\\Desktop\\CS_Summer_2024\\Shared_GH\\New-York-App\\data-analytics\\cleaning\\..\\Datasets\\taxi_parquets\n",
      "yellow_final_cleaned: c:\\Users\\35385\\Desktop\\CS_Summer_2024\\Shared_GH\\New-York-App\\data-analytics\\cleaning\\..\\Datasets\\taxi_parquets\\yellow_final_cleaned.parquet\n"
     ]
    }
   ],
   "source": [
    "\"\"\" \n",
    "Begin by loading 1 parquet file as pandas dataframe from each of the 4 TLC genres.\n",
    "Error catching across OSes implemented: cwd, data directory, paths etc.\n",
    "\"\"\"\n",
    "\n",
    "cwd = os.getcwd()\n",
    "print(\"Current Working Directory:\", cwd)\n",
    "\n",
    "# Define the directory where the data is located relative to the current working directory\n",
    "print(\"Data Directory:\", data_dir)\n",
    "\n",
    "# Define the file paths relative to the data directory\n",
    "yellow_final_cleaned_path = os.path.join(data_dir, \"yellow_final_cleaned.parquet\")\n",
    "\n",
    "# Print the constructed file paths to verify\n",
    "print(\"yellow_final_cleaned:\", yellow_final_cleaned_path)\n"
   ]
  },
  {
   "cell_type": "code",
   "execution_count": 45,
   "metadata": {},
   "outputs": [],
   "source": [
    "# Read the parquet files using the relative file paths\n",
    "yellow_final_cleaned = pd.read_parquet(yellow_final_cleaned_path, engine='pyarrow')"
   ]
  },
  {
   "cell_type": "code",
   "execution_count": 46,
   "metadata": {},
   "outputs": [
    {
     "data": {
      "text/plain": [
       "(102318739, 5)"
      ]
     },
     "execution_count": 46,
     "metadata": {},
     "output_type": "execute_result"
    }
   ],
   "source": [
    "yellow_final_cleaned.shape"
   ]
  },
  {
   "cell_type": "code",
   "execution_count": 47,
   "metadata": {},
   "outputs": [
    {
     "name": "stdout",
     "output_type": "stream",
     "text": [
      "<class 'pandas.core.frame.DataFrame'>\n",
      "RangeIndex: 102318739 entries, 0 to 102318738\n",
      "Data columns (total 5 columns):\n",
      " #   Column            Dtype         \n",
      "---  ------            -----         \n",
      " 0   pickup_datetime   datetime64[us]\n",
      " 1   dropoff_datetime  datetime64[us]\n",
      " 2   passenger_count   int32         \n",
      " 3   pickup_zone       int32         \n",
      " 4   dropoff_zone      int32         \n",
      "dtypes: datetime64[us](2), int32(3)\n",
      "memory usage: 2.7 GB\n"
     ]
    }
   ],
   "source": [
    "yellow_final_cleaned.info()"
   ]
  },
  {
   "cell_type": "code",
   "execution_count": 48,
   "metadata": {},
   "outputs": [
    {
     "data": {
      "text/html": [
       "<div>\n",
       "<style scoped>\n",
       "    .dataframe tbody tr th:only-of-type {\n",
       "        vertical-align: middle;\n",
       "    }\n",
       "\n",
       "    .dataframe tbody tr th {\n",
       "        vertical-align: top;\n",
       "    }\n",
       "\n",
       "    .dataframe thead th {\n",
       "        text-align: right;\n",
       "    }\n",
       "</style>\n",
       "<table border=\"1\" class=\"dataframe\">\n",
       "  <thead>\n",
       "    <tr style=\"text-align: right;\">\n",
       "      <th></th>\n",
       "      <th>pickup_datetime</th>\n",
       "      <th>dropoff_datetime</th>\n",
       "      <th>passenger_count</th>\n",
       "      <th>pickup_zone</th>\n",
       "      <th>dropoff_zone</th>\n",
       "    </tr>\n",
       "  </thead>\n",
       "  <tbody>\n",
       "    <tr>\n",
       "      <th>0</th>\n",
       "      <td>2021-01-01 00:30:10</td>\n",
       "      <td>2021-01-01 00:36:12</td>\n",
       "      <td>1</td>\n",
       "      <td>142</td>\n",
       "      <td>43</td>\n",
       "    </tr>\n",
       "    <tr>\n",
       "      <th>1</th>\n",
       "      <td>2021-01-01 00:51:20</td>\n",
       "      <td>2021-01-01 00:52:19</td>\n",
       "      <td>1</td>\n",
       "      <td>238</td>\n",
       "      <td>151</td>\n",
       "    </tr>\n",
       "    <tr>\n",
       "      <th>2</th>\n",
       "      <td>2021-01-01 00:31:49</td>\n",
       "      <td>2021-01-01 00:48:21</td>\n",
       "      <td>1</td>\n",
       "      <td>68</td>\n",
       "      <td>33</td>\n",
       "    </tr>\n",
       "    <tr>\n",
       "      <th>3</th>\n",
       "      <td>2021-01-01 00:16:29</td>\n",
       "      <td>2021-01-01 00:24:30</td>\n",
       "      <td>1</td>\n",
       "      <td>224</td>\n",
       "      <td>68</td>\n",
       "    </tr>\n",
       "    <tr>\n",
       "      <th>4</th>\n",
       "      <td>2021-01-01 00:12:29</td>\n",
       "      <td>2021-01-01 00:30:34</td>\n",
       "      <td>1</td>\n",
       "      <td>90</td>\n",
       "      <td>40</td>\n",
       "    </tr>\n",
       "    <tr>\n",
       "      <th>5</th>\n",
       "      <td>2021-01-01 00:26:12</td>\n",
       "      <td>2021-01-01 00:39:46</td>\n",
       "      <td>2</td>\n",
       "      <td>263</td>\n",
       "      <td>142</td>\n",
       "    </tr>\n",
       "    <tr>\n",
       "      <th>6</th>\n",
       "      <td>2021-01-01 00:15:52</td>\n",
       "      <td>2021-01-01 00:38:07</td>\n",
       "      <td>3</td>\n",
       "      <td>164</td>\n",
       "      <td>255</td>\n",
       "    </tr>\n",
       "    <tr>\n",
       "      <th>7</th>\n",
       "      <td>2021-01-01 00:10:46</td>\n",
       "      <td>2021-01-01 00:32:58</td>\n",
       "      <td>2</td>\n",
       "      <td>138</td>\n",
       "      <td>166</td>\n",
       "    </tr>\n",
       "    <tr>\n",
       "      <th>8</th>\n",
       "      <td>2021-01-01 00:31:06</td>\n",
       "      <td>2021-01-01 00:38:52</td>\n",
       "      <td>5</td>\n",
       "      <td>142</td>\n",
       "      <td>50</td>\n",
       "    </tr>\n",
       "    <tr>\n",
       "      <th>9</th>\n",
       "      <td>2021-01-01 00:42:11</td>\n",
       "      <td>2021-01-01 00:44:24</td>\n",
       "      <td>5</td>\n",
       "      <td>50</td>\n",
       "      <td>142</td>\n",
       "    </tr>\n",
       "  </tbody>\n",
       "</table>\n",
       "</div>"
      ],
      "text/plain": [
       "      pickup_datetime    dropoff_datetime  passenger_count  pickup_zone  \\\n",
       "0 2021-01-01 00:30:10 2021-01-01 00:36:12                1          142   \n",
       "1 2021-01-01 00:51:20 2021-01-01 00:52:19                1          238   \n",
       "2 2021-01-01 00:31:49 2021-01-01 00:48:21                1           68   \n",
       "3 2021-01-01 00:16:29 2021-01-01 00:24:30                1          224   \n",
       "4 2021-01-01 00:12:29 2021-01-01 00:30:34                1           90   \n",
       "5 2021-01-01 00:26:12 2021-01-01 00:39:46                2          263   \n",
       "6 2021-01-01 00:15:52 2021-01-01 00:38:07                3          164   \n",
       "7 2021-01-01 00:10:46 2021-01-01 00:32:58                2          138   \n",
       "8 2021-01-01 00:31:06 2021-01-01 00:38:52                5          142   \n",
       "9 2021-01-01 00:42:11 2021-01-01 00:44:24                5           50   \n",
       "\n",
       "   dropoff_zone  \n",
       "0            43  \n",
       "1           151  \n",
       "2            33  \n",
       "3            68  \n",
       "4            40  \n",
       "5           142  \n",
       "6           255  \n",
       "7           166  \n",
       "8            50  \n",
       "9           142  "
      ]
     },
     "execution_count": 48,
     "metadata": {},
     "output_type": "execute_result"
    }
   ],
   "source": [
    "yellow_final_cleaned.head(10)"
   ]
  },
  {
   "cell_type": "code",
   "execution_count": 49,
   "metadata": {},
   "outputs": [],
   "source": [
    "def calculate_zone_busy_in_chunks(yellow_df, chunk_size=10**6):\n",
    "    zone_busy_list = []\n",
    "    \n",
    "    for i in range(0, len(yellow_df), chunk_size):\n",
    "        chunk = yellow_df.iloc[i:i + chunk_size]\n",
    "        \n",
    "        # Combine pickup and dropoff data into a single DataFrame; renamed and combined into a single datetime column\n",
    "        pickup_data = chunk[['pickup_datetime', 'passenger_count', 'pickup_zone']].rename(columns={'pickup_datetime': 'datetime', 'pickup_zone': 'zone'})\n",
    "        dropoff_data = chunk[['dropoff_datetime', 'passenger_count', 'dropoff_zone']].rename(columns={'dropoff_datetime': 'datetime', 'dropoff_zone': 'zone'})\n",
    "        combined_data = pd.concat([pickup_data, dropoff_data])\n",
    "        \n",
    "        # Round datetime to the nearest hour\n",
    "        combined_data['datetime'] = combined_data['datetime'].dt.round('h')\n",
    "        \n",
    "        # Extract the required time components\n",
    "        combined_data['hour'] = combined_data['datetime'].dt.hour\n",
    "        combined_data['day_of_week'] = combined_data['datetime'].dt.dayofweek\n",
    "        combined_data['week'] = combined_data['datetime'].dt.isocalendar().week\n",
    "        combined_data['month'] = combined_data['datetime'].dt.month - 1  # Convert to 0-11 for Jan-Dec\n",
    "        combined_data['day_of_month'] = combined_data['datetime'].dt.day + (combined_data['datetime'].dt.month - 1) * 31\n",
    "        combined_data['year_month'] = combined_data['datetime'].dt.to_period('M')\n",
    "        \n",
    "        # Group by hour, day_of_week, week, month, day_of_month, year_month, and zone, summing passenger counts\n",
    "        zone_busy_chunk = combined_data.groupby(['hour', 'day_of_week', 'week', 'month', 'day_of_month', 'year_month', 'zone'])['passenger_count'].sum().reset_index()\n",
    "        zone_busy_list.append(zone_busy_chunk)\n",
    "        \n",
    "    # Concatenate all the chunk results\n",
    "    zone_busy_df = pd.concat(zone_busy_list).groupby(['hour', 'day_of_week', 'week', 'month', 'day_of_month', 'year_month', 'zone'])['passenger_count'].sum().reset_index()\n",
    "    \n",
    "    return zone_busy_df"
   ]
  },
  {
   "cell_type": "code",
   "execution_count": 50,
   "metadata": {},
   "outputs": [
    {
     "name": "stdout",
     "output_type": "stream",
     "text": [
      "         hour  day_of_week  week  month  day_of_month year_month  zone  \\\n",
      "0           0            0     1      0             1    2001-01    43   \n",
      "1           0            0     1      0             1    2001-01    48   \n",
      "2           0            0     1      0             1    2001-01   132   \n",
      "3           0            0     1      0             1    2001-01   161   \n",
      "4           0            0     1      0             1    2001-01   239   \n",
      "...       ...          ...   ...    ...           ...        ...   ...   \n",
      "3288608    23            6    53      0             3    2021-01   255   \n",
      "3288609    23            6    53      0             3    2021-01   261   \n",
      "3288610    23            6    53      0             3    2021-01   262   \n",
      "3288611    23            6    53      0             3    2021-01   263   \n",
      "3288612    23            6    53      0             3    2021-01   264   \n",
      "\n",
      "         passenger_count  \n",
      "0                      1  \n",
      "1                      1  \n",
      "2                      2  \n",
      "3                      2  \n",
      "4                      2  \n",
      "...                  ...  \n",
      "3288608                2  \n",
      "3288609                2  \n",
      "3288610               14  \n",
      "3288611               36  \n",
      "3288612                1  \n",
      "\n",
      "[3288613 rows x 8 columns]\n"
     ]
    }
   ],
   "source": [
    "yellow_final_cleaned = calculate_zone_busy_in_chunks(yellow_final_cleaned)\n",
    "print(yellow_final_cleaned)"
   ]
  },
  {
   "cell_type": "code",
   "execution_count": 51,
   "metadata": {},
   "outputs": [
    {
     "name": "stdout",
     "output_type": "stream",
     "text": [
      "<class 'pandas.core.frame.DataFrame'>\n",
      "RangeIndex: 3288613 entries, 0 to 3288612\n",
      "Data columns (total 8 columns):\n",
      " #   Column           Dtype    \n",
      "---  ------           -----    \n",
      " 0   hour             int32    \n",
      " 1   day_of_week      int32    \n",
      " 2   week             UInt32   \n",
      " 3   month            int32    \n",
      " 4   day_of_month     int32    \n",
      " 5   year_month       period[M]\n",
      " 6   zone             int32    \n",
      " 7   passenger_count  int32    \n",
      "dtypes: UInt32(1), int32(6), period[M](1)\n",
      "memory usage: 116.0 MB\n"
     ]
    }
   ],
   "source": [
    "yellow_final_cleaned.info()"
   ]
  },
  {
   "cell_type": "code",
   "execution_count": 53,
   "metadata": {},
   "outputs": [
    {
     "name": "stdout",
     "output_type": "stream",
     "text": [
      "DataFrame saved to: c:\\Users\\35385\\Desktop\\CS_Summer_2024\\Shared_GH\\New-York-App\\data-analytics\\cleaning\\..\\Datasets\\taxi_other\\yellow_final_cleaned.csv\n"
     ]
    }
   ],
   "source": [
    "data_dir = os.path.join(os.getcwd(), \"..\", \"Datasets\", \"taxi_other\")\n",
    "\n",
    "\n",
    "# Define the file path\n",
    "file_path = os.path.join(data_dir, \"yellow_final_cleaned.csv\")\n",
    "\n",
    "# Save the DataFrame to CSV\n",
    "yellow_final_cleaned.to_csv(file_path, index=False)\n",
    "\n",
    "print(\"DataFrame saved to:\", file_path)"
   ]
  },
  {
   "cell_type": "markdown",
   "metadata": {},
   "source": []
  },
  {
   "cell_type": "markdown",
   "metadata": {},
   "source": []
  },
  {
   "cell_type": "markdown",
   "metadata": {},
   "source": []
  },
  {
   "cell_type": "code",
   "execution_count": 99,
   "metadata": {},
   "outputs": [
    {
     "name": "stdout",
     "output_type": "stream",
     "text": [
      "Date range: DatetimeIndex(['2021-01-31', '2021-02-28', '2021-03-31', '2021-04-30',\n",
      "               '2021-05-31', '2021-06-30', '2021-07-31', '2021-08-31',\n",
      "               '2021-09-30', '2021-10-31', '2021-11-30', '2021-12-31',\n",
      "               '2022-01-31', '2022-02-28', '2022-03-31', '2022-04-30',\n",
      "               '2022-05-31', '2022-06-30', '2022-07-31', '2022-08-31',\n",
      "               '2022-09-30', '2022-10-31', '2022-11-30', '2022-12-31',\n",
      "               '2023-01-31', '2023-02-28', '2023-03-31', '2023-04-30',\n",
      "               '2023-05-31', '2023-06-30', '2023-07-31', '2023-08-31',\n",
      "               '2023-09-30', '2023-10-31', '2023-11-30', '2023-12-31',\n",
      "               '2024-01-31', '2024-02-29', '2024-03-31'],\n",
      "              dtype='datetime64[ns]', freq='ME')\n"
     ]
    }
   ],
   "source": [
    "date_range = pd.date_range(start='2021-01', end='2024-04', freq='ME')\n",
    "print(\"Date range:\", date_range)"
   ]
  },
  {
   "cell_type": "code",
   "execution_count": 100,
   "metadata": {},
   "outputs": [
    {
     "name": "stdout",
     "output_type": "stream",
     "text": [
      "Data directory: c:\\Users\\35385\\Desktop\\CS_Summer_2024\\Shared_GH\\New-York-App\\data-analytics\\cleaning\\..\\Datasets\\taxi_parquets\n",
      "Files in directory c:\\Users\\35385\\Desktop\\CS_Summer_2024\\Shared_GH\\New-York-App\\data-analytics\\cleaning\\..\\Datasets\\taxi_parquets: ['fhvhv_2021_01.parquet', 'fhvhv_2021_02.parquet', 'fhvhv_2021_03.parquet', 'fhvhv_2021_04.parquet', 'fhvhv_2021_05.parquet', 'fhvhv_2021_06.parquet', 'fhvhv_2021_07.parquet', 'fhvhv_2021_08.parquet', 'fhvhv_2021_09.parquet', 'fhvhv_2021_10.parquet', 'fhvhv_2021_11.parquet', 'fhvhv_2021_12.parquet', 'fhvhv_2022_01.parquet', 'fhvhv_2022_02.parquet', 'fhvhv_2022_03.parquet', 'fhvhv_2022_04.parquet', 'fhvhv_2022_05.parquet', 'fhvhv_2022_06.parquet', 'fhvhv_2022_07.parquet', 'fhvhv_2022_08.parquet', 'fhvhv_2022_09.parquet', 'fhvhv_2022_10.parquet', 'fhvhv_2022_11.parquet', 'fhvhv_2022_12.parquet', 'fhvhv_2023_01.parquet', 'fhvhv_2023_02.parquet', 'fhvhv_2023_03.parquet', 'fhvhv_2023_04.parquet', 'fhvhv_2023_05.parquet', 'fhvhv_2023_06.parquet', 'fhvhv_2023_07.parquet', 'fhvhv_2023_08.parquet', 'fhvhv_2023_09.parquet', 'fhvhv_2023_10.parquet', 'fhvhv_2023_11.parquet', 'fhvhv_2023_12.parquet', 'fhvhv_2024_01.parquet', 'fhvhv_2024_02.parquet', 'fhvhv_2024_03.parquet', 'fhv_2021_01.parquet', 'fhv_2021_02.parquet', 'fhv_2021_03.parquet', 'fhv_2021_04.parquet', 'fhv_2021_05.parquet', 'fhv_2021_06.parquet', 'fhv_2021_07.parquet', 'fhv_2021_08.parquet', 'fhv_2021_09.parquet', 'fhv_2021_10.parquet', 'fhv_2021_11.parquet', 'fhv_2021_12.parquet', 'fhv_2022_01.parquet', 'fhv_2022_02.parquet', 'fhv_2022_03.parquet', 'fhv_2022_04.parquet', 'fhv_2022_05.parquet', 'fhv_2022_06.parquet', 'fhv_2022_07.parquet', 'fhv_2022_08.parquet', 'fhv_2022_09.parquet', 'fhv_2022_10.parquet', 'fhv_2022_11.parquet', 'fhv_2022_12.parquet', 'fhv_2023_01.parquet', 'fhv_2023_02.parquet', 'fhv_2023_03.parquet', 'fhv_2023_04.parquet', 'fhv_2023_05.parquet', 'fhv_2023_06.parquet', 'fhv_2023_07.parquet', 'fhv_2023_08.parquet', 'fhv_2023_09.parquet', 'fhv_2023_10.parquet', 'fhv_2023_11.parquet', 'fhv_2023_12.parquet', 'fhv_2024_01.parquet', 'fhv_2024_02.parquet', 'fhv_2024_03.parquet', 'green_2021_01.parquet', 'green_2021_02.parquet', 'green_2021_03.parquet', 'green_2021_04.parquet', 'green_2021_05.parquet', 'green_2021_06.parquet', 'green_2021_07.parquet', 'green_2021_08.parquet', 'green_2021_09.parquet', 'green_2021_10.parquet', 'green_2021_11.parquet', 'green_2021_12.parquet', 'green_2022_01.parquet', 'green_2022_02.parquet', 'green_2022_03.parquet', 'green_2022_04.parquet', 'green_2022_05.parquet', 'green_2022_06.parquet', 'green_2022_07.parquet', 'green_2022_08.parquet', 'green_2022_09.parquet', 'green_2022_10.parquet', 'green_2022_11.parquet', 'green_2022_12.parquet', 'green_2023_01.parquet', 'green_2023_02.parquet', 'green_2023_03.parquet', 'green_2023_04.parquet', 'green_2023_05.parquet', 'green_2023_06.parquet', 'green_2023_07.parquet', 'green_2023_08.parquet', 'green_2023_09.parquet', 'green_2023_10.parquet', 'green_2023_11.parquet', 'green_2023_12.parquet', 'green_2024_01.parquet', 'green_2024_02.parquet', 'green_2024_03.parquet', 'yellow_2021_01.parquet', 'yellow_2021_01_cleaned.parquet', 'yellow_2021_02.parquet', 'yellow_2021_02_cleaned.parquet', 'yellow_2021_03.parquet', 'yellow_2021_03_cleaned.parquet', 'yellow_2021_04.parquet', 'yellow_2021_04_cleaned.parquet', 'yellow_2021_05.parquet', 'yellow_2021_05_cleaned.parquet', 'yellow_2021_06.parquet', 'yellow_2021_06_cleaned.parquet', 'yellow_2021_07.parquet', 'yellow_2021_07_cleaned.parquet', 'yellow_2021_08.parquet', 'yellow_2021_08_cleaned.parquet', 'yellow_2021_09.parquet', 'yellow_2021_09_cleaned.parquet', 'yellow_2021_10.parquet', 'yellow_2021_10_cleaned.parquet', 'yellow_2021_11.parquet', 'yellow_2021_11_cleaned.parquet', 'yellow_2021_12.parquet', 'yellow_2021_12_cleaned.parquet', 'yellow_2022_01.parquet', 'yellow_2022_01_cleaned.parquet', 'yellow_2022_02.parquet', 'yellow_2022_02_cleaned.parquet', 'yellow_2022_03.parquet', 'yellow_2022_03_cleaned.parquet', 'yellow_2022_04.parquet', 'yellow_2022_04_cleaned.parquet', 'yellow_2022_05.parquet', 'yellow_2022_05_cleaned.parquet', 'yellow_2022_06.parquet', 'yellow_2022_06_cleaned.parquet', 'yellow_2022_07.parquet', 'yellow_2022_07_cleaned.parquet', 'yellow_2022_08.parquet', 'yellow_2022_08_cleaned.parquet', 'yellow_2022_09.parquet', 'yellow_2022_09_cleaned.parquet', 'yellow_2022_10.parquet', 'yellow_2022_10_cleaned.parquet', 'yellow_2022_11.parquet', 'yellow_2022_11_cleaned.parquet', 'yellow_2022_12.parquet', 'yellow_2022_12_cleaned.parquet', 'yellow_2023_01.parquet', 'yellow_2023_01_cleaned.parquet', 'yellow_2023_02.parquet', 'yellow_2023_02_cleaned.parquet', 'yellow_2023_03.parquet', 'yellow_2023_03_cleaned.parquet', 'yellow_2023_04.parquet', 'yellow_2023_04_cleaned.parquet', 'yellow_2023_05.parquet', 'yellow_2023_05_cleaned.parquet', 'yellow_2023_06.parquet', 'yellow_2023_06_cleaned.parquet', 'yellow_2023_07.parquet', 'yellow_2023_07_cleaned.parquet', 'yellow_2023_08.parquet', 'yellow_2023_08_cleaned.parquet', 'yellow_2023_09.parquet', 'yellow_2023_09_cleaned.parquet', 'yellow_2023_10.parquet', 'yellow_2023_10_cleaned.parquet', 'yellow_2023_11.parquet', 'yellow_2023_11_cleaned.parquet', 'yellow_2023_12.parquet', 'yellow_2023_12_cleaned.parquet', 'yellow_2024_01.parquet', 'yellow_2024_01_cleaned.parquet', 'yellow_2024_02.parquet', 'yellow_2024_02_cleaned.parquet', 'yellow_2024_03.parquet', 'yellow_2024_03_cleaned.parquet', 'yellow_final_cleaned.parquet']\n"
     ]
    }
   ],
   "source": [
    "data_dir = os.path.join(os.getcwd(), \"..\", \"Datasets\", \"taxi_parquets\")\n",
    "print(f\"Data directory: {data_dir}\")\n",
    "\n",
    "# Check if the directory exists\n",
    "if not os.path.exists(data_dir):\n",
    "    print(f\"Directory {data_dir} does not exist\")\n",
    "else:\n",
    "    # List all files in the directory to check for existence and naming\n",
    "    all_files_in_dir = os.listdir(data_dir)\n",
    "    print(f\"Files in directory {data_dir}: {all_files_in_dir}\")\n",
    "\n",
    "all_files = []\n"
   ]
  },
  {
   "cell_type": "code",
   "execution_count": 101,
   "metadata": {},
   "outputs": [
    {
     "name": "stdout",
     "output_type": "stream",
     "text": [
      "Searching for files with pattern: c:\\Users\\35385\\Desktop\\CS_Summer_2024\\Shared_GH\\New-York-App\\data-analytics\\cleaning\\..\\Datasets\\taxi_parquets\\green_2021_01*.parquet\n",
      "Files found for pattern c:\\Users\\35385\\Desktop\\CS_Summer_2024\\Shared_GH\\New-York-App\\data-analytics\\cleaning\\..\\Datasets\\taxi_parquets\\green_2021_01*.parquet: ['c:\\\\Users\\\\35385\\\\Desktop\\\\CS_Summer_2024\\\\Shared_GH\\\\New-York-App\\\\data-analytics\\\\cleaning\\\\..\\\\Datasets\\\\taxi_parquets\\\\green_2021_01.parquet']\n",
      "Searching for files with pattern: c:\\Users\\35385\\Desktop\\CS_Summer_2024\\Shared_GH\\New-York-App\\data-analytics\\cleaning\\..\\Datasets\\taxi_parquets\\green_2021_02*.parquet\n",
      "Files found for pattern c:\\Users\\35385\\Desktop\\CS_Summer_2024\\Shared_GH\\New-York-App\\data-analytics\\cleaning\\..\\Datasets\\taxi_parquets\\green_2021_02*.parquet: ['c:\\\\Users\\\\35385\\\\Desktop\\\\CS_Summer_2024\\\\Shared_GH\\\\New-York-App\\\\data-analytics\\\\cleaning\\\\..\\\\Datasets\\\\taxi_parquets\\\\green_2021_02.parquet']\n",
      "Searching for files with pattern: c:\\Users\\35385\\Desktop\\CS_Summer_2024\\Shared_GH\\New-York-App\\data-analytics\\cleaning\\..\\Datasets\\taxi_parquets\\green_2021_03*.parquet\n",
      "Files found for pattern c:\\Users\\35385\\Desktop\\CS_Summer_2024\\Shared_GH\\New-York-App\\data-analytics\\cleaning\\..\\Datasets\\taxi_parquets\\green_2021_03*.parquet: ['c:\\\\Users\\\\35385\\\\Desktop\\\\CS_Summer_2024\\\\Shared_GH\\\\New-York-App\\\\data-analytics\\\\cleaning\\\\..\\\\Datasets\\\\taxi_parquets\\\\green_2021_03.parquet']\n",
      "Searching for files with pattern: c:\\Users\\35385\\Desktop\\CS_Summer_2024\\Shared_GH\\New-York-App\\data-analytics\\cleaning\\..\\Datasets\\taxi_parquets\\green_2021_04*.parquet\n",
      "Files found for pattern c:\\Users\\35385\\Desktop\\CS_Summer_2024\\Shared_GH\\New-York-App\\data-analytics\\cleaning\\..\\Datasets\\taxi_parquets\\green_2021_04*.parquet: ['c:\\\\Users\\\\35385\\\\Desktop\\\\CS_Summer_2024\\\\Shared_GH\\\\New-York-App\\\\data-analytics\\\\cleaning\\\\..\\\\Datasets\\\\taxi_parquets\\\\green_2021_04.parquet']\n",
      "Searching for files with pattern: c:\\Users\\35385\\Desktop\\CS_Summer_2024\\Shared_GH\\New-York-App\\data-analytics\\cleaning\\..\\Datasets\\taxi_parquets\\green_2021_05*.parquet\n",
      "Files found for pattern c:\\Users\\35385\\Desktop\\CS_Summer_2024\\Shared_GH\\New-York-App\\data-analytics\\cleaning\\..\\Datasets\\taxi_parquets\\green_2021_05*.parquet: ['c:\\\\Users\\\\35385\\\\Desktop\\\\CS_Summer_2024\\\\Shared_GH\\\\New-York-App\\\\data-analytics\\\\cleaning\\\\..\\\\Datasets\\\\taxi_parquets\\\\green_2021_05.parquet']\n",
      "Searching for files with pattern: c:\\Users\\35385\\Desktop\\CS_Summer_2024\\Shared_GH\\New-York-App\\data-analytics\\cleaning\\..\\Datasets\\taxi_parquets\\green_2021_06*.parquet\n",
      "Files found for pattern c:\\Users\\35385\\Desktop\\CS_Summer_2024\\Shared_GH\\New-York-App\\data-analytics\\cleaning\\..\\Datasets\\taxi_parquets\\green_2021_06*.parquet: ['c:\\\\Users\\\\35385\\\\Desktop\\\\CS_Summer_2024\\\\Shared_GH\\\\New-York-App\\\\data-analytics\\\\cleaning\\\\..\\\\Datasets\\\\taxi_parquets\\\\green_2021_06.parquet']\n",
      "Searching for files with pattern: c:\\Users\\35385\\Desktop\\CS_Summer_2024\\Shared_GH\\New-York-App\\data-analytics\\cleaning\\..\\Datasets\\taxi_parquets\\green_2021_07*.parquet\n",
      "Files found for pattern c:\\Users\\35385\\Desktop\\CS_Summer_2024\\Shared_GH\\New-York-App\\data-analytics\\cleaning\\..\\Datasets\\taxi_parquets\\green_2021_07*.parquet: ['c:\\\\Users\\\\35385\\\\Desktop\\\\CS_Summer_2024\\\\Shared_GH\\\\New-York-App\\\\data-analytics\\\\cleaning\\\\..\\\\Datasets\\\\taxi_parquets\\\\green_2021_07.parquet']\n",
      "Searching for files with pattern: c:\\Users\\35385\\Desktop\\CS_Summer_2024\\Shared_GH\\New-York-App\\data-analytics\\cleaning\\..\\Datasets\\taxi_parquets\\green_2021_08*.parquet\n",
      "Files found for pattern c:\\Users\\35385\\Desktop\\CS_Summer_2024\\Shared_GH\\New-York-App\\data-analytics\\cleaning\\..\\Datasets\\taxi_parquets\\green_2021_08*.parquet: ['c:\\\\Users\\\\35385\\\\Desktop\\\\CS_Summer_2024\\\\Shared_GH\\\\New-York-App\\\\data-analytics\\\\cleaning\\\\..\\\\Datasets\\\\taxi_parquets\\\\green_2021_08.parquet']\n",
      "Searching for files with pattern: c:\\Users\\35385\\Desktop\\CS_Summer_2024\\Shared_GH\\New-York-App\\data-analytics\\cleaning\\..\\Datasets\\taxi_parquets\\green_2021_09*.parquet\n",
      "Files found for pattern c:\\Users\\35385\\Desktop\\CS_Summer_2024\\Shared_GH\\New-York-App\\data-analytics\\cleaning\\..\\Datasets\\taxi_parquets\\green_2021_09*.parquet: ['c:\\\\Users\\\\35385\\\\Desktop\\\\CS_Summer_2024\\\\Shared_GH\\\\New-York-App\\\\data-analytics\\\\cleaning\\\\..\\\\Datasets\\\\taxi_parquets\\\\green_2021_09.parquet']\n",
      "Searching for files with pattern: c:\\Users\\35385\\Desktop\\CS_Summer_2024\\Shared_GH\\New-York-App\\data-analytics\\cleaning\\..\\Datasets\\taxi_parquets\\green_2021_10*.parquet\n",
      "Files found for pattern c:\\Users\\35385\\Desktop\\CS_Summer_2024\\Shared_GH\\New-York-App\\data-analytics\\cleaning\\..\\Datasets\\taxi_parquets\\green_2021_10*.parquet: ['c:\\\\Users\\\\35385\\\\Desktop\\\\CS_Summer_2024\\\\Shared_GH\\\\New-York-App\\\\data-analytics\\\\cleaning\\\\..\\\\Datasets\\\\taxi_parquets\\\\green_2021_10.parquet']\n",
      "Searching for files with pattern: c:\\Users\\35385\\Desktop\\CS_Summer_2024\\Shared_GH\\New-York-App\\data-analytics\\cleaning\\..\\Datasets\\taxi_parquets\\green_2021_11*.parquet\n",
      "Files found for pattern c:\\Users\\35385\\Desktop\\CS_Summer_2024\\Shared_GH\\New-York-App\\data-analytics\\cleaning\\..\\Datasets\\taxi_parquets\\green_2021_11*.parquet: ['c:\\\\Users\\\\35385\\\\Desktop\\\\CS_Summer_2024\\\\Shared_GH\\\\New-York-App\\\\data-analytics\\\\cleaning\\\\..\\\\Datasets\\\\taxi_parquets\\\\green_2021_11.parquet']\n",
      "Searching for files with pattern: c:\\Users\\35385\\Desktop\\CS_Summer_2024\\Shared_GH\\New-York-App\\data-analytics\\cleaning\\..\\Datasets\\taxi_parquets\\green_2021_12*.parquet\n",
      "Files found for pattern c:\\Users\\35385\\Desktop\\CS_Summer_2024\\Shared_GH\\New-York-App\\data-analytics\\cleaning\\..\\Datasets\\taxi_parquets\\green_2021_12*.parquet: ['c:\\\\Users\\\\35385\\\\Desktop\\\\CS_Summer_2024\\\\Shared_GH\\\\New-York-App\\\\data-analytics\\\\cleaning\\\\..\\\\Datasets\\\\taxi_parquets\\\\green_2021_12.parquet']\n",
      "Searching for files with pattern: c:\\Users\\35385\\Desktop\\CS_Summer_2024\\Shared_GH\\New-York-App\\data-analytics\\cleaning\\..\\Datasets\\taxi_parquets\\green_2022_01*.parquet\n",
      "Files found for pattern c:\\Users\\35385\\Desktop\\CS_Summer_2024\\Shared_GH\\New-York-App\\data-analytics\\cleaning\\..\\Datasets\\taxi_parquets\\green_2022_01*.parquet: ['c:\\\\Users\\\\35385\\\\Desktop\\\\CS_Summer_2024\\\\Shared_GH\\\\New-York-App\\\\data-analytics\\\\cleaning\\\\..\\\\Datasets\\\\taxi_parquets\\\\green_2022_01.parquet']\n",
      "Searching for files with pattern: c:\\Users\\35385\\Desktop\\CS_Summer_2024\\Shared_GH\\New-York-App\\data-analytics\\cleaning\\..\\Datasets\\taxi_parquets\\green_2022_02*.parquet\n",
      "Files found for pattern c:\\Users\\35385\\Desktop\\CS_Summer_2024\\Shared_GH\\New-York-App\\data-analytics\\cleaning\\..\\Datasets\\taxi_parquets\\green_2022_02*.parquet: ['c:\\\\Users\\\\35385\\\\Desktop\\\\CS_Summer_2024\\\\Shared_GH\\\\New-York-App\\\\data-analytics\\\\cleaning\\\\..\\\\Datasets\\\\taxi_parquets\\\\green_2022_02.parquet']\n",
      "Searching for files with pattern: c:\\Users\\35385\\Desktop\\CS_Summer_2024\\Shared_GH\\New-York-App\\data-analytics\\cleaning\\..\\Datasets\\taxi_parquets\\green_2022_03*.parquet\n",
      "Files found for pattern c:\\Users\\35385\\Desktop\\CS_Summer_2024\\Shared_GH\\New-York-App\\data-analytics\\cleaning\\..\\Datasets\\taxi_parquets\\green_2022_03*.parquet: ['c:\\\\Users\\\\35385\\\\Desktop\\\\CS_Summer_2024\\\\Shared_GH\\\\New-York-App\\\\data-analytics\\\\cleaning\\\\..\\\\Datasets\\\\taxi_parquets\\\\green_2022_03.parquet']\n",
      "Searching for files with pattern: c:\\Users\\35385\\Desktop\\CS_Summer_2024\\Shared_GH\\New-York-App\\data-analytics\\cleaning\\..\\Datasets\\taxi_parquets\\green_2022_04*.parquet\n",
      "Files found for pattern c:\\Users\\35385\\Desktop\\CS_Summer_2024\\Shared_GH\\New-York-App\\data-analytics\\cleaning\\..\\Datasets\\taxi_parquets\\green_2022_04*.parquet: ['c:\\\\Users\\\\35385\\\\Desktop\\\\CS_Summer_2024\\\\Shared_GH\\\\New-York-App\\\\data-analytics\\\\cleaning\\\\..\\\\Datasets\\\\taxi_parquets\\\\green_2022_04.parquet']\n",
      "Searching for files with pattern: c:\\Users\\35385\\Desktop\\CS_Summer_2024\\Shared_GH\\New-York-App\\data-analytics\\cleaning\\..\\Datasets\\taxi_parquets\\green_2022_05*.parquet\n",
      "Files found for pattern c:\\Users\\35385\\Desktop\\CS_Summer_2024\\Shared_GH\\New-York-App\\data-analytics\\cleaning\\..\\Datasets\\taxi_parquets\\green_2022_05*.parquet: ['c:\\\\Users\\\\35385\\\\Desktop\\\\CS_Summer_2024\\\\Shared_GH\\\\New-York-App\\\\data-analytics\\\\cleaning\\\\..\\\\Datasets\\\\taxi_parquets\\\\green_2022_05.parquet']\n",
      "Searching for files with pattern: c:\\Users\\35385\\Desktop\\CS_Summer_2024\\Shared_GH\\New-York-App\\data-analytics\\cleaning\\..\\Datasets\\taxi_parquets\\green_2022_06*.parquet\n",
      "Files found for pattern c:\\Users\\35385\\Desktop\\CS_Summer_2024\\Shared_GH\\New-York-App\\data-analytics\\cleaning\\..\\Datasets\\taxi_parquets\\green_2022_06*.parquet: ['c:\\\\Users\\\\35385\\\\Desktop\\\\CS_Summer_2024\\\\Shared_GH\\\\New-York-App\\\\data-analytics\\\\cleaning\\\\..\\\\Datasets\\\\taxi_parquets\\\\green_2022_06.parquet']\n",
      "Searching for files with pattern: c:\\Users\\35385\\Desktop\\CS_Summer_2024\\Shared_GH\\New-York-App\\data-analytics\\cleaning\\..\\Datasets\\taxi_parquets\\green_2022_07*.parquet\n",
      "Files found for pattern c:\\Users\\35385\\Desktop\\CS_Summer_2024\\Shared_GH\\New-York-App\\data-analytics\\cleaning\\..\\Datasets\\taxi_parquets\\green_2022_07*.parquet: ['c:\\\\Users\\\\35385\\\\Desktop\\\\CS_Summer_2024\\\\Shared_GH\\\\New-York-App\\\\data-analytics\\\\cleaning\\\\..\\\\Datasets\\\\taxi_parquets\\\\green_2022_07.parquet']\n",
      "Searching for files with pattern: c:\\Users\\35385\\Desktop\\CS_Summer_2024\\Shared_GH\\New-York-App\\data-analytics\\cleaning\\..\\Datasets\\taxi_parquets\\green_2022_08*.parquet\n",
      "Files found for pattern c:\\Users\\35385\\Desktop\\CS_Summer_2024\\Shared_GH\\New-York-App\\data-analytics\\cleaning\\..\\Datasets\\taxi_parquets\\green_2022_08*.parquet: ['c:\\\\Users\\\\35385\\\\Desktop\\\\CS_Summer_2024\\\\Shared_GH\\\\New-York-App\\\\data-analytics\\\\cleaning\\\\..\\\\Datasets\\\\taxi_parquets\\\\green_2022_08.parquet']\n",
      "Searching for files with pattern: c:\\Users\\35385\\Desktop\\CS_Summer_2024\\Shared_GH\\New-York-App\\data-analytics\\cleaning\\..\\Datasets\\taxi_parquets\\green_2022_09*.parquet\n",
      "Files found for pattern c:\\Users\\35385\\Desktop\\CS_Summer_2024\\Shared_GH\\New-York-App\\data-analytics\\cleaning\\..\\Datasets\\taxi_parquets\\green_2022_09*.parquet: ['c:\\\\Users\\\\35385\\\\Desktop\\\\CS_Summer_2024\\\\Shared_GH\\\\New-York-App\\\\data-analytics\\\\cleaning\\\\..\\\\Datasets\\\\taxi_parquets\\\\green_2022_09.parquet']\n",
      "Searching for files with pattern: c:\\Users\\35385\\Desktop\\CS_Summer_2024\\Shared_GH\\New-York-App\\data-analytics\\cleaning\\..\\Datasets\\taxi_parquets\\green_2022_10*.parquet\n",
      "Files found for pattern c:\\Users\\35385\\Desktop\\CS_Summer_2024\\Shared_GH\\New-York-App\\data-analytics\\cleaning\\..\\Datasets\\taxi_parquets\\green_2022_10*.parquet: ['c:\\\\Users\\\\35385\\\\Desktop\\\\CS_Summer_2024\\\\Shared_GH\\\\New-York-App\\\\data-analytics\\\\cleaning\\\\..\\\\Datasets\\\\taxi_parquets\\\\green_2022_10.parquet']\n",
      "Searching for files with pattern: c:\\Users\\35385\\Desktop\\CS_Summer_2024\\Shared_GH\\New-York-App\\data-analytics\\cleaning\\..\\Datasets\\taxi_parquets\\green_2022_11*.parquet\n",
      "Files found for pattern c:\\Users\\35385\\Desktop\\CS_Summer_2024\\Shared_GH\\New-York-App\\data-analytics\\cleaning\\..\\Datasets\\taxi_parquets\\green_2022_11*.parquet: ['c:\\\\Users\\\\35385\\\\Desktop\\\\CS_Summer_2024\\\\Shared_GH\\\\New-York-App\\\\data-analytics\\\\cleaning\\\\..\\\\Datasets\\\\taxi_parquets\\\\green_2022_11.parquet']\n",
      "Searching for files with pattern: c:\\Users\\35385\\Desktop\\CS_Summer_2024\\Shared_GH\\New-York-App\\data-analytics\\cleaning\\..\\Datasets\\taxi_parquets\\green_2022_12*.parquet\n",
      "Files found for pattern c:\\Users\\35385\\Desktop\\CS_Summer_2024\\Shared_GH\\New-York-App\\data-analytics\\cleaning\\..\\Datasets\\taxi_parquets\\green_2022_12*.parquet: ['c:\\\\Users\\\\35385\\\\Desktop\\\\CS_Summer_2024\\\\Shared_GH\\\\New-York-App\\\\data-analytics\\\\cleaning\\\\..\\\\Datasets\\\\taxi_parquets\\\\green_2022_12.parquet']\n",
      "Searching for files with pattern: c:\\Users\\35385\\Desktop\\CS_Summer_2024\\Shared_GH\\New-York-App\\data-analytics\\cleaning\\..\\Datasets\\taxi_parquets\\green_2023_01*.parquet\n",
      "Files found for pattern c:\\Users\\35385\\Desktop\\CS_Summer_2024\\Shared_GH\\New-York-App\\data-analytics\\cleaning\\..\\Datasets\\taxi_parquets\\green_2023_01*.parquet: ['c:\\\\Users\\\\35385\\\\Desktop\\\\CS_Summer_2024\\\\Shared_GH\\\\New-York-App\\\\data-analytics\\\\cleaning\\\\..\\\\Datasets\\\\taxi_parquets\\\\green_2023_01.parquet']\n",
      "Searching for files with pattern: c:\\Users\\35385\\Desktop\\CS_Summer_2024\\Shared_GH\\New-York-App\\data-analytics\\cleaning\\..\\Datasets\\taxi_parquets\\green_2023_02*.parquet\n",
      "Files found for pattern c:\\Users\\35385\\Desktop\\CS_Summer_2024\\Shared_GH\\New-York-App\\data-analytics\\cleaning\\..\\Datasets\\taxi_parquets\\green_2023_02*.parquet: ['c:\\\\Users\\\\35385\\\\Desktop\\\\CS_Summer_2024\\\\Shared_GH\\\\New-York-App\\\\data-analytics\\\\cleaning\\\\..\\\\Datasets\\\\taxi_parquets\\\\green_2023_02.parquet']\n",
      "Searching for files with pattern: c:\\Users\\35385\\Desktop\\CS_Summer_2024\\Shared_GH\\New-York-App\\data-analytics\\cleaning\\..\\Datasets\\taxi_parquets\\green_2023_03*.parquet\n",
      "Files found for pattern c:\\Users\\35385\\Desktop\\CS_Summer_2024\\Shared_GH\\New-York-App\\data-analytics\\cleaning\\..\\Datasets\\taxi_parquets\\green_2023_03*.parquet: ['c:\\\\Users\\\\35385\\\\Desktop\\\\CS_Summer_2024\\\\Shared_GH\\\\New-York-App\\\\data-analytics\\\\cleaning\\\\..\\\\Datasets\\\\taxi_parquets\\\\green_2023_03.parquet']\n",
      "Searching for files with pattern: c:\\Users\\35385\\Desktop\\CS_Summer_2024\\Shared_GH\\New-York-App\\data-analytics\\cleaning\\..\\Datasets\\taxi_parquets\\green_2023_04*.parquet\n",
      "Files found for pattern c:\\Users\\35385\\Desktop\\CS_Summer_2024\\Shared_GH\\New-York-App\\data-analytics\\cleaning\\..\\Datasets\\taxi_parquets\\green_2023_04*.parquet: ['c:\\\\Users\\\\35385\\\\Desktop\\\\CS_Summer_2024\\\\Shared_GH\\\\New-York-App\\\\data-analytics\\\\cleaning\\\\..\\\\Datasets\\\\taxi_parquets\\\\green_2023_04.parquet']\n",
      "Searching for files with pattern: c:\\Users\\35385\\Desktop\\CS_Summer_2024\\Shared_GH\\New-York-App\\data-analytics\\cleaning\\..\\Datasets\\taxi_parquets\\green_2023_05*.parquet\n",
      "Files found for pattern c:\\Users\\35385\\Desktop\\CS_Summer_2024\\Shared_GH\\New-York-App\\data-analytics\\cleaning\\..\\Datasets\\taxi_parquets\\green_2023_05*.parquet: ['c:\\\\Users\\\\35385\\\\Desktop\\\\CS_Summer_2024\\\\Shared_GH\\\\New-York-App\\\\data-analytics\\\\cleaning\\\\..\\\\Datasets\\\\taxi_parquets\\\\green_2023_05.parquet']\n",
      "Searching for files with pattern: c:\\Users\\35385\\Desktop\\CS_Summer_2024\\Shared_GH\\New-York-App\\data-analytics\\cleaning\\..\\Datasets\\taxi_parquets\\green_2023_06*.parquet\n",
      "Files found for pattern c:\\Users\\35385\\Desktop\\CS_Summer_2024\\Shared_GH\\New-York-App\\data-analytics\\cleaning\\..\\Datasets\\taxi_parquets\\green_2023_06*.parquet: ['c:\\\\Users\\\\35385\\\\Desktop\\\\CS_Summer_2024\\\\Shared_GH\\\\New-York-App\\\\data-analytics\\\\cleaning\\\\..\\\\Datasets\\\\taxi_parquets\\\\green_2023_06.parquet']\n",
      "Searching for files with pattern: c:\\Users\\35385\\Desktop\\CS_Summer_2024\\Shared_GH\\New-York-App\\data-analytics\\cleaning\\..\\Datasets\\taxi_parquets\\green_2023_07*.parquet\n",
      "Files found for pattern c:\\Users\\35385\\Desktop\\CS_Summer_2024\\Shared_GH\\New-York-App\\data-analytics\\cleaning\\..\\Datasets\\taxi_parquets\\green_2023_07*.parquet: ['c:\\\\Users\\\\35385\\\\Desktop\\\\CS_Summer_2024\\\\Shared_GH\\\\New-York-App\\\\data-analytics\\\\cleaning\\\\..\\\\Datasets\\\\taxi_parquets\\\\green_2023_07.parquet']\n",
      "Searching for files with pattern: c:\\Users\\35385\\Desktop\\CS_Summer_2024\\Shared_GH\\New-York-App\\data-analytics\\cleaning\\..\\Datasets\\taxi_parquets\\green_2023_08*.parquet\n",
      "Files found for pattern c:\\Users\\35385\\Desktop\\CS_Summer_2024\\Shared_GH\\New-York-App\\data-analytics\\cleaning\\..\\Datasets\\taxi_parquets\\green_2023_08*.parquet: ['c:\\\\Users\\\\35385\\\\Desktop\\\\CS_Summer_2024\\\\Shared_GH\\\\New-York-App\\\\data-analytics\\\\cleaning\\\\..\\\\Datasets\\\\taxi_parquets\\\\green_2023_08.parquet']\n",
      "Searching for files with pattern: c:\\Users\\35385\\Desktop\\CS_Summer_2024\\Shared_GH\\New-York-App\\data-analytics\\cleaning\\..\\Datasets\\taxi_parquets\\green_2023_09*.parquet\n",
      "Files found for pattern c:\\Users\\35385\\Desktop\\CS_Summer_2024\\Shared_GH\\New-York-App\\data-analytics\\cleaning\\..\\Datasets\\taxi_parquets\\green_2023_09*.parquet: ['c:\\\\Users\\\\35385\\\\Desktop\\\\CS_Summer_2024\\\\Shared_GH\\\\New-York-App\\\\data-analytics\\\\cleaning\\\\..\\\\Datasets\\\\taxi_parquets\\\\green_2023_09.parquet']\n",
      "Searching for files with pattern: c:\\Users\\35385\\Desktop\\CS_Summer_2024\\Shared_GH\\New-York-App\\data-analytics\\cleaning\\..\\Datasets\\taxi_parquets\\green_2023_10*.parquet\n",
      "Files found for pattern c:\\Users\\35385\\Desktop\\CS_Summer_2024\\Shared_GH\\New-York-App\\data-analytics\\cleaning\\..\\Datasets\\taxi_parquets\\green_2023_10*.parquet: ['c:\\\\Users\\\\35385\\\\Desktop\\\\CS_Summer_2024\\\\Shared_GH\\\\New-York-App\\\\data-analytics\\\\cleaning\\\\..\\\\Datasets\\\\taxi_parquets\\\\green_2023_10.parquet']\n",
      "Searching for files with pattern: c:\\Users\\35385\\Desktop\\CS_Summer_2024\\Shared_GH\\New-York-App\\data-analytics\\cleaning\\..\\Datasets\\taxi_parquets\\green_2023_11*.parquet\n",
      "Files found for pattern c:\\Users\\35385\\Desktop\\CS_Summer_2024\\Shared_GH\\New-York-App\\data-analytics\\cleaning\\..\\Datasets\\taxi_parquets\\green_2023_11*.parquet: ['c:\\\\Users\\\\35385\\\\Desktop\\\\CS_Summer_2024\\\\Shared_GH\\\\New-York-App\\\\data-analytics\\\\cleaning\\\\..\\\\Datasets\\\\taxi_parquets\\\\green_2023_11.parquet']\n",
      "Searching for files with pattern: c:\\Users\\35385\\Desktop\\CS_Summer_2024\\Shared_GH\\New-York-App\\data-analytics\\cleaning\\..\\Datasets\\taxi_parquets\\green_2023_12*.parquet\n",
      "Files found for pattern c:\\Users\\35385\\Desktop\\CS_Summer_2024\\Shared_GH\\New-York-App\\data-analytics\\cleaning\\..\\Datasets\\taxi_parquets\\green_2023_12*.parquet: ['c:\\\\Users\\\\35385\\\\Desktop\\\\CS_Summer_2024\\\\Shared_GH\\\\New-York-App\\\\data-analytics\\\\cleaning\\\\..\\\\Datasets\\\\taxi_parquets\\\\green_2023_12.parquet']\n",
      "Searching for files with pattern: c:\\Users\\35385\\Desktop\\CS_Summer_2024\\Shared_GH\\New-York-App\\data-analytics\\cleaning\\..\\Datasets\\taxi_parquets\\green_2024_01*.parquet\n",
      "Files found for pattern c:\\Users\\35385\\Desktop\\CS_Summer_2024\\Shared_GH\\New-York-App\\data-analytics\\cleaning\\..\\Datasets\\taxi_parquets\\green_2024_01*.parquet: ['c:\\\\Users\\\\35385\\\\Desktop\\\\CS_Summer_2024\\\\Shared_GH\\\\New-York-App\\\\data-analytics\\\\cleaning\\\\..\\\\Datasets\\\\taxi_parquets\\\\green_2024_01.parquet']\n",
      "Searching for files with pattern: c:\\Users\\35385\\Desktop\\CS_Summer_2024\\Shared_GH\\New-York-App\\data-analytics\\cleaning\\..\\Datasets\\taxi_parquets\\green_2024_02*.parquet\n",
      "Files found for pattern c:\\Users\\35385\\Desktop\\CS_Summer_2024\\Shared_GH\\New-York-App\\data-analytics\\cleaning\\..\\Datasets\\taxi_parquets\\green_2024_02*.parquet: ['c:\\\\Users\\\\35385\\\\Desktop\\\\CS_Summer_2024\\\\Shared_GH\\\\New-York-App\\\\data-analytics\\\\cleaning\\\\..\\\\Datasets\\\\taxi_parquets\\\\green_2024_02.parquet']\n",
      "Searching for files with pattern: c:\\Users\\35385\\Desktop\\CS_Summer_2024\\Shared_GH\\New-York-App\\data-analytics\\cleaning\\..\\Datasets\\taxi_parquets\\green_2024_03*.parquet\n",
      "Files found for pattern c:\\Users\\35385\\Desktop\\CS_Summer_2024\\Shared_GH\\New-York-App\\data-analytics\\cleaning\\..\\Datasets\\taxi_parquets\\green_2024_03*.parquet: ['c:\\\\Users\\\\35385\\\\Desktop\\\\CS_Summer_2024\\\\Shared_GH\\\\New-York-App\\\\data-analytics\\\\cleaning\\\\..\\\\Datasets\\\\taxi_parquets\\\\green_2024_03.parquet']\n",
      "All files found: ['c:\\\\Users\\\\35385\\\\Desktop\\\\CS_Summer_2024\\\\Shared_GH\\\\New-York-App\\\\data-analytics\\\\cleaning\\\\..\\\\Datasets\\\\taxi_parquets\\\\green_2021_01.parquet', 'c:\\\\Users\\\\35385\\\\Desktop\\\\CS_Summer_2024\\\\Shared_GH\\\\New-York-App\\\\data-analytics\\\\cleaning\\\\..\\\\Datasets\\\\taxi_parquets\\\\green_2021_02.parquet', 'c:\\\\Users\\\\35385\\\\Desktop\\\\CS_Summer_2024\\\\Shared_GH\\\\New-York-App\\\\data-analytics\\\\cleaning\\\\..\\\\Datasets\\\\taxi_parquets\\\\green_2021_03.parquet', 'c:\\\\Users\\\\35385\\\\Desktop\\\\CS_Summer_2024\\\\Shared_GH\\\\New-York-App\\\\data-analytics\\\\cleaning\\\\..\\\\Datasets\\\\taxi_parquets\\\\green_2021_04.parquet', 'c:\\\\Users\\\\35385\\\\Desktop\\\\CS_Summer_2024\\\\Shared_GH\\\\New-York-App\\\\data-analytics\\\\cleaning\\\\..\\\\Datasets\\\\taxi_parquets\\\\green_2021_05.parquet', 'c:\\\\Users\\\\35385\\\\Desktop\\\\CS_Summer_2024\\\\Shared_GH\\\\New-York-App\\\\data-analytics\\\\cleaning\\\\..\\\\Datasets\\\\taxi_parquets\\\\green_2021_06.parquet', 'c:\\\\Users\\\\35385\\\\Desktop\\\\CS_Summer_2024\\\\Shared_GH\\\\New-York-App\\\\data-analytics\\\\cleaning\\\\..\\\\Datasets\\\\taxi_parquets\\\\green_2021_07.parquet', 'c:\\\\Users\\\\35385\\\\Desktop\\\\CS_Summer_2024\\\\Shared_GH\\\\New-York-App\\\\data-analytics\\\\cleaning\\\\..\\\\Datasets\\\\taxi_parquets\\\\green_2021_08.parquet', 'c:\\\\Users\\\\35385\\\\Desktop\\\\CS_Summer_2024\\\\Shared_GH\\\\New-York-App\\\\data-analytics\\\\cleaning\\\\..\\\\Datasets\\\\taxi_parquets\\\\green_2021_09.parquet', 'c:\\\\Users\\\\35385\\\\Desktop\\\\CS_Summer_2024\\\\Shared_GH\\\\New-York-App\\\\data-analytics\\\\cleaning\\\\..\\\\Datasets\\\\taxi_parquets\\\\green_2021_10.parquet', 'c:\\\\Users\\\\35385\\\\Desktop\\\\CS_Summer_2024\\\\Shared_GH\\\\New-York-App\\\\data-analytics\\\\cleaning\\\\..\\\\Datasets\\\\taxi_parquets\\\\green_2021_11.parquet', 'c:\\\\Users\\\\35385\\\\Desktop\\\\CS_Summer_2024\\\\Shared_GH\\\\New-York-App\\\\data-analytics\\\\cleaning\\\\..\\\\Datasets\\\\taxi_parquets\\\\green_2021_12.parquet', 'c:\\\\Users\\\\35385\\\\Desktop\\\\CS_Summer_2024\\\\Shared_GH\\\\New-York-App\\\\data-analytics\\\\cleaning\\\\..\\\\Datasets\\\\taxi_parquets\\\\green_2022_01.parquet', 'c:\\\\Users\\\\35385\\\\Desktop\\\\CS_Summer_2024\\\\Shared_GH\\\\New-York-App\\\\data-analytics\\\\cleaning\\\\..\\\\Datasets\\\\taxi_parquets\\\\green_2022_02.parquet', 'c:\\\\Users\\\\35385\\\\Desktop\\\\CS_Summer_2024\\\\Shared_GH\\\\New-York-App\\\\data-analytics\\\\cleaning\\\\..\\\\Datasets\\\\taxi_parquets\\\\green_2022_03.parquet', 'c:\\\\Users\\\\35385\\\\Desktop\\\\CS_Summer_2024\\\\Shared_GH\\\\New-York-App\\\\data-analytics\\\\cleaning\\\\..\\\\Datasets\\\\taxi_parquets\\\\green_2022_04.parquet', 'c:\\\\Users\\\\35385\\\\Desktop\\\\CS_Summer_2024\\\\Shared_GH\\\\New-York-App\\\\data-analytics\\\\cleaning\\\\..\\\\Datasets\\\\taxi_parquets\\\\green_2022_05.parquet', 'c:\\\\Users\\\\35385\\\\Desktop\\\\CS_Summer_2024\\\\Shared_GH\\\\New-York-App\\\\data-analytics\\\\cleaning\\\\..\\\\Datasets\\\\taxi_parquets\\\\green_2022_06.parquet', 'c:\\\\Users\\\\35385\\\\Desktop\\\\CS_Summer_2024\\\\Shared_GH\\\\New-York-App\\\\data-analytics\\\\cleaning\\\\..\\\\Datasets\\\\taxi_parquets\\\\green_2022_07.parquet', 'c:\\\\Users\\\\35385\\\\Desktop\\\\CS_Summer_2024\\\\Shared_GH\\\\New-York-App\\\\data-analytics\\\\cleaning\\\\..\\\\Datasets\\\\taxi_parquets\\\\green_2022_08.parquet', 'c:\\\\Users\\\\35385\\\\Desktop\\\\CS_Summer_2024\\\\Shared_GH\\\\New-York-App\\\\data-analytics\\\\cleaning\\\\..\\\\Datasets\\\\taxi_parquets\\\\green_2022_09.parquet', 'c:\\\\Users\\\\35385\\\\Desktop\\\\CS_Summer_2024\\\\Shared_GH\\\\New-York-App\\\\data-analytics\\\\cleaning\\\\..\\\\Datasets\\\\taxi_parquets\\\\green_2022_10.parquet', 'c:\\\\Users\\\\35385\\\\Desktop\\\\CS_Summer_2024\\\\Shared_GH\\\\New-York-App\\\\data-analytics\\\\cleaning\\\\..\\\\Datasets\\\\taxi_parquets\\\\green_2022_11.parquet', 'c:\\\\Users\\\\35385\\\\Desktop\\\\CS_Summer_2024\\\\Shared_GH\\\\New-York-App\\\\data-analytics\\\\cleaning\\\\..\\\\Datasets\\\\taxi_parquets\\\\green_2022_12.parquet', 'c:\\\\Users\\\\35385\\\\Desktop\\\\CS_Summer_2024\\\\Shared_GH\\\\New-York-App\\\\data-analytics\\\\cleaning\\\\..\\\\Datasets\\\\taxi_parquets\\\\green_2023_01.parquet', 'c:\\\\Users\\\\35385\\\\Desktop\\\\CS_Summer_2024\\\\Shared_GH\\\\New-York-App\\\\data-analytics\\\\cleaning\\\\..\\\\Datasets\\\\taxi_parquets\\\\green_2023_02.parquet', 'c:\\\\Users\\\\35385\\\\Desktop\\\\CS_Summer_2024\\\\Shared_GH\\\\New-York-App\\\\data-analytics\\\\cleaning\\\\..\\\\Datasets\\\\taxi_parquets\\\\green_2023_03.parquet', 'c:\\\\Users\\\\35385\\\\Desktop\\\\CS_Summer_2024\\\\Shared_GH\\\\New-York-App\\\\data-analytics\\\\cleaning\\\\..\\\\Datasets\\\\taxi_parquets\\\\green_2023_04.parquet', 'c:\\\\Users\\\\35385\\\\Desktop\\\\CS_Summer_2024\\\\Shared_GH\\\\New-York-App\\\\data-analytics\\\\cleaning\\\\..\\\\Datasets\\\\taxi_parquets\\\\green_2023_05.parquet', 'c:\\\\Users\\\\35385\\\\Desktop\\\\CS_Summer_2024\\\\Shared_GH\\\\New-York-App\\\\data-analytics\\\\cleaning\\\\..\\\\Datasets\\\\taxi_parquets\\\\green_2023_06.parquet', 'c:\\\\Users\\\\35385\\\\Desktop\\\\CS_Summer_2024\\\\Shared_GH\\\\New-York-App\\\\data-analytics\\\\cleaning\\\\..\\\\Datasets\\\\taxi_parquets\\\\green_2023_07.parquet', 'c:\\\\Users\\\\35385\\\\Desktop\\\\CS_Summer_2024\\\\Shared_GH\\\\New-York-App\\\\data-analytics\\\\cleaning\\\\..\\\\Datasets\\\\taxi_parquets\\\\green_2023_08.parquet', 'c:\\\\Users\\\\35385\\\\Desktop\\\\CS_Summer_2024\\\\Shared_GH\\\\New-York-App\\\\data-analytics\\\\cleaning\\\\..\\\\Datasets\\\\taxi_parquets\\\\green_2023_09.parquet', 'c:\\\\Users\\\\35385\\\\Desktop\\\\CS_Summer_2024\\\\Shared_GH\\\\New-York-App\\\\data-analytics\\\\cleaning\\\\..\\\\Datasets\\\\taxi_parquets\\\\green_2023_10.parquet', 'c:\\\\Users\\\\35385\\\\Desktop\\\\CS_Summer_2024\\\\Shared_GH\\\\New-York-App\\\\data-analytics\\\\cleaning\\\\..\\\\Datasets\\\\taxi_parquets\\\\green_2023_11.parquet', 'c:\\\\Users\\\\35385\\\\Desktop\\\\CS_Summer_2024\\\\Shared_GH\\\\New-York-App\\\\data-analytics\\\\cleaning\\\\..\\\\Datasets\\\\taxi_parquets\\\\green_2023_12.parquet', 'c:\\\\Users\\\\35385\\\\Desktop\\\\CS_Summer_2024\\\\Shared_GH\\\\New-York-App\\\\data-analytics\\\\cleaning\\\\..\\\\Datasets\\\\taxi_parquets\\\\green_2024_01.parquet', 'c:\\\\Users\\\\35385\\\\Desktop\\\\CS_Summer_2024\\\\Shared_GH\\\\New-York-App\\\\data-analytics\\\\cleaning\\\\..\\\\Datasets\\\\taxi_parquets\\\\green_2024_02.parquet', 'c:\\\\Users\\\\35385\\\\Desktop\\\\CS_Summer_2024\\\\Shared_GH\\\\New-York-App\\\\data-analytics\\\\cleaning\\\\..\\\\Datasets\\\\taxi_parquets\\\\green_2024_03.parquet']\n",
      "Number of files found: 39\n"
     ]
    }
   ],
   "source": [
    "for date in date_range:\n",
    "    search_pattern = os.path.join(data_dir, f\"green_{date.strftime('%Y_%m')}*.parquet\")\n",
    "    print(f\"Searching for files with pattern: {search_pattern}\")\n",
    "    files = glob.glob(search_pattern)\n",
    "    if files:\n",
    "        print(f\"Files found for pattern {search_pattern}: {files}\")\n",
    "    all_files.extend(files)  # Add the found files to the list\n",
    "\n",
    "print(\"All files found:\", all_files)\n",
    "print(\"Number of files found:\", len(all_files))"
   ]
  },
  {
   "cell_type": "code",
   "execution_count": 102,
   "metadata": {},
   "outputs": [],
   "source": [
    "def renaming_green_to_standard(df):\n",
    "    \"\"\" \n",
    "    Functions for renaming the columns of a dataset or list of datasets to standard names, which will ease the cleaning process\n",
    "    \"\"\"\n",
    "    if isinstance(df, pd.DataFrame):\n",
    "        df.rename(columns={\n",
    "            'lpep_pickup_datetime': 'pickup_datetime', \n",
    "            'lpep_dropoff_datetime': 'dropoff_datetime', \n",
    "            'PULocationID': 'pickup_zone', \n",
    "            'DOLocationID': 'dropoff_zone'\n",
    "            }, inplace=True)\n",
    "    else:\n",
    "        print(\"Warning: The list contains non-DataFrame elements renaming_green_to_standard\")"
   ]
  },
  {
   "cell_type": "code",
   "execution_count": 103,
   "metadata": {},
   "outputs": [],
   "source": [
    "def drop_green_invalid_rows(df, manhattan_zones):\n",
    "\n",
    "    if isinstance(df, pd.DataFrame):\n",
    "        # Drop duplicate rows\n",
    "        df = df.drop_duplicates()\n",
    "            \n",
    "        # Drop \"ehail_fee\" column due to missing values\n",
    "        if \"ehail_fee\" in df.columns:\n",
    "            df = df.drop(columns=[\"ehail_fee\"])\n",
    "            \n",
    "        # Drop rows where passenger_count == 0 or >= 6\n",
    "        df = df[(df[\"passenger_count\"] > 0) & (df[\"passenger_count\"] < 6)]\n",
    "            \n",
    "        # Drop rows where fare_amount or total_amount <= 0\n",
    "        df = df[(df[\"fare_amount\"] > 0) & (df[\"total_amount\"] > 0)]\n",
    "            \n",
    "        # Drop rows where extra, mta_tax, tip_amount, tolls_amount, improvement_surcharge, or congestion_surcharge < 0\n",
    "        df = df[(df[\"extra\"] >= 0) & (df[\"mta_tax\"] >= 0) & (df[\"tip_amount\"] >= 0) & \n",
    "                (df[\"tolls_amount\"] >= 0) & (df[\"improvement_surcharge\"] >= 0) & \n",
    "                (df[\"congestion_surcharge\"] >= 0)]\n",
    "            \n",
    "        # Drop rows where pickup_datetime == dropoff_datetime\n",
    "        df = df[df[\"pickup_datetime\"] != df[\"dropoff_datetime\"]]\n",
    "            \n",
    "        # Drop rows where trip_distance <= 0\n",
    "        df = df[df[\"trip_distance\"] > 0]\n",
    "            \n",
    "        # Drop rows where RateCodeID != 1-6\n",
    "        df = df[df[\"RatecodeID\"].isin([1, 2, 3, 4, 5, 6])]\n",
    "            \n",
    "        # Drop rows where payment_type == 4\n",
    "        df = df[df[\"payment_type\"] != 4]\n",
    "            \n",
    "        # Drop rows where both pickup_zone and dropoff_zone are not Manhattan zones\n",
    "        df = df[df[\"pickup_zone\"].isin(manhattan_zones) | df[\"dropoff_zone\"].isin(manhattan_zones)]\n",
    "            \n",
    "    else:\n",
    "        print(\"Warning: Input is not a DataFrame drop_green_invalid_rows\")\n",
    "\n",
    "    return df"
   ]
  },
  {
   "cell_type": "code",
   "execution_count": 104,
   "metadata": {},
   "outputs": [],
   "source": [
    "def drop_green_columns(df):\n",
    "    columns_to_drop = [\"VendorID\", \"trip_distance\", \"RatecodeID\", \"store_and_fwd_flag\", \"payment_type\", \n",
    "                       \"fare_amount\", \"extra\", \"mta_tax\", \"improvement_surcharge\", \"tip_amount\", \n",
    "                       \"tolls_amount\", \"total_amount\", \"congestion_surcharge\", \"trip_type\"]\n",
    "    \n",
    "    # Drop only the columns that exist in the DataFrame\n",
    "    existing_columns_to_drop = [col for col in columns_to_drop if col in df.columns]\n",
    "    df.drop(columns=existing_columns_to_drop, inplace=True)\n",
    "\n",
    "    return df"
   ]
  },
  {
   "cell_type": "code",
   "execution_count": 105,
   "metadata": {},
   "outputs": [],
   "source": [
    "def clean_green_parquet_files(file_paths, manhattan_zones):\n",
    "    cleaned_dfs = []\n",
    "    \n",
    "    for file_path in file_paths:\n",
    "        print(f\"Processing file: {file_path}\")\n",
    "        \n",
    "        # Read the parquet file\n",
    "        df = pd.read_parquet(file_path)\n",
    "        \n",
    "        print(\"DF Shape OLD\", df.shape)\n",
    "\n",
    "        # Apply the cleaning functions\n",
    "        df = renaming_green_to_standard(df)\n",
    "        df = convert_float_to_int(df)\n",
    "        df = drop_green_invalid_rows(df, manhattan_zones)\n",
    "        df = drop_green_columns(df)\n",
    "        df = drop_missing_values(df)\n",
    "\n",
    "        print(\"DF Shape NEW\", df.shape)\n",
    "\n",
    "        \n",
    "        # Append the cleaned DataFrame to the list\n",
    "        cleaned_dfs.append(df)\n",
    "        \n",
    "        # Save the cleaned DataFrame back to a parquet file (optional)\n",
    "        cleaned_file_path = file_path.replace('.parquet', '_cleaned.parquet')\n",
    "        df.to_parquet(cleaned_file_path)\n",
    "        print(f\"Saved cleaned file: {cleaned_file_path}\")\n",
    "    \n",
    "    # Concatenate all cleaned DataFrames into a single DataFrame\n",
    "    final_df = pd.concat(cleaned_dfs, ignore_index=True)\n",
    "    return final_df"
   ]
  },
  {
   "cell_type": "code",
   "execution_count": 106,
   "metadata": {},
   "outputs": [],
   "source": [
    "def get_parquet_files(data_dir, date_range):\n",
    "    all_files = []\n",
    "    \n",
    "    for date in date_range:\n",
    "        search_pattern = os.path.join(data_dir, f\"green_{date.strftime('%Y_%m')}*.parquet\")\n",
    "        files = glob.glob(search_pattern)\n",
    "        all_files.extend(files)\n",
    "    \n",
    "    return all_files\n",
    "\n",
    "# Usage example:\n",
    "data_dir = \"c:\\\\Users\\\\35385\\\\Desktop\\\\CS_Summer_2024\\\\Shared_GH\\\\New-York-App\\\\data-analytics\\\\cleaning\\\\..\\\\Datasets\\\\taxi_parquets\\\\\"\n",
    "date_range = pd.date_range(start=\"2021-01-01\", end=\"2024-03-31\", freq=\"MS\")\n",
    "\n",
    "file_paths = get_parquet_files(data_dir, date_range)"
   ]
  },
  {
   "cell_type": "code",
   "execution_count": 76,
   "metadata": {},
   "outputs": [
    {
     "name": "stdout",
     "output_type": "stream",
     "text": [
      "Processing file: c:\\Users\\35385\\Desktop\\CS_Summer_2024\\Shared_GH\\New-York-App\\data-analytics\\cleaning\\..\\Datasets\\taxi_parquets\\green_2021_01.parquet\n",
      "DF Shape OLD (76518, 20)\n",
      "Warning: The input is not a DataFrame in convert_float_to_int\n",
      "Warning: Input is not a DataFrame drop_green_invalid_rows\n"
     ]
    },
    {
     "ename": "AttributeError",
     "evalue": "'NoneType' object has no attribute 'columns'",
     "output_type": "error",
     "traceback": [
      "\u001b[1;31m---------------------------------------------------------------------------\u001b[0m",
      "\u001b[1;31mAttributeError\u001b[0m                            Traceback (most recent call last)",
      "Cell \u001b[1;32mIn[76], line 1\u001b[0m\n\u001b[1;32m----> 1\u001b[0m final_green_df \u001b[38;5;241m=\u001b[39m \u001b[43mclean_green_parquet_files\u001b[49m\u001b[43m(\u001b[49m\u001b[43mfile_paths\u001b[49m\u001b[43m,\u001b[49m\u001b[43m \u001b[49m\u001b[43mmanhattan_zones\u001b[49m\u001b[43m)\u001b[49m\n\u001b[0;32m      3\u001b[0m \u001b[38;5;66;03m# Save the final concatenated DataFrame to a parquet file (optional)\u001b[39;00m\n\u001b[0;32m      4\u001b[0m final_green_df\u001b[38;5;241m.\u001b[39mto_parquet(\u001b[38;5;124m'\u001b[39m\u001b[38;5;124mc:\u001b[39m\u001b[38;5;130;01m\\\\\u001b[39;00m\u001b[38;5;124mUsers\u001b[39m\u001b[38;5;130;01m\\\\\u001b[39;00m\u001b[38;5;124m35385\u001b[39m\u001b[38;5;130;01m\\\\\u001b[39;00m\u001b[38;5;124mDesktop\u001b[39m\u001b[38;5;130;01m\\\\\u001b[39;00m\u001b[38;5;124mCS_Summer_2024\u001b[39m\u001b[38;5;130;01m\\\\\u001b[39;00m\u001b[38;5;124mShared_GH\u001b[39m\u001b[38;5;130;01m\\\\\u001b[39;00m\u001b[38;5;124mNew-York-App\u001b[39m\u001b[38;5;130;01m\\\\\u001b[39;00m\u001b[38;5;124mdata-analytics\u001b[39m\u001b[38;5;130;01m\\\\\u001b[39;00m\u001b[38;5;124mcleaning\u001b[39m\u001b[38;5;130;01m\\\\\u001b[39;00m\u001b[38;5;124m..\u001b[39m\u001b[38;5;130;01m\\\\\u001b[39;00m\u001b[38;5;124mDatasets\u001b[39m\u001b[38;5;130;01m\\\\\u001b[39;00m\u001b[38;5;124mtaxi_parquets\u001b[39m\u001b[38;5;130;01m\\\\\u001b[39;00m\u001b[38;5;124mgreen_final_cleaned.parquet\u001b[39m\u001b[38;5;124m'\u001b[39m)\n",
      "Cell \u001b[1;32mIn[74], line 16\u001b[0m, in \u001b[0;36mclean_green_parquet_files\u001b[1;34m(file_paths, manhattan_zones)\u001b[0m\n\u001b[0;32m     14\u001b[0m df \u001b[38;5;241m=\u001b[39m convert_float_to_int(df)\n\u001b[0;32m     15\u001b[0m df \u001b[38;5;241m=\u001b[39m drop_green_invalid_rows(df, manhattan_zones)\n\u001b[1;32m---> 16\u001b[0m df \u001b[38;5;241m=\u001b[39m \u001b[43mdrop_green_columns\u001b[49m\u001b[43m(\u001b[49m\u001b[43mdf\u001b[49m\u001b[43m)\u001b[49m\n\u001b[0;32m     17\u001b[0m df \u001b[38;5;241m=\u001b[39m drop_missing_values(df)\n\u001b[0;32m     19\u001b[0m \u001b[38;5;28mprint\u001b[39m(\u001b[38;5;124m\"\u001b[39m\u001b[38;5;124mDF Shape NEW\u001b[39m\u001b[38;5;124m\"\u001b[39m, df\u001b[38;5;241m.\u001b[39mshape)\n",
      "Cell \u001b[1;32mIn[68], line 7\u001b[0m, in \u001b[0;36mdrop_green_columns\u001b[1;34m(df)\u001b[0m\n\u001b[0;32m      2\u001b[0m columns_to_drop \u001b[38;5;241m=\u001b[39m [\u001b[38;5;124m\"\u001b[39m\u001b[38;5;124mVendorID\u001b[39m\u001b[38;5;124m\"\u001b[39m, \u001b[38;5;124m\"\u001b[39m\u001b[38;5;124mtrip_distance\u001b[39m\u001b[38;5;124m\"\u001b[39m, \u001b[38;5;124m\"\u001b[39m\u001b[38;5;124mRatecodeID\u001b[39m\u001b[38;5;124m\"\u001b[39m, \u001b[38;5;124m\"\u001b[39m\u001b[38;5;124mstore_and_fwd_flag\u001b[39m\u001b[38;5;124m\"\u001b[39m, \u001b[38;5;124m\"\u001b[39m\u001b[38;5;124mpayment_type\u001b[39m\u001b[38;5;124m\"\u001b[39m, \n\u001b[0;32m      3\u001b[0m                    \u001b[38;5;124m\"\u001b[39m\u001b[38;5;124mfare_amount\u001b[39m\u001b[38;5;124m\"\u001b[39m, \u001b[38;5;124m\"\u001b[39m\u001b[38;5;124mextra\u001b[39m\u001b[38;5;124m\"\u001b[39m, \u001b[38;5;124m\"\u001b[39m\u001b[38;5;124mmta_tax\u001b[39m\u001b[38;5;124m\"\u001b[39m, \u001b[38;5;124m\"\u001b[39m\u001b[38;5;124mimprovement_surcharge\u001b[39m\u001b[38;5;124m\"\u001b[39m, \u001b[38;5;124m\"\u001b[39m\u001b[38;5;124mtip_amount\u001b[39m\u001b[38;5;124m\"\u001b[39m, \n\u001b[0;32m      4\u001b[0m                    \u001b[38;5;124m\"\u001b[39m\u001b[38;5;124mtolls_amount\u001b[39m\u001b[38;5;124m\"\u001b[39m, \u001b[38;5;124m\"\u001b[39m\u001b[38;5;124mtotal_amount\u001b[39m\u001b[38;5;124m\"\u001b[39m, \u001b[38;5;124m\"\u001b[39m\u001b[38;5;124mcongestion_surcharge\u001b[39m\u001b[38;5;124m\"\u001b[39m, \u001b[38;5;124m\"\u001b[39m\u001b[38;5;124mtrip_type\u001b[39m\u001b[38;5;124m\"\u001b[39m]\n\u001b[0;32m      6\u001b[0m \u001b[38;5;66;03m# Drop only the columns that exist in the DataFrame\u001b[39;00m\n\u001b[1;32m----> 7\u001b[0m existing_columns_to_drop \u001b[38;5;241m=\u001b[39m \u001b[43m[\u001b[49m\u001b[43mcol\u001b[49m\u001b[43m \u001b[49m\u001b[38;5;28;43;01mfor\u001b[39;49;00m\u001b[43m \u001b[49m\u001b[43mcol\u001b[49m\u001b[43m \u001b[49m\u001b[38;5;129;43;01min\u001b[39;49;00m\u001b[43m \u001b[49m\u001b[43mcolumns_to_drop\u001b[49m\u001b[43m \u001b[49m\u001b[38;5;28;43;01mif\u001b[39;49;00m\u001b[43m \u001b[49m\u001b[43mcol\u001b[49m\u001b[43m \u001b[49m\u001b[38;5;129;43;01min\u001b[39;49;00m\u001b[43m \u001b[49m\u001b[43mdf\u001b[49m\u001b[38;5;241;43m.\u001b[39;49m\u001b[43mcolumns\u001b[49m\u001b[43m]\u001b[49m\n\u001b[0;32m      8\u001b[0m df\u001b[38;5;241m.\u001b[39mdrop(columns\u001b[38;5;241m=\u001b[39mexisting_columns_to_drop, inplace\u001b[38;5;241m=\u001b[39m\u001b[38;5;28;01mTrue\u001b[39;00m)\n\u001b[0;32m     10\u001b[0m \u001b[38;5;66;03m# Return the modified DataFrame\u001b[39;00m\n",
      "Cell \u001b[1;32mIn[68], line 7\u001b[0m, in \u001b[0;36m<listcomp>\u001b[1;34m(.0)\u001b[0m\n\u001b[0;32m      2\u001b[0m columns_to_drop \u001b[38;5;241m=\u001b[39m [\u001b[38;5;124m\"\u001b[39m\u001b[38;5;124mVendorID\u001b[39m\u001b[38;5;124m\"\u001b[39m, \u001b[38;5;124m\"\u001b[39m\u001b[38;5;124mtrip_distance\u001b[39m\u001b[38;5;124m\"\u001b[39m, \u001b[38;5;124m\"\u001b[39m\u001b[38;5;124mRatecodeID\u001b[39m\u001b[38;5;124m\"\u001b[39m, \u001b[38;5;124m\"\u001b[39m\u001b[38;5;124mstore_and_fwd_flag\u001b[39m\u001b[38;5;124m\"\u001b[39m, \u001b[38;5;124m\"\u001b[39m\u001b[38;5;124mpayment_type\u001b[39m\u001b[38;5;124m\"\u001b[39m, \n\u001b[0;32m      3\u001b[0m                    \u001b[38;5;124m\"\u001b[39m\u001b[38;5;124mfare_amount\u001b[39m\u001b[38;5;124m\"\u001b[39m, \u001b[38;5;124m\"\u001b[39m\u001b[38;5;124mextra\u001b[39m\u001b[38;5;124m\"\u001b[39m, \u001b[38;5;124m\"\u001b[39m\u001b[38;5;124mmta_tax\u001b[39m\u001b[38;5;124m\"\u001b[39m, \u001b[38;5;124m\"\u001b[39m\u001b[38;5;124mimprovement_surcharge\u001b[39m\u001b[38;5;124m\"\u001b[39m, \u001b[38;5;124m\"\u001b[39m\u001b[38;5;124mtip_amount\u001b[39m\u001b[38;5;124m\"\u001b[39m, \n\u001b[0;32m      4\u001b[0m                    \u001b[38;5;124m\"\u001b[39m\u001b[38;5;124mtolls_amount\u001b[39m\u001b[38;5;124m\"\u001b[39m, \u001b[38;5;124m\"\u001b[39m\u001b[38;5;124mtotal_amount\u001b[39m\u001b[38;5;124m\"\u001b[39m, \u001b[38;5;124m\"\u001b[39m\u001b[38;5;124mcongestion_surcharge\u001b[39m\u001b[38;5;124m\"\u001b[39m, \u001b[38;5;124m\"\u001b[39m\u001b[38;5;124mtrip_type\u001b[39m\u001b[38;5;124m\"\u001b[39m]\n\u001b[0;32m      6\u001b[0m \u001b[38;5;66;03m# Drop only the columns that exist in the DataFrame\u001b[39;00m\n\u001b[1;32m----> 7\u001b[0m existing_columns_to_drop \u001b[38;5;241m=\u001b[39m [col \u001b[38;5;28;01mfor\u001b[39;00m col \u001b[38;5;129;01min\u001b[39;00m columns_to_drop \u001b[38;5;28;01mif\u001b[39;00m col \u001b[38;5;129;01min\u001b[39;00m \u001b[43mdf\u001b[49m\u001b[38;5;241;43m.\u001b[39;49m\u001b[43mcolumns\u001b[49m]\n\u001b[0;32m      8\u001b[0m df\u001b[38;5;241m.\u001b[39mdrop(columns\u001b[38;5;241m=\u001b[39mexisting_columns_to_drop, inplace\u001b[38;5;241m=\u001b[39m\u001b[38;5;28;01mTrue\u001b[39;00m)\n\u001b[0;32m     10\u001b[0m \u001b[38;5;66;03m# Return the modified DataFrame\u001b[39;00m\n",
      "\u001b[1;31mAttributeError\u001b[0m: 'NoneType' object has no attribute 'columns'"
     ]
    }
   ],
   "source": [
    "final_green_df = clean_green_parquet_files(file_paths, manhattan_zones)\n",
    "\n",
    "# Save the final concatenated DataFrame to a parquet file (optional)\n",
    "final_green_df.to_parquet('c:\\\\Users\\\\35385\\\\Desktop\\\\CS_Summer_2024\\\\Shared_GH\\\\New-York-App\\\\data-analytics\\\\cleaning\\\\..\\\\Datasets\\\\taxi_parquets\\\\green_final_cleaned.parquet')\n",
    "print(\"Saved final concatenated DataFrame: green_final_cleaned.parquet\")"
   ]
  },
  {
   "cell_type": "code",
   "execution_count": null,
   "metadata": {},
   "outputs": [],
   "source": [
    "\"\"\" \n",
    "Begin by loading 1 parquet file as pandas dataframe from each of the 4 TLC genres.\n",
    "Error catching across OSes implemented: cwd, data directory, paths etc.\n",
    "\"\"\"\n",
    "\n",
    "cwd = os.getcwd()\n",
    "print(\"Current Working Directory:\", cwd)\n",
    "\n",
    "# Define the directory where the data is located relative to the current working directory\n",
    "print(\"Data Directory:\", data_dir)\n",
    "\n",
    "# Define the file paths relative to the data directory\n",
    "green_final_cleaned_path = os.path.join(data_dir, \"green_final_cleaned.parquet\")\n",
    "\n",
    "# Print the constructed file paths to verify\n",
    "print(\"green_final_cleaned:\", green_final_cleaned_path)\n"
   ]
  },
  {
   "cell_type": "code",
   "execution_count": null,
   "metadata": {},
   "outputs": [],
   "source": [
    "# Read the parquet files using the relative file paths\n",
    "green_final_cleaned = pd.read_parquet(green_final_cleaned_path, engine='pyarrow')"
   ]
  },
  {
   "cell_type": "code",
   "execution_count": 63,
   "metadata": {},
   "outputs": [
    {
     "ename": "NameError",
     "evalue": "name 'green_final_cleaned' is not defined",
     "output_type": "error",
     "traceback": [
      "\u001b[1;31m---------------------------------------------------------------------------\u001b[0m",
      "\u001b[1;31mNameError\u001b[0m                                 Traceback (most recent call last)",
      "Cell \u001b[1;32mIn[63], line 1\u001b[0m\n\u001b[1;32m----> 1\u001b[0m \u001b[43mgreen_final_cleaned\u001b[49m\u001b[38;5;241m.\u001b[39mshape\n",
      "\u001b[1;31mNameError\u001b[0m: name 'green_final_cleaned' is not defined"
     ]
    }
   ],
   "source": [
    "green_final_cleaned.shape"
   ]
  },
  {
   "cell_type": "code",
   "execution_count": null,
   "metadata": {},
   "outputs": [],
   "source": [
    "green_final_cleaned.info()"
   ]
  },
  {
   "cell_type": "code",
   "execution_count": null,
   "metadata": {},
   "outputs": [],
   "source": [
    "green_final_cleaned.head(10)"
   ]
  },
  {
   "cell_type": "code",
   "execution_count": null,
   "metadata": {},
   "outputs": [],
   "source": [
    "green_final_cleaned = calculate_zone_busy_in_chunks(green_final_cleaned)\n",
    "print(green_final_cleaned"
   ]
  }
 ],
 "metadata": {
  "kernelspec": {
   "display_name": "comp47350py311",
   "language": "python",
   "name": "python3"
  },
  "language_info": {
   "codemirror_mode": {
    "name": "ipython",
    "version": 3
   },
   "file_extension": ".py",
   "mimetype": "text/x-python",
   "name": "python",
   "nbconvert_exporter": "python",
   "pygments_lexer": "ipython3",
   "version": "3.11.7"
  }
 },
 "nbformat": 4,
 "nbformat_minor": 2
}
